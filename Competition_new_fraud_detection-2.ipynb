{
 "cells": [
  {
   "cell_type": "code",
   "execution_count": 163,
   "metadata": {},
   "outputs": [],
   "source": [
    "import pandas as pd\n",
    "import numpy as np\n",
    "from sklearn import preprocessing\n",
    "from sklearn.ensemble import ExtraTreesClassifier\n",
    "from sklearn.feature_selection import RFE\n",
    "from sklearn.linear_model import LogisticRegression\n",
    "from sklearn.feature_selection import SelectKBest, SelectFromModel, chi2\n",
    "from sklearn.ensemble import RandomForestClassifier\n",
    "from lightgbm import LGBMClassifier\n",
    "from sklearn.model_selection import train_test_split, GroupKFold, StratifiedKFold, GridSearchCV, ShuffleSplit, RandomizedSearchCV, learning_curve\n",
    "from sklearn.metrics import classification_report, confusion_matrix, roc_curve, roc_auc_score,auc, accuracy_score\n",
    "from xgboost import XGBClassifier\n",
    "from imblearn.over_sampling import RandomOverSampler, SMOTE, ADASYN, KMeansSMOTE, SMOTENC, SVMSMOTE,BorderlineSMOTE\n",
    "from imblearn.under_sampling import RandomUnderSampler, NearMiss\n",
    "from sklearn.utils import resample\n",
    "import re\n",
    "import seaborn as sns\n",
    "import matplotlib.pyplot as plt\n",
    "import random\n",
    "import warnings; warnings.simplefilter('ignore')"
   ]
  },
  {
   "cell_type": "code",
   "execution_count": 2,
   "metadata": {},
   "outputs": [],
   "source": [
    "raw_transaction = pd.read_csv('..\\\\new_fraud_train_transaction.csv')\n",
    "raw_identity = pd.read_csv('..\\\\train_identity.csv')"
   ]
  },
  {
   "cell_type": "code",
   "execution_count": 3,
   "metadata": {},
   "outputs": [
    {
     "data": {
      "text/html": [
       "<div>\n",
       "<style scoped>\n",
       "    .dataframe tbody tr th:only-of-type {\n",
       "        vertical-align: middle;\n",
       "    }\n",
       "\n",
       "    .dataframe tbody tr th {\n",
       "        vertical-align: top;\n",
       "    }\n",
       "\n",
       "    .dataframe thead th {\n",
       "        text-align: right;\n",
       "    }\n",
       "</style>\n",
       "<table border=\"1\" class=\"dataframe\">\n",
       "  <thead>\n",
       "    <tr style=\"text-align: right;\">\n",
       "      <th></th>\n",
       "      <th>TransactionID</th>\n",
       "      <th>isFraud</th>\n",
       "      <th>TransactionDT</th>\n",
       "      <th>TransactionAmt</th>\n",
       "      <th>ProductCD</th>\n",
       "      <th>card1</th>\n",
       "      <th>card2</th>\n",
       "      <th>card3</th>\n",
       "      <th>card4</th>\n",
       "      <th>card5</th>\n",
       "      <th>...</th>\n",
       "      <th>V330</th>\n",
       "      <th>V331</th>\n",
       "      <th>V332</th>\n",
       "      <th>V333</th>\n",
       "      <th>V334</th>\n",
       "      <th>V335</th>\n",
       "      <th>V336</th>\n",
       "      <th>V337</th>\n",
       "      <th>V338</th>\n",
       "      <th>V339</th>\n",
       "    </tr>\n",
       "  </thead>\n",
       "  <tbody>\n",
       "    <tr>\n",
       "      <th>0</th>\n",
       "      <td>2987000</td>\n",
       "      <td>0</td>\n",
       "      <td>86400</td>\n",
       "      <td>68.5</td>\n",
       "      <td>W</td>\n",
       "      <td>13926</td>\n",
       "      <td>NaN</td>\n",
       "      <td>150.0</td>\n",
       "      <td>discover</td>\n",
       "      <td>142.0</td>\n",
       "      <td>...</td>\n",
       "      <td>NaN</td>\n",
       "      <td>NaN</td>\n",
       "      <td>NaN</td>\n",
       "      <td>NaN</td>\n",
       "      <td>NaN</td>\n",
       "      <td>NaN</td>\n",
       "      <td>NaN</td>\n",
       "      <td>NaN</td>\n",
       "      <td>NaN</td>\n",
       "      <td>NaN</td>\n",
       "    </tr>\n",
       "    <tr>\n",
       "      <th>1</th>\n",
       "      <td>2987001</td>\n",
       "      <td>0</td>\n",
       "      <td>86401</td>\n",
       "      <td>29.0</td>\n",
       "      <td>W</td>\n",
       "      <td>2755</td>\n",
       "      <td>404.0</td>\n",
       "      <td>150.0</td>\n",
       "      <td>mastercard</td>\n",
       "      <td>102.0</td>\n",
       "      <td>...</td>\n",
       "      <td>NaN</td>\n",
       "      <td>NaN</td>\n",
       "      <td>NaN</td>\n",
       "      <td>NaN</td>\n",
       "      <td>NaN</td>\n",
       "      <td>NaN</td>\n",
       "      <td>NaN</td>\n",
       "      <td>NaN</td>\n",
       "      <td>NaN</td>\n",
       "      <td>NaN</td>\n",
       "    </tr>\n",
       "    <tr>\n",
       "      <th>2</th>\n",
       "      <td>2987002</td>\n",
       "      <td>0</td>\n",
       "      <td>86469</td>\n",
       "      <td>59.0</td>\n",
       "      <td>W</td>\n",
       "      <td>4663</td>\n",
       "      <td>490.0</td>\n",
       "      <td>150.0</td>\n",
       "      <td>visa</td>\n",
       "      <td>166.0</td>\n",
       "      <td>...</td>\n",
       "      <td>NaN</td>\n",
       "      <td>NaN</td>\n",
       "      <td>NaN</td>\n",
       "      <td>NaN</td>\n",
       "      <td>NaN</td>\n",
       "      <td>NaN</td>\n",
       "      <td>NaN</td>\n",
       "      <td>NaN</td>\n",
       "      <td>NaN</td>\n",
       "      <td>NaN</td>\n",
       "    </tr>\n",
       "    <tr>\n",
       "      <th>3</th>\n",
       "      <td>2987003</td>\n",
       "      <td>0</td>\n",
       "      <td>86499</td>\n",
       "      <td>50.0</td>\n",
       "      <td>W</td>\n",
       "      <td>18132</td>\n",
       "      <td>567.0</td>\n",
       "      <td>150.0</td>\n",
       "      <td>mastercard</td>\n",
       "      <td>117.0</td>\n",
       "      <td>...</td>\n",
       "      <td>NaN</td>\n",
       "      <td>NaN</td>\n",
       "      <td>NaN</td>\n",
       "      <td>NaN</td>\n",
       "      <td>NaN</td>\n",
       "      <td>NaN</td>\n",
       "      <td>NaN</td>\n",
       "      <td>NaN</td>\n",
       "      <td>NaN</td>\n",
       "      <td>NaN</td>\n",
       "    </tr>\n",
       "  </tbody>\n",
       "</table>\n",
       "<p>4 rows × 394 columns</p>\n",
       "</div>"
      ],
      "text/plain": [
       "   TransactionID  isFraud  TransactionDT  TransactionAmt ProductCD  card1  \\\n",
       "0        2987000        0          86400            68.5         W  13926   \n",
       "1        2987001        0          86401            29.0         W   2755   \n",
       "2        2987002        0          86469            59.0         W   4663   \n",
       "3        2987003        0          86499            50.0         W  18132   \n",
       "\n",
       "   card2  card3       card4  card5  ... V330  V331  V332  V333  V334 V335  \\\n",
       "0    NaN  150.0    discover  142.0  ...  NaN   NaN   NaN   NaN   NaN  NaN   \n",
       "1  404.0  150.0  mastercard  102.0  ...  NaN   NaN   NaN   NaN   NaN  NaN   \n",
       "2  490.0  150.0        visa  166.0  ...  NaN   NaN   NaN   NaN   NaN  NaN   \n",
       "3  567.0  150.0  mastercard  117.0  ...  NaN   NaN   NaN   NaN   NaN  NaN   \n",
       "\n",
       "  V336  V337  V338  V339  \n",
       "0  NaN   NaN   NaN   NaN  \n",
       "1  NaN   NaN   NaN   NaN  \n",
       "2  NaN   NaN   NaN   NaN  \n",
       "3  NaN   NaN   NaN   NaN  \n",
       "\n",
       "[4 rows x 394 columns]"
      ]
     },
     "execution_count": 3,
     "metadata": {},
     "output_type": "execute_result"
    }
   ],
   "source": [
    "raw_transaction.head(4)"
   ]
  },
  {
   "cell_type": "code",
   "execution_count": 4,
   "metadata": {},
   "outputs": [
    {
     "name": "stdout",
     "output_type": "stream",
     "text": [
      "Number of columns of original dataset of transactions: 394\n",
      "Amount of columns we will remove due to many NaN values: 168\n"
     ]
    }
   ],
   "source": [
    "#If more that 70% of the raws in a column are missing/nan values we will get rid of the column\n",
    "print('Number of columns of original dataset of transactions:',len(raw_transaction.columns))\n",
    "raw_transaction_column_names_with_may_nan_values = []\n",
    "for column_name in raw_transaction.columns:\n",
    "    if raw_transaction[column_name].isna().sum() > 0.7*len(raw_transaction):\n",
    "        raw_transaction_column_names_with_may_nan_values.append(column_name)\n",
    "print('Amount of columns we will remove due to many NaN values:',len(raw_transaction_column_names_with_may_nan_values))"
   ]
  },
  {
   "cell_type": "code",
   "execution_count": 5,
   "metadata": {},
   "outputs": [
    {
     "name": "stdout",
     "output_type": "stream",
     "text": [
      "590540\n"
     ]
    },
    {
     "data": {
      "text/plain": [
       "590540"
      ]
     },
     "execution_count": 5,
     "metadata": {},
     "output_type": "execute_result"
    }
   ],
   "source": [
    "#Let's see what is going on with the raws\n",
    "print(len(raw_transaction))\n",
    "len(raw_transaction.dropna(how='all'))"
   ]
  },
  {
   "cell_type": "code",
   "execution_count": 6,
   "metadata": {},
   "outputs": [
    {
     "name": "stdout",
     "output_type": "stream",
     "text": [
      "226\n"
     ]
    }
   ],
   "source": [
    "transactions = raw_transaction.drop(columns = raw_transaction_column_names_with_may_nan_values)\n",
    "print(len(transactions.columns))"
   ]
  },
  {
   "cell_type": "code",
   "execution_count": 7,
   "metadata": {},
   "outputs": [
    {
     "data": {
      "text/html": [
       "<div>\n",
       "<style scoped>\n",
       "    .dataframe tbody tr th:only-of-type {\n",
       "        vertical-align: middle;\n",
       "    }\n",
       "\n",
       "    .dataframe tbody tr th {\n",
       "        vertical-align: top;\n",
       "    }\n",
       "\n",
       "    .dataframe thead th {\n",
       "        text-align: right;\n",
       "    }\n",
       "</style>\n",
       "<table border=\"1\" class=\"dataframe\">\n",
       "  <thead>\n",
       "    <tr style=\"text-align: right;\">\n",
       "      <th></th>\n",
       "      <th>TransactionID</th>\n",
       "      <th>id_01</th>\n",
       "      <th>id_02</th>\n",
       "      <th>id_03</th>\n",
       "      <th>id_04</th>\n",
       "      <th>id_05</th>\n",
       "      <th>id_06</th>\n",
       "      <th>id_07</th>\n",
       "      <th>id_08</th>\n",
       "      <th>id_09</th>\n",
       "      <th>...</th>\n",
       "      <th>id_31</th>\n",
       "      <th>id_32</th>\n",
       "      <th>id_33</th>\n",
       "      <th>id_34</th>\n",
       "      <th>id_35</th>\n",
       "      <th>id_36</th>\n",
       "      <th>id_37</th>\n",
       "      <th>id_38</th>\n",
       "      <th>DeviceType</th>\n",
       "      <th>DeviceInfo</th>\n",
       "    </tr>\n",
       "  </thead>\n",
       "  <tbody>\n",
       "    <tr>\n",
       "      <th>0</th>\n",
       "      <td>2987004</td>\n",
       "      <td>0</td>\n",
       "      <td>70787.0</td>\n",
       "      <td>NaN</td>\n",
       "      <td>NaN</td>\n",
       "      <td>NaN</td>\n",
       "      <td>NaN</td>\n",
       "      <td>NaN</td>\n",
       "      <td>NaN</td>\n",
       "      <td>NaN</td>\n",
       "      <td>...</td>\n",
       "      <td>samsung browser 6.2</td>\n",
       "      <td>32.0</td>\n",
       "      <td>2220x1080</td>\n",
       "      <td>match_status:2</td>\n",
       "      <td>T</td>\n",
       "      <td>F</td>\n",
       "      <td>T</td>\n",
       "      <td>T</td>\n",
       "      <td>mobile</td>\n",
       "      <td>SAMSUNG SM-G892A Build/NRD90M</td>\n",
       "    </tr>\n",
       "    <tr>\n",
       "      <th>1</th>\n",
       "      <td>2987008</td>\n",
       "      <td>-5</td>\n",
       "      <td>98945.0</td>\n",
       "      <td>NaN</td>\n",
       "      <td>NaN</td>\n",
       "      <td>0.0</td>\n",
       "      <td>-5.0</td>\n",
       "      <td>NaN</td>\n",
       "      <td>NaN</td>\n",
       "      <td>NaN</td>\n",
       "      <td>...</td>\n",
       "      <td>mobile safari 11.0</td>\n",
       "      <td>32.0</td>\n",
       "      <td>1334x750</td>\n",
       "      <td>match_status:1</td>\n",
       "      <td>T</td>\n",
       "      <td>F</td>\n",
       "      <td>F</td>\n",
       "      <td>T</td>\n",
       "      <td>mobile</td>\n",
       "      <td>iOS Device</td>\n",
       "    </tr>\n",
       "    <tr>\n",
       "      <th>2</th>\n",
       "      <td>2987010</td>\n",
       "      <td>-5</td>\n",
       "      <td>191631.0</td>\n",
       "      <td>0.0</td>\n",
       "      <td>0.0</td>\n",
       "      <td>0.0</td>\n",
       "      <td>0.0</td>\n",
       "      <td>NaN</td>\n",
       "      <td>NaN</td>\n",
       "      <td>0.0</td>\n",
       "      <td>...</td>\n",
       "      <td>chrome 62.0</td>\n",
       "      <td>NaN</td>\n",
       "      <td>NaN</td>\n",
       "      <td>NaN</td>\n",
       "      <td>F</td>\n",
       "      <td>F</td>\n",
       "      <td>T</td>\n",
       "      <td>T</td>\n",
       "      <td>desktop</td>\n",
       "      <td>Windows</td>\n",
       "    </tr>\n",
       "    <tr>\n",
       "      <th>3</th>\n",
       "      <td>2987011</td>\n",
       "      <td>-5</td>\n",
       "      <td>221832.0</td>\n",
       "      <td>NaN</td>\n",
       "      <td>NaN</td>\n",
       "      <td>0.0</td>\n",
       "      <td>-6.0</td>\n",
       "      <td>NaN</td>\n",
       "      <td>NaN</td>\n",
       "      <td>NaN</td>\n",
       "      <td>...</td>\n",
       "      <td>chrome 62.0</td>\n",
       "      <td>NaN</td>\n",
       "      <td>NaN</td>\n",
       "      <td>NaN</td>\n",
       "      <td>F</td>\n",
       "      <td>F</td>\n",
       "      <td>T</td>\n",
       "      <td>T</td>\n",
       "      <td>desktop</td>\n",
       "      <td>NaN</td>\n",
       "    </tr>\n",
       "  </tbody>\n",
       "</table>\n",
       "<p>4 rows × 41 columns</p>\n",
       "</div>"
      ],
      "text/plain": [
       "   TransactionID  id_01     id_02  id_03  id_04  id_05  id_06  id_07  id_08  \\\n",
       "0        2987004      0   70787.0    NaN    NaN    NaN    NaN    NaN    NaN   \n",
       "1        2987008     -5   98945.0    NaN    NaN    0.0   -5.0    NaN    NaN   \n",
       "2        2987010     -5  191631.0    0.0    0.0    0.0    0.0    NaN    NaN   \n",
       "3        2987011     -5  221832.0    NaN    NaN    0.0   -6.0    NaN    NaN   \n",
       "\n",
       "   id_09  ...                id_31  id_32      id_33           id_34  id_35  \\\n",
       "0    NaN  ...  samsung browser 6.2   32.0  2220x1080  match_status:2      T   \n",
       "1    NaN  ...   mobile safari 11.0   32.0   1334x750  match_status:1      T   \n",
       "2    0.0  ...          chrome 62.0    NaN        NaN             NaN      F   \n",
       "3    NaN  ...          chrome 62.0    NaN        NaN             NaN      F   \n",
       "\n",
       "  id_36 id_37  id_38  DeviceType                     DeviceInfo  \n",
       "0     F     T      T      mobile  SAMSUNG SM-G892A Build/NRD90M  \n",
       "1     F     F      T      mobile                     iOS Device  \n",
       "2     F     T      T     desktop                        Windows  \n",
       "3     F     T      T     desktop                            NaN  \n",
       "\n",
       "[4 rows x 41 columns]"
      ]
     },
     "execution_count": 7,
     "metadata": {},
     "output_type": "execute_result"
    }
   ],
   "source": [
    "raw_identity .head(4)"
   ]
  },
  {
   "cell_type": "code",
   "execution_count": 8,
   "metadata": {},
   "outputs": [
    {
     "name": "stdout",
     "output_type": "stream",
     "text": [
      "Number of columns of original dataset of transactions: 41\n",
      "Amount of columns we will remove due to many NaN values: 9\n"
     ]
    }
   ],
   "source": [
    "#If more that 70% of the raws in a column are missing/nan values we will get rid of the column\n",
    "print('Number of columns of original dataset of transactions:',len(raw_identity.columns))\n",
    "raw_identity_column_names_with_may_nan_values = []\n",
    "for column_name in raw_identity.columns:\n",
    "    if raw_identity [column_name].isna().sum() > 0.7*len(raw_identity):\n",
    "        raw_identity_column_names_with_may_nan_values.append(column_name)\n",
    "print('Amount of columns we will remove due to many NaN values:',len(raw_identity_column_names_with_may_nan_values))"
   ]
  },
  {
   "cell_type": "markdown",
   "metadata": {},
   "source": [
    "#### WoW! Amost halft of the columns we will be removed because of the huge amount of NaN values"
   ]
  },
  {
   "cell_type": "code",
   "execution_count": 9,
   "metadata": {},
   "outputs": [
    {
     "name": "stdout",
     "output_type": "stream",
     "text": [
      "144233\n"
     ]
    },
    {
     "data": {
      "text/plain": [
       "144233"
      ]
     },
     "execution_count": 9,
     "metadata": {},
     "output_type": "execute_result"
    }
   ],
   "source": [
    "#Let's see what is going on with the raws\n",
    "print(len(raw_identity))\n",
    "len(raw_identity.dropna(how='all'))"
   ]
  },
  {
   "cell_type": "code",
   "execution_count": 10,
   "metadata": {},
   "outputs": [
    {
     "name": "stdout",
     "output_type": "stream",
     "text": [
      "32\n"
     ]
    }
   ],
   "source": [
    "identity = raw_identity.drop(columns = raw_identity_column_names_with_may_nan_values)\n",
    "print(len(identity.columns))"
   ]
  },
  {
   "cell_type": "code",
   "execution_count": 11,
   "metadata": {},
   "outputs": [
    {
     "data": {
      "text/html": [
       "<div>\n",
       "<style scoped>\n",
       "    .dataframe tbody tr th:only-of-type {\n",
       "        vertical-align: middle;\n",
       "    }\n",
       "\n",
       "    .dataframe tbody tr th {\n",
       "        vertical-align: top;\n",
       "    }\n",
       "\n",
       "    .dataframe thead th {\n",
       "        text-align: right;\n",
       "    }\n",
       "</style>\n",
       "<table border=\"1\" class=\"dataframe\">\n",
       "  <thead>\n",
       "    <tr style=\"text-align: right;\">\n",
       "      <th></th>\n",
       "      <th>TransactionID</th>\n",
       "      <th>id_01</th>\n",
       "      <th>id_02</th>\n",
       "      <th>id_03</th>\n",
       "      <th>id_04</th>\n",
       "      <th>id_05</th>\n",
       "      <th>id_06</th>\n",
       "      <th>id_09</th>\n",
       "      <th>id_10</th>\n",
       "      <th>id_11</th>\n",
       "      <th>id_12</th>\n",
       "      <th>id_13</th>\n",
       "      <th>id_14</th>\n",
       "      <th>id_15</th>\n",
       "      <th>id_16</th>\n",
       "      <th>id_17</th>\n",
       "      <th>id_18</th>\n",
       "      <th>id_19</th>\n",
       "      <th>id_20</th>\n",
       "      <th>id_28</th>\n",
       "    </tr>\n",
       "  </thead>\n",
       "  <tbody>\n",
       "    <tr>\n",
       "      <th>4</th>\n",
       "      <td>2987016</td>\n",
       "      <td>0</td>\n",
       "      <td>7460.0</td>\n",
       "      <td>0.0</td>\n",
       "      <td>0.0</td>\n",
       "      <td>1.0</td>\n",
       "      <td>0.0</td>\n",
       "      <td>0.0</td>\n",
       "      <td>0.0</td>\n",
       "      <td>100.0</td>\n",
       "      <td>NotFound</td>\n",
       "      <td>NaN</td>\n",
       "      <td>-300.0</td>\n",
       "      <td>Found</td>\n",
       "      <td>Found</td>\n",
       "      <td>166.0</td>\n",
       "      <td>15.0</td>\n",
       "      <td>529.0</td>\n",
       "      <td>575.0</td>\n",
       "      <td>Found</td>\n",
       "    </tr>\n",
       "    <tr>\n",
       "      <th>5</th>\n",
       "      <td>2987017</td>\n",
       "      <td>-5</td>\n",
       "      <td>61141.0</td>\n",
       "      <td>3.0</td>\n",
       "      <td>0.0</td>\n",
       "      <td>3.0</td>\n",
       "      <td>0.0</td>\n",
       "      <td>3.0</td>\n",
       "      <td>0.0</td>\n",
       "      <td>100.0</td>\n",
       "      <td>NotFound</td>\n",
       "      <td>52.0</td>\n",
       "      <td>-300.0</td>\n",
       "      <td>Found</td>\n",
       "      <td>Found</td>\n",
       "      <td>166.0</td>\n",
       "      <td>18.0</td>\n",
       "      <td>529.0</td>\n",
       "      <td>600.0</td>\n",
       "      <td>Found</td>\n",
       "    </tr>\n",
       "    <tr>\n",
       "      <th>6</th>\n",
       "      <td>2987022</td>\n",
       "      <td>-15</td>\n",
       "      <td>NaN</td>\n",
       "      <td>NaN</td>\n",
       "      <td>NaN</td>\n",
       "      <td>NaN</td>\n",
       "      <td>NaN</td>\n",
       "      <td>NaN</td>\n",
       "      <td>NaN</td>\n",
       "      <td>NaN</td>\n",
       "      <td>NotFound</td>\n",
       "      <td>14.0</td>\n",
       "      <td>NaN</td>\n",
       "      <td>NaN</td>\n",
       "      <td>NaN</td>\n",
       "      <td>NaN</td>\n",
       "      <td>NaN</td>\n",
       "      <td>NaN</td>\n",
       "      <td>NaN</td>\n",
       "      <td>NaN</td>\n",
       "    </tr>\n",
       "  </tbody>\n",
       "</table>\n",
       "</div>"
      ],
      "text/plain": [
       "   TransactionID  id_01    id_02  id_03  id_04  id_05  id_06  id_09  id_10  \\\n",
       "4        2987016      0   7460.0    0.0    0.0    1.0    0.0    0.0    0.0   \n",
       "5        2987017     -5  61141.0    3.0    0.0    3.0    0.0    3.0    0.0   \n",
       "6        2987022    -15      NaN    NaN    NaN    NaN    NaN    NaN    NaN   \n",
       "\n",
       "   id_11     id_12  id_13  id_14  id_15  id_16  id_17  id_18  id_19  id_20  \\\n",
       "4  100.0  NotFound    NaN -300.0  Found  Found  166.0   15.0  529.0  575.0   \n",
       "5  100.0  NotFound   52.0 -300.0  Found  Found  166.0   18.0  529.0  600.0   \n",
       "6    NaN  NotFound   14.0    NaN    NaN    NaN    NaN    NaN    NaN    NaN   \n",
       "\n",
       "   id_28  \n",
       "4  Found  \n",
       "5  Found  \n",
       "6    NaN  "
      ]
     },
     "execution_count": 11,
     "metadata": {},
     "output_type": "execute_result"
    }
   ],
   "source": [
    "identity.iloc[4:7, 0:20]"
   ]
  },
  {
   "cell_type": "code",
   "execution_count": 12,
   "metadata": {},
   "outputs": [
    {
     "data": {
      "text/html": [
       "<div>\n",
       "<style scoped>\n",
       "    .dataframe tbody tr th:only-of-type {\n",
       "        vertical-align: middle;\n",
       "    }\n",
       "\n",
       "    .dataframe tbody tr th {\n",
       "        vertical-align: top;\n",
       "    }\n",
       "\n",
       "    .dataframe thead th {\n",
       "        text-align: right;\n",
       "    }\n",
       "</style>\n",
       "<table border=\"1\" class=\"dataframe\">\n",
       "  <thead>\n",
       "    <tr style=\"text-align: right;\">\n",
       "      <th></th>\n",
       "      <th>id_29</th>\n",
       "      <th>id_30</th>\n",
       "      <th>id_31</th>\n",
       "      <th>id_32</th>\n",
       "      <th>id_33</th>\n",
       "      <th>id_34</th>\n",
       "      <th>id_35</th>\n",
       "      <th>id_36</th>\n",
       "      <th>id_37</th>\n",
       "      <th>id_38</th>\n",
       "      <th>DeviceType</th>\n",
       "      <th>DeviceInfo</th>\n",
       "    </tr>\n",
       "  </thead>\n",
       "  <tbody>\n",
       "    <tr>\n",
       "      <th>4</th>\n",
       "      <td>Found</td>\n",
       "      <td>Mac OS X 10_11_6</td>\n",
       "      <td>chrome 62.0</td>\n",
       "      <td>24.0</td>\n",
       "      <td>1280x800</td>\n",
       "      <td>match_status:2</td>\n",
       "      <td>T</td>\n",
       "      <td>F</td>\n",
       "      <td>T</td>\n",
       "      <td>T</td>\n",
       "      <td>desktop</td>\n",
       "      <td>MacOS</td>\n",
       "    </tr>\n",
       "    <tr>\n",
       "      <th>5</th>\n",
       "      <td>Found</td>\n",
       "      <td>Windows 10</td>\n",
       "      <td>chrome 62.0</td>\n",
       "      <td>24.0</td>\n",
       "      <td>1366x768</td>\n",
       "      <td>match_status:2</td>\n",
       "      <td>T</td>\n",
       "      <td>F</td>\n",
       "      <td>T</td>\n",
       "      <td>T</td>\n",
       "      <td>desktop</td>\n",
       "      <td>Windows</td>\n",
       "    </tr>\n",
       "    <tr>\n",
       "      <th>6</th>\n",
       "      <td>NaN</td>\n",
       "      <td>NaN</td>\n",
       "      <td>NaN</td>\n",
       "      <td>NaN</td>\n",
       "      <td>NaN</td>\n",
       "      <td>NaN</td>\n",
       "      <td>NaN</td>\n",
       "      <td>NaN</td>\n",
       "      <td>NaN</td>\n",
       "      <td>NaN</td>\n",
       "      <td>NaN</td>\n",
       "      <td>NaN</td>\n",
       "    </tr>\n",
       "  </tbody>\n",
       "</table>\n",
       "</div>"
      ],
      "text/plain": [
       "   id_29             id_30        id_31  id_32     id_33           id_34  \\\n",
       "4  Found  Mac OS X 10_11_6  chrome 62.0   24.0  1280x800  match_status:2   \n",
       "5  Found        Windows 10  chrome 62.0   24.0  1366x768  match_status:2   \n",
       "6    NaN               NaN          NaN    NaN       NaN             NaN   \n",
       "\n",
       "  id_35 id_36 id_37 id_38 DeviceType DeviceInfo  \n",
       "4     T     F     T     T    desktop      MacOS  \n",
       "5     T     F     T     T    desktop    Windows  \n",
       "6   NaN   NaN   NaN   NaN        NaN        NaN  "
      ]
     },
     "execution_count": 12,
     "metadata": {},
     "output_type": "execute_result"
    }
   ],
   "source": [
    "identity.iloc[4:7, 20:32]"
   ]
  },
  {
   "cell_type": "code",
   "execution_count": 13,
   "metadata": {},
   "outputs": [
    {
     "data": {
      "text/plain": [
       "140985"
      ]
     },
     "execution_count": 13,
     "metadata": {},
     "output_type": "execute_result"
    }
   ],
   "source": [
    "#we want 1/3 or 10 of the cells in a raw not have missing values\n",
    "identity = identity.dropna(thresh = 10 )\n",
    "len(identity)"
   ]
  },
  {
   "cell_type": "markdown",
   "metadata": {},
   "source": [
    "#### Nice! There aren't any raws with all the columns missing values. However, this is not enough!"
   ]
  },
  {
   "cell_type": "markdown",
   "metadata": {},
   "source": [
    "#### Transform Categorical columns in Transactions Dataset"
   ]
  },
  {
   "cell_type": "code",
   "execution_count": 14,
   "metadata": {},
   "outputs": [],
   "source": [
    "numerical_columns = transactions._get_numeric_data().columns"
   ]
  },
  {
   "cell_type": "code",
   "execution_count": 15,
   "metadata": {},
   "outputs": [],
   "source": [
    "categorical_columns = list(set(transactions.columns) - set(numerical_columns))"
   ]
  },
  {
   "cell_type": "code",
   "execution_count": 16,
   "metadata": {},
   "outputs": [],
   "source": [
    "mails = []\n",
    "for categorical_column in categorical_columns:\n",
    "    if len(transactions[categorical_column ].value_counts()) ==2:\n",
    "        transactions[str(categorical_column + '_true')] = transactions[categorical_column].map({'F':0,'NaN':0, 'T':1}).fillna(0)\n",
    "    elif categorical_column == 'card6':\n",
    "        transactions[str(categorical_column + '_debit')] = transactions[categorical_column].map({'debit':1, 'credit':0, \n",
    "                                                                                                'charge card':0, \n",
    "                                                                                                 'debit or credit':0 }).fillna(0)\n",
    "    elif categorical_column == 'M4':\n",
    "        transactions[str(categorical_column + '_M0')] = transactions[categorical_column].map({'M0':1, 'M1':0, 'M2':0}).fillna(0)\n",
    "    \n",
    "    elif categorical_column == 'ProductCD':\n",
    "        transactions[str(categorical_column + '_W')] = transactions[categorical_column].map({'W':1, 'C':0, 'R':0, 'H':0, \n",
    "                                                                                             'S':0}).fillna(0)\n",
    "    elif categorical_column == 'card4':\n",
    "        transactions[str(categorical_column + '_visa')] = transactions[categorical_column].map({'visa':1, 'mastercard':0,\n",
    "                                                                                                'american express':0, \n",
    "                                                                                                'discover':0}).fillna(0)\n",
    "    elif categorical_column == 'P_emaildomain':\n",
    "        for mail in transactions['P_emaildomain']:\n",
    "            if mail == 'gmail.com' or mail=='yahoo.com':\n",
    "                mails.append(1)\n",
    "            else:\n",
    "                mails.append(0)\n",
    "        transactions[str(categorical_column + '_gmail/yahoo')] = mails\n",
    "                "
   ]
  },
  {
   "cell_type": "code",
   "execution_count": 17,
   "metadata": {},
   "outputs": [],
   "source": [
    "transactions= transactions.drop(columns =categorical_columns)"
   ]
  },
  {
   "cell_type": "code",
   "execution_count": 18,
   "metadata": {},
   "outputs": [
    {
     "data": {
      "text/html": [
       "<div>\n",
       "<style scoped>\n",
       "    .dataframe tbody tr th:only-of-type {\n",
       "        vertical-align: middle;\n",
       "    }\n",
       "\n",
       "    .dataframe tbody tr th {\n",
       "        vertical-align: top;\n",
       "    }\n",
       "\n",
       "    .dataframe thead th {\n",
       "        text-align: right;\n",
       "    }\n",
       "</style>\n",
       "<table border=\"1\" class=\"dataframe\">\n",
       "  <thead>\n",
       "    <tr style=\"text-align: right;\">\n",
       "      <th></th>\n",
       "      <th>TransactionID</th>\n",
       "      <th>isFraud</th>\n",
       "      <th>TransactionDT</th>\n",
       "      <th>TransactionAmt</th>\n",
       "      <th>card1</th>\n",
       "      <th>card2</th>\n",
       "      <th>card3</th>\n",
       "      <th>card5</th>\n",
       "      <th>addr1</th>\n",
       "      <th>addr2</th>\n",
       "      <th>...</th>\n",
       "      <th>M1_true</th>\n",
       "      <th>ProductCD_W</th>\n",
       "      <th>card4_visa</th>\n",
       "      <th>M5_true</th>\n",
       "      <th>M6_true</th>\n",
       "      <th>M4_M0</th>\n",
       "      <th>M3_true</th>\n",
       "      <th>M2_true</th>\n",
       "      <th>card6_debit</th>\n",
       "      <th>P_emaildomain_gmail/yahoo</th>\n",
       "    </tr>\n",
       "  </thead>\n",
       "  <tbody>\n",
       "    <tr>\n",
       "      <th>0</th>\n",
       "      <td>2987000</td>\n",
       "      <td>0</td>\n",
       "      <td>86400</td>\n",
       "      <td>68.5</td>\n",
       "      <td>13926</td>\n",
       "      <td>NaN</td>\n",
       "      <td>150.0</td>\n",
       "      <td>142.0</td>\n",
       "      <td>315.0</td>\n",
       "      <td>87.0</td>\n",
       "      <td>...</td>\n",
       "      <td>1.0</td>\n",
       "      <td>1</td>\n",
       "      <td>0.0</td>\n",
       "      <td>0.0</td>\n",
       "      <td>1.0</td>\n",
       "      <td>0.0</td>\n",
       "      <td>1.0</td>\n",
       "      <td>1.0</td>\n",
       "      <td>0.0</td>\n",
       "      <td>0</td>\n",
       "    </tr>\n",
       "    <tr>\n",
       "      <th>1</th>\n",
       "      <td>2987001</td>\n",
       "      <td>0</td>\n",
       "      <td>86401</td>\n",
       "      <td>29.0</td>\n",
       "      <td>2755</td>\n",
       "      <td>404.0</td>\n",
       "      <td>150.0</td>\n",
       "      <td>102.0</td>\n",
       "      <td>325.0</td>\n",
       "      <td>87.0</td>\n",
       "      <td>...</td>\n",
       "      <td>0.0</td>\n",
       "      <td>1</td>\n",
       "      <td>0.0</td>\n",
       "      <td>1.0</td>\n",
       "      <td>1.0</td>\n",
       "      <td>1.0</td>\n",
       "      <td>0.0</td>\n",
       "      <td>0.0</td>\n",
       "      <td>0.0</td>\n",
       "      <td>1</td>\n",
       "    </tr>\n",
       "    <tr>\n",
       "      <th>2</th>\n",
       "      <td>2987002</td>\n",
       "      <td>0</td>\n",
       "      <td>86469</td>\n",
       "      <td>59.0</td>\n",
       "      <td>4663</td>\n",
       "      <td>490.0</td>\n",
       "      <td>150.0</td>\n",
       "      <td>166.0</td>\n",
       "      <td>330.0</td>\n",
       "      <td>87.0</td>\n",
       "      <td>...</td>\n",
       "      <td>1.0</td>\n",
       "      <td>1</td>\n",
       "      <td>1.0</td>\n",
       "      <td>0.0</td>\n",
       "      <td>0.0</td>\n",
       "      <td>1.0</td>\n",
       "      <td>1.0</td>\n",
       "      <td>1.0</td>\n",
       "      <td>1.0</td>\n",
       "      <td>0</td>\n",
       "    </tr>\n",
       "    <tr>\n",
       "      <th>3</th>\n",
       "      <td>2987003</td>\n",
       "      <td>0</td>\n",
       "      <td>86499</td>\n",
       "      <td>50.0</td>\n",
       "      <td>18132</td>\n",
       "      <td>567.0</td>\n",
       "      <td>150.0</td>\n",
       "      <td>117.0</td>\n",
       "      <td>476.0</td>\n",
       "      <td>87.0</td>\n",
       "      <td>...</td>\n",
       "      <td>0.0</td>\n",
       "      <td>1</td>\n",
       "      <td>0.0</td>\n",
       "      <td>1.0</td>\n",
       "      <td>0.0</td>\n",
       "      <td>1.0</td>\n",
       "      <td>0.0</td>\n",
       "      <td>0.0</td>\n",
       "      <td>1.0</td>\n",
       "      <td>1</td>\n",
       "    </tr>\n",
       "  </tbody>\n",
       "</table>\n",
       "<p>4 rows × 226 columns</p>\n",
       "</div>"
      ],
      "text/plain": [
       "   TransactionID  isFraud  TransactionDT  TransactionAmt  card1  card2  card3  \\\n",
       "0        2987000        0          86400            68.5  13926    NaN  150.0   \n",
       "1        2987001        0          86401            29.0   2755  404.0  150.0   \n",
       "2        2987002        0          86469            59.0   4663  490.0  150.0   \n",
       "3        2987003        0          86499            50.0  18132  567.0  150.0   \n",
       "\n",
       "   card5  addr1  addr2  ...  M1_true  ProductCD_W  card4_visa  M5_true  \\\n",
       "0  142.0  315.0   87.0  ...      1.0            1         0.0      0.0   \n",
       "1  102.0  325.0   87.0  ...      0.0            1         0.0      1.0   \n",
       "2  166.0  330.0   87.0  ...      1.0            1         1.0      0.0   \n",
       "3  117.0  476.0   87.0  ...      0.0            1         0.0      1.0   \n",
       "\n",
       "   M6_true  M4_M0  M3_true  M2_true  card6_debit  P_emaildomain_gmail/yahoo  \n",
       "0      1.0    0.0      1.0      1.0          0.0                          0  \n",
       "1      1.0    1.0      0.0      0.0          0.0                          1  \n",
       "2      0.0    1.0      1.0      1.0          1.0                          0  \n",
       "3      0.0    1.0      0.0      0.0          1.0                          1  \n",
       "\n",
       "[4 rows x 226 columns]"
      ]
     },
     "execution_count": 18,
     "metadata": {},
     "output_type": "execute_result"
    }
   ],
   "source": [
    "transactions.head(4)"
   ]
  },
  {
   "cell_type": "code",
   "execution_count": 19,
   "metadata": {},
   "outputs": [],
   "source": [
    "test = transactions._get_numeric_data().columns"
   ]
  },
  {
   "cell_type": "code",
   "execution_count": 20,
   "metadata": {},
   "outputs": [
    {
     "data": {
      "text/plain": [
       "226"
      ]
     },
     "execution_count": 20,
     "metadata": {},
     "output_type": "execute_result"
    }
   ],
   "source": [
    "len(test)"
   ]
  },
  {
   "cell_type": "code",
   "execution_count": 21,
   "metadata": {},
   "outputs": [
    {
     "data": {
      "text/plain": [
       "226"
      ]
     },
     "execution_count": 21,
     "metadata": {},
     "output_type": "execute_result"
    }
   ],
   "source": [
    "len(transactions.columns)"
   ]
  },
  {
   "cell_type": "markdown",
   "metadata": {},
   "source": [
    "#### Transform Categorical columns in Identity Dataset"
   ]
  },
  {
   "cell_type": "code",
   "execution_count": 22,
   "metadata": {},
   "outputs": [],
   "source": [
    "numerical_columns_identity = identity._get_numeric_data().columns"
   ]
  },
  {
   "cell_type": "code",
   "execution_count": 23,
   "metadata": {},
   "outputs": [
    {
     "data": {
      "text/plain": [
       "17"
      ]
     },
     "execution_count": 23,
     "metadata": {},
     "output_type": "execute_result"
    }
   ],
   "source": [
    "len(numerical_columns_identity)"
   ]
  },
  {
   "cell_type": "code",
   "execution_count": 24,
   "metadata": {},
   "outputs": [
    {
     "data": {
      "text/plain": [
       "15"
      ]
     },
     "execution_count": 24,
     "metadata": {},
     "output_type": "execute_result"
    }
   ],
   "source": [
    "categorical_columns_identity = list(set(identity.columns) - set(numerical_columns_identity))\n",
    "len(categorical_columns_identity)"
   ]
  },
  {
   "cell_type": "code",
   "execution_count": 25,
   "metadata": {},
   "outputs": [
    {
     "name": "stdout",
     "output_type": "stream",
     "text": [
      "id_33\n",
      "id_31\n",
      "id_30\n",
      "DeviceInfo\n"
     ]
    }
   ],
   "source": [
    "for cat_column in categorical_columns_identity:\n",
    "    if len(identity[cat_column].value_counts()) ==2 and 'NotFound' in identity[cat_column].value_counts().index.tolist():\n",
    "        identity[str(cat_column + '_found')] = identity[cat_column].map({'Found':1, 'NotFound':0}).fillna(0)\n",
    "    \n",
    "    elif len(identity[cat_column].value_counts()) ==2 and 'New' in identity[cat_column].value_counts().index.tolist():\n",
    "        identity[str(cat_column + '_found')] = identity[cat_column].map({'Found':1, 'New':0}).fillna(0)\n",
    "        \n",
    "    elif len(identity[cat_column].value_counts()) ==3 and 'New' in identity[cat_column].value_counts().index.tolist():\n",
    "        identity[str(cat_column + '_found')] = identity[cat_column].map({'Found':1, 'New':0, 'Unknown':0}).fillna(0)\n",
    "        \n",
    "    elif len(identity[cat_column].value_counts()) ==2 and identity[cat_column].value_counts().index.tolist() == ['T', 'F'] or identity[cat_column].value_counts().index.tolist() == ['F', 'T']:\n",
    "        identity[str(cat_column + '_true')] = identity[cat_column].map({'T':1, 'F':0}).fillna(0)\n",
    "        \n",
    "    elif len(identity[cat_column].value_counts()) ==2 and 'desktop' in identity[cat_column].value_counts().index.tolist():\n",
    "        identity[str(cat_column + '_desktop')] = identity[cat_column].map({'desktop':1, 'mobile':0}).fillna(0)\n",
    "        \n",
    "    elif len(identity[cat_column].value_counts()) ==4:\n",
    "        identity[str(cat_column + '_match_status:2')] = identity[cat_column].map({'match_status:2':1, 'match_status:1':0,\n",
    "                                                                                 'match_status:0':0, 'match_status:-1':0\n",
    "                                                                                 }).fillna(0)\n",
    "    else:\n",
    "        print(cat_column)\n",
    "        "
   ]
  },
  {
   "cell_type": "code",
   "execution_count": 26,
   "metadata": {},
   "outputs": [],
   "source": [
    "deviceInfo_map = []\n",
    "for device_info in identity['DeviceInfo']:\n",
    "    if device_info == 'Windows':\n",
    "        deviceInfo_map.append(1)\n",
    "    else:\n",
    "        deviceInfo_map.append(0)"
   ]
  },
  {
   "cell_type": "code",
   "execution_count": 27,
   "metadata": {},
   "outputs": [],
   "source": [
    "identity['DeviceInfo_windows'] = deviceInfo_map"
   ]
  },
  {
   "cell_type": "code",
   "execution_count": 28,
   "metadata": {},
   "outputs": [],
   "source": [
    "id30_ios_map = []\n",
    "for id30 in identity['id_30']:\n",
    "    if re.match(r'^iOS', str(id30)):\n",
    "        id30_ios_map.append(1)\n",
    "    else:\n",
    "        id30_ios_map.append(0)"
   ]
  },
  {
   "cell_type": "code",
   "execution_count": 29,
   "metadata": {},
   "outputs": [],
   "source": [
    "identity['id_30_ios'] = id30_ios_map"
   ]
  },
  {
   "cell_type": "code",
   "execution_count": 30,
   "metadata": {},
   "outputs": [],
   "source": [
    "id31_chrome_map = []\n",
    "for id31 in identity['id_31']:\n",
    "    if re.match(r'^chrome', str(id31)):\n",
    "        id31_chrome_map.append(1)\n",
    "    else:\n",
    "        id31_chrome_map.append(0)"
   ]
  },
  {
   "cell_type": "code",
   "execution_count": 31,
   "metadata": {},
   "outputs": [],
   "source": [
    "identity['id_31_chrome'] = id31_chrome_map"
   ]
  },
  {
   "cell_type": "code",
   "execution_count": 32,
   "metadata": {},
   "outputs": [],
   "source": [
    "resolution = []\n",
    "for reso in identity['id_33']:\n",
    "    if reso == '1920x1080':\n",
    "        resolution.append(1)\n",
    "    else:\n",
    "        resolution.append(0)"
   ]
  },
  {
   "cell_type": "code",
   "execution_count": 33,
   "metadata": {},
   "outputs": [],
   "source": [
    "identity['id_33_resolution'] = resolution"
   ]
  },
  {
   "cell_type": "code",
   "execution_count": 34,
   "metadata": {},
   "outputs": [],
   "source": [
    "identity= identity.drop(columns =categorical_columns_identity)"
   ]
  },
  {
   "cell_type": "code",
   "execution_count": 35,
   "metadata": {},
   "outputs": [
    {
     "data": {
      "text/plain": [
       "(140985, 32)"
      ]
     },
     "execution_count": 35,
     "metadata": {},
     "output_type": "execute_result"
    }
   ],
   "source": [
    "len(identity), len(identity.columns)"
   ]
  },
  {
   "cell_type": "markdown",
   "metadata": {},
   "source": [
    "### Join 2 datasets"
   ]
  },
  {
   "cell_type": "code",
   "execution_count": 36,
   "metadata": {},
   "outputs": [
    {
     "name": "stdout",
     "output_type": "stream",
     "text": [
      "TransactionID\n"
     ]
    }
   ],
   "source": [
    "for column_name in identity.columns:\n",
    "    if column_name in transactions.columns:\n",
    "        print(column_name)"
   ]
  },
  {
   "cell_type": "code",
   "execution_count": 37,
   "metadata": {},
   "outputs": [],
   "source": [
    "merged = pd.merge(transactions, identity, on='TransactionID')"
   ]
  },
  {
   "cell_type": "code",
   "execution_count": 38,
   "metadata": {},
   "outputs": [
    {
     "data": {
      "text/plain": [
       "140985"
      ]
     },
     "execution_count": 38,
     "metadata": {},
     "output_type": "execute_result"
    }
   ],
   "source": [
    "len(merged)"
   ]
  },
  {
   "cell_type": "code",
   "execution_count": 39,
   "metadata": {},
   "outputs": [
    {
     "data": {
      "text/plain": [
       "0    129763\n",
       "1     11222\n",
       "Name: isFraud, dtype: int64"
      ]
     },
     "execution_count": 39,
     "metadata": {},
     "output_type": "execute_result"
    }
   ],
   "source": [
    "merged.isFraud.value_counts()"
   ]
  },
  {
   "cell_type": "code",
   "execution_count": 40,
   "metadata": {},
   "outputs": [
    {
     "data": {
      "text/plain": [
       "0.07959712026102067"
      ]
     },
     "execution_count": 40,
     "metadata": {},
     "output_type": "execute_result"
    }
   ],
   "source": [
    "11222/len(merged)"
   ]
  },
  {
   "cell_type": "code",
   "execution_count": 41,
   "metadata": {},
   "outputs": [],
   "source": [
    "merged = merged.drop(columns=['TransactionID', 'TransactionDT'])"
   ]
  },
  {
   "cell_type": "markdown",
   "metadata": {},
   "source": [
    "### NAN Imputation"
   ]
  },
  {
   "cell_type": "code",
   "execution_count": 42,
   "metadata": {},
   "outputs": [],
   "source": [
    "new_merged = merged"
   ]
  },
  {
   "cell_type": "code",
   "execution_count": 43,
   "metadata": {},
   "outputs": [
    {
     "name": "stdout",
     "output_type": "stream",
     "text": [
      "dist1\n",
      "D2\n",
      "D3\n",
      "D5\n",
      "D11\n",
      "V1\n",
      "V2\n",
      "V3\n",
      "V4\n",
      "V5\n",
      "V6\n",
      "V7\n",
      "V8\n",
      "V9\n",
      "V10\n",
      "V11\n",
      "id_18\n"
     ]
    }
   ],
   "source": [
    "for column_name in new_merged.columns:\n",
    "    if (new_merged[column_name].isna().sum()/len(new_merged)) >0.55:\n",
    "        print(column_name)"
   ]
  },
  {
   "cell_type": "code",
   "execution_count": 44,
   "metadata": {},
   "outputs": [
    {
     "data": {
      "text/plain": [
       "140985"
      ]
     },
     "execution_count": 44,
     "metadata": {},
     "output_type": "execute_result"
    }
   ],
   "source": [
    "len(new_merged)"
   ]
  },
  {
   "cell_type": "code",
   "execution_count": 45,
   "metadata": {},
   "outputs": [
    {
     "data": {
      "text/plain": [
       "140985"
      ]
     },
     "execution_count": 45,
     "metadata": {},
     "output_type": "execute_result"
    }
   ],
   "source": [
    "new_merged = new_merged.dropna(thresh = 80 )\n",
    "len(new_merged)"
   ]
  },
  {
   "cell_type": "code",
   "execution_count": 46,
   "metadata": {},
   "outputs": [
    {
     "data": {
      "text/plain": [
       "0.33472803347280333"
      ]
     },
     "execution_count": 46,
     "metadata": {},
     "output_type": "execute_result"
    }
   ],
   "source": [
    "80/239"
   ]
  },
  {
   "cell_type": "code",
   "execution_count": 47,
   "metadata": {},
   "outputs": [
    {
     "name": "stdout",
     "output_type": "stream",
     "text": [
      "Number of columns of merged dataset: 255\n",
      "Amount of columns we will remove due to many NaN values: 17\n"
     ]
    }
   ],
   "source": [
    "#If more that 70% of the raws in a column are missing/nan values we will get rid of the column\n",
    "print('Number of columns of merged dataset:',len(new_merged.columns))\n",
    "new_merged_column_names_with_many_nan_values = []\n",
    "for column_name in new_merged.columns:\n",
    "    if new_merged[column_name].isna().sum() > 0.6*len(new_merged):\n",
    "        new_merged_column_names_with_many_nan_values.append(column_name)\n",
    "print('Amount of columns we will remove due to many NaN values:',len(new_merged_column_names_with_many_nan_values ))"
   ]
  },
  {
   "cell_type": "code",
   "execution_count": 48,
   "metadata": {},
   "outputs": [],
   "source": [
    "for column_name in new_merged.columns:\n",
    "    if new_merged[column_name].dtypes not in ['int', 'float', 'int64']:\n",
    "        print((new_merged[column_name].min(), new_merged[column_name].max() ))\n",
    "        print((new_merged[column_name].dtypes))        "
   ]
  },
  {
   "cell_type": "code",
   "execution_count": 49,
   "metadata": {},
   "outputs": [],
   "source": [
    "columns_whose_distribution_lost = []\n",
    "for column_name in new_merged.columns:\n",
    "    if new_merged[column_name].min() == new_merged[column_name].max():\n",
    "        columns_whose_distribution_lost.append(column_name)"
   ]
  },
  {
   "cell_type": "code",
   "execution_count": 50,
   "metadata": {},
   "outputs": [
    {
     "data": {
      "text/plain": [
       "29"
      ]
     },
     "execution_count": 50,
     "metadata": {},
     "output_type": "execute_result"
    }
   ],
   "source": [
    "len(columns_whose_distribution_lost)"
   ]
  },
  {
   "cell_type": "code",
   "execution_count": 51,
   "metadata": {},
   "outputs": [
    {
     "name": "stdout",
     "output_type": "stream",
     "text": [
      "Plotting for column C5\n"
     ]
    },
    {
     "data": {
      "image/png": "[encoded data removed]",
      "text/plain": [
       "<Figure size 432x288 with 1 Axes>"
      ]
     },
     "metadata": {
      "needs_background": "light"
     },
     "output_type": "display_data"
    },
    {
     "name": "stdout",
     "output_type": "stream",
     "text": [
      "Plotting for column C9\n"
     ]
    },
    {
     "data": {
      "image/png": "[encoded data removed]",
      "text/plain": [
       "<Figure size 432x288 with 1 Axes>"
      ]
     },
     "metadata": {
      "needs_background": "light"
     },
     "output_type": "display_data"
    },
    {
     "name": "stdout",
     "output_type": "stream",
     "text": [
      "Plotting for column V12\n"
     ]
    },
    {
     "data": {
      "image/png": "[encoded data removed]",
      "text/plain": [
       "<Figure size 432x288 with 1 Axes>"
      ]
     },
     "metadata": {
      "needs_background": "light"
     },
     "output_type": "display_data"
    },
    {
     "name": "stdout",
     "output_type": "stream",
     "text": [
      "Plotting for column V13\n"
     ]
    },
    {
     "data": {
      "image/png": "[encoded data removed]",
      "text/plain": [
       "<Figure size 432x288 with 1 Axes>"
      ]
     },
     "metadata": {
      "needs_background": "light"
     },
     "output_type": "display_data"
    },
    {
     "name": "stdout",
     "output_type": "stream",
     "text": [
      "Plotting for column V29\n"
     ]
    },
    {
     "data": {
      "image/png": "[encoded data removed]",
      "text/plain": [
       "<Figure size 432x288 with 1 Axes>"
      ]
     },
     "metadata": {
      "needs_background": "light"
     },
     "output_type": "display_data"
    },
    {
     "name": "stdout",
     "output_type": "stream",
     "text": [
      "Plotting for column V30\n"
     ]
    },
    {
     "data": {
      "image/png": "[encoded data removed]",
      "text/plain": [
       "<Figure size 432x288 with 1 Axes>"
      ]
     },
     "metadata": {
      "needs_background": "light"
     },
     "output_type": "display_data"
    },
    {
     "name": "stdout",
     "output_type": "stream",
     "text": [
      "Plotting for column V35\n"
     ]
    },
    {
     "data": {
      "image/png": "[encoded data removed]",
      "text/plain": [
       "<Figure size 432x288 with 1 Axes>"
      ]
     },
     "metadata": {
      "needs_background": "light"
     },
     "output_type": "display_data"
    },
    {
     "name": "stdout",
     "output_type": "stream",
     "text": [
      "Plotting for column V36\n"
     ]
    },
    {
     "data": {
      "image/png": "[encoded data removed]",
      "text/plain": [
       "<Figure size 432x288 with 1 Axes>"
      ]
     },
     "metadata": {
      "needs_background": "light"
     },
     "output_type": "display_data"
    },
    {
     "name": "stdout",
     "output_type": "stream",
     "text": [
      "Plotting for column V48\n"
     ]
    },
    {
     "data": {
      "image/png": "[encoded data removed]",
      "text/plain": [
       "<Figure size 432x288 with 1 Axes>"
      ]
     },
     "metadata": {
      "needs_background": "light"
     },
     "output_type": "display_data"
    },
    {
     "name": "stdout",
     "output_type": "stream",
     "text": [
      "Plotting for column V49\n"
     ]
    },
    {
     "data": {
      "image/png": "[encoded data removed]",
      "text/plain": [
       "<Figure size 432x288 with 1 Axes>"
      ]
     },
     "metadata": {
      "needs_background": "light"
     },
     "output_type": "display_data"
    },
    {
     "name": "stdout",
     "output_type": "stream",
     "text": [
      "Plotting for column V53\n"
     ]
    },
    {
     "data": {
      "image/png": "[encoded data removed]",
      "text/plain": [
       "<Figure size 432x288 with 1 Axes>"
      ]
     },
     "metadata": {
      "needs_background": "light"
     },
     "output_type": "display_data"
    },
    {
     "name": "stdout",
     "output_type": "stream",
     "text": [
      "Plotting for column V54\n"
     ]
    },
    {
     "data": {
      "image/png": "[encoded data removed]",
      "text/plain": [
       "<Figure size 432x288 with 1 Axes>"
      ]
     },
     "metadata": {
      "needs_background": "light"
     },
     "output_type": "display_data"
    },
    {
     "name": "stdout",
     "output_type": "stream",
     "text": [
      "Plotting for column V69\n"
     ]
    },
    {
     "data": {
      "image/png": "[encoded data removed]",
      "text/plain": [
       "<Figure size 432x288 with 1 Axes>"
      ]
     },
     "metadata": {
      "needs_background": "light"
     },
     "output_type": "display_data"
    },
    {
     "name": "stdout",
     "output_type": "stream",
     "text": [
      "Plotting for column V70\n"
     ]
    },
    {
     "data": {
      "image/png": "[encoded data removed]",
      "text/plain": [
       "<Figure size 432x288 with 1 Axes>"
      ]
     },
     "metadata": {
      "needs_background": "light"
     },
     "output_type": "display_data"
    },
    {
     "name": "stdout",
     "output_type": "stream",
     "text": [
      "Plotting for column V75\n"
     ]
    },
    {
     "data": {
      "image/png": "[encoded data removed]",
      "text/plain": [
       "<Figure size 432x288 with 1 Axes>"
      ]
     },
     "metadata": {
      "needs_background": "light"
     },
     "output_type": "display_data"
    },
    {
     "name": "stdout",
     "output_type": "stream",
     "text": [
      "Plotting for column V76\n"
     ]
    },
    {
     "data": {
      "image/png": "[encoded data removed]",
      "text/plain": [
       "<Figure size 432x288 with 1 Axes>"
      ]
     },
     "metadata": {
      "needs_background": "light"
     },
     "output_type": "display_data"
    },
    {
     "name": "stdout",
     "output_type": "stream",
     "text": [
      "Plotting for column V90\n"
     ]
    },
    {
     "data": {
      "image/png": "[encoded data removed]",
      "text/plain": [
       "<Figure size 432x288 with 1 Axes>"
      ]
     },
     "metadata": {
      "needs_background": "light"
     },
     "output_type": "display_data"
    },
    {
     "name": "stdout",
     "output_type": "stream",
     "text": [
      "Plotting for column V91\n"
     ]
    },
    {
     "data": {
      "image/png": "[encoded data removed]",
      "text/plain": [
       "<Figure size 432x288 with 1 Axes>"
      ]
     },
     "metadata": {
      "needs_background": "light"
     },
     "output_type": "display_data"
    },
    {
     "name": "stdout",
     "output_type": "stream",
     "text": [
      "Plotting for column V107\n"
     ]
    },
    {
     "data": {
      "image/png": "[encoded data removed]",
      "text/plain": [
       "<Figure size 432x288 with 1 Axes>"
      ]
     },
     "metadata": {
      "needs_background": "light"
     },
     "output_type": "display_data"
    },
    {
     "name": "stdout",
     "output_type": "stream",
     "text": [
      "Plotting for column V305\n"
     ]
    },
    {
     "data": {
      "image/png": "[encoded data removed]",
      "text/plain": [
       "<Figure size 432x288 with 1 Axes>"
      ]
     },
     "metadata": {
      "needs_background": "light"
     },
     "output_type": "display_data"
    },
    {
     "name": "stdout",
     "output_type": "stream",
     "text": [
      "Plotting for column M9_true\n"
     ]
    },
    {
     "data": {
      "image/png": "[encoded data removed]",
      "text/plain": [
       "<Figure size 432x288 with 1 Axes>"
      ]
     },
     "metadata": {
      "needs_background": "light"
     },
     "output_type": "display_data"
    },
    {
     "name": "stdout",
     "output_type": "stream",
     "text": [
      "Plotting for column M7_true\n"
     ]
    },
    {
     "data": {
      "image/png": "[encoded data removed]",
      "text/plain": [
       "<Figure size 432x288 with 1 Axes>"
      ]
     },
     "metadata": {
      "needs_background": "light"
     },
     "output_type": "display_data"
    },
    {
     "name": "stdout",
     "output_type": "stream",
     "text": [
      "Plotting for column M8_true\n"
     ]
    },
    {
     "data": {
      "image/png": "[encoded data removed]",
      "text/plain": [
       "<Figure size 432x288 with 1 Axes>"
      ]
     },
     "metadata": {
      "needs_background": "light"
     },
     "output_type": "display_data"
    },
    {
     "name": "stdout",
     "output_type": "stream",
     "text": [
      "Plotting for column M1_true\n"
     ]
    },
    {
     "data": {
      "image/png": "[encoded data removed]",
      "text/plain": [
       "<Figure size 432x288 with 1 Axes>"
      ]
     },
     "metadata": {
      "needs_background": "light"
     },
     "output_type": "display_data"
    },
    {
     "name": "stdout",
     "output_type": "stream",
     "text": [
      "Plotting for column ProductCD_W\n"
     ]
    },
    {
     "data": {
      "image/png": "[encoded data removed]",
      "text/plain": [
       "<Figure size 432x288 with 1 Axes>"
      ]
     },
     "metadata": {
      "needs_background": "light"
     },
     "output_type": "display_data"
    },
    {
     "name": "stdout",
     "output_type": "stream",
     "text": [
      "Plotting for column M5_true\n"
     ]
    },
    {
     "data": {
      "image/png": "[encoded data removed]",
      "text/plain": [
       "<Figure size 432x288 with 1 Axes>"
      ]
     },
     "metadata": {
      "needs_background": "light"
     },
     "output_type": "display_data"
    },
    {
     "name": "stdout",
     "output_type": "stream",
     "text": [
      "Plotting for column M6_true\n"
     ]
    },
    {
     "data": {
      "image/png": "[encoded data removed]",
      "text/plain": [
       "<Figure size 432x288 with 1 Axes>"
      ]
     },
     "metadata": {
      "needs_background": "light"
     },
     "output_type": "display_data"
    },
    {
     "name": "stdout",
     "output_type": "stream",
     "text": [
      "Plotting for column M3_true\n"
     ]
    },
    {
     "data": {
      "image/png": "[encoded data removed]",
      "text/plain": [
       "<Figure size 432x288 with 1 Axes>"
      ]
     },
     "metadata": {
      "needs_background": "light"
     },
     "output_type": "display_data"
    },
    {
     "name": "stdout",
     "output_type": "stream",
     "text": [
      "Plotting for column M2_true\n"
     ]
    },
    {
     "data": {
      "image/png": "[encoded data removed]",
      "text/plain": [
       "<Figure size 432x288 with 1 Axes>"
      ]
     },
     "metadata": {
      "needs_background": "light"
     },
     "output_type": "display_data"
    }
   ],
   "source": [
    "for col in columns_whose_distribution_lost:\n",
    "    hist = new_merged[col].hist(bins=10)\n",
    "    print(\"Plotting for column {}\".format(col))\n",
    "    plt.show()"
   ]
  },
  {
   "cell_type": "code",
   "execution_count": 52,
   "metadata": {},
   "outputs": [
    {
     "data": {
      "text/plain": [
       "226"
      ]
     },
     "execution_count": 52,
     "metadata": {},
     "output_type": "execute_result"
    }
   ],
   "source": [
    "new_merged= new_merged.drop(columns =columns_whose_distribution_lost)\n",
    "len(new_merged.columns)"
   ]
  },
  {
   "cell_type": "code",
   "execution_count": 53,
   "metadata": {},
   "outputs": [
    {
     "name": "stdout",
     "output_type": "stream",
     "text": [
      "card2 100.0 600.0 408.0\n",
      "card3 100.0 231.0 150.0\n",
      "card5 100.0 237.0 224.0\n",
      "addr1 100.0 540.0 299.0\n",
      "addr2 10.0 102.0 87.0\n",
      "dist1 nan nan nan\n",
      "D1 0.0 640.0 0.0\n",
      "D2 0.0 640.0 37.0\n",
      "D3 0.0 819.0 0.0\n",
      "D4 -83.0 869.0 0.0\n",
      "D5 0.0 819.0 0.0\n",
      "D10 0.0 869.0 0.0\n",
      "D11 nan nan nan\n",
      "D15 -83.0 879.0 0.0\n",
      "V1 nan nan nan\n",
      "V2 nan nan nan\n",
      "V3 nan nan nan\n",
      "V4 nan nan nan\n",
      "V5 nan nan nan\n",
      "V6 nan nan nan\n",
      "V7 nan nan nan\n",
      "V8 nan nan nan\n",
      "V9 nan nan nan\n",
      "V10 nan nan nan\n",
      "V11 nan nan nan\n",
      "V14 0.0 1.0 1.0\n",
      "V15 0.0 7.0 1.0\n",
      "V16 0.0 15.0 1.0\n",
      "V17 0.0 15.0 1.0\n",
      "V18 0.0 15.0 1.0\n",
      "V19 0.0 7.0 1.0\n",
      "V20 0.0 15.0 1.0\n",
      "V21 0.0 5.0 1.0\n",
      "V22 0.0 8.0 1.0\n",
      "V23 0.0 13.0 1.0\n",
      "V24 0.0 13.0 1.0\n",
      "V25 0.0 5.0 1.0\n",
      "V26 0.0 10.0 1.0\n",
      "V27 0.0 4.0 0.0\n",
      "V28 0.0 4.0 0.0\n",
      "V31 0.0 7.0 1.0\n",
      "V32 0.0 15.0 1.0\n",
      "V33 0.0 5.0 1.0\n",
      "V34 0.0 10.0 1.0\n",
      "V37 0.0 54.0 1.0\n",
      "V38 0.0 54.0 1.0\n",
      "V39 0.0 15.0 1.0\n",
      "V40 0.0 24.0 1.0\n",
      "V41 0.0 1.0 1.0\n",
      "V42 0.0 8.0 1.0\n",
      "V43 0.0 8.0 1.0\n",
      "V44 0.0 48.0 1.0\n",
      "V45 0.0 48.0 1.0\n",
      "V46 0.0 6.0 1.0\n",
      "V47 0.0 12.0 1.0\n",
      "V50 0.0 5.0 1.0\n",
      "V51 0.0 6.0 1.0\n",
      "V52 0.0 12.0 1.0\n",
      "V55 0.0 17.0 1.0\n",
      "V56 0.0 51.0 1.0\n",
      "V57 0.0 6.0 1.0\n",
      "V58 0.0 10.0 1.0\n",
      "V59 0.0 16.0 1.0\n",
      "V60 0.0 16.0 1.0\n",
      "V61 0.0 6.0 1.0\n",
      "V62 0.0 10.0 1.0\n",
      "V63 0.0 7.0 1.0\n",
      "V64 0.0 7.0 1.0\n",
      "V65 0.0 1.0 1.0\n",
      "V66 0.0 7.0 1.0\n",
      "V67 0.0 8.0 1.0\n",
      "V68 0.0 2.0 0.0\n",
      "V71 0.0 6.0 1.0\n",
      "V72 0.0 10.0 1.0\n",
      "V73 0.0 7.0 1.0\n",
      "V74 0.0 8.0 1.0\n",
      "V77 0.0 30.0 1.0\n",
      "V78 0.0 31.0 1.0\n",
      "V79 0.0 7.0 1.0\n",
      "V80 0.0 19.0 1.0\n",
      "V81 0.0 19.0 1.0\n",
      "V82 0.0 7.0 1.0\n",
      "V83 0.0 7.0 1.0\n",
      "V84 0.0 7.0 1.0\n",
      "V85 0.0 7.0 1.0\n",
      "V86 0.0 30.0 1.0\n",
      "V87 0.0 30.0 1.0\n",
      "V88 0.0 1.0 1.0\n",
      "V89 0.0 2.0 0.0\n",
      "V92 0.0 7.0 1.0\n",
      "V93 0.0 7.0 1.0\n",
      "V94 0.0 1.0 1.0\n",
      "V95 0.0 880.0 0.0\n",
      "V96 0.0 1410.0 0.0\n",
      "V97 0.0 976.0 0.0\n",
      "V98 0.0 7.0 0.0\n",
      "V99 0.0 43.0 0.0\n",
      "V100 0.0 17.0 0.0\n",
      "V101 0.0 869.0 0.0\n",
      "V102 0.0 1285.0 0.0\n",
      "V103 0.0 928.0 0.0\n",
      "V104 0.0 15.0 0.0\n",
      "V105 0.0 99.0 0.0\n",
      "V106 0.0 55.0 0.0\n",
      "V108 0.0 7.0 1.0\n",
      "V109 0.0 7.0 1.0\n",
      "V110 0.0 7.0 1.0\n",
      "V111 0.0 9.0 1.0\n",
      "V112 0.0 9.0 1.0\n",
      "V113 0.0 9.0 1.0\n",
      "V114 0.0 6.0 1.0\n",
      "V115 0.0 6.0 1.0\n",
      "V116 0.0 6.0 1.0\n",
      "V117 0.0 3.0 1.0\n",
      "V118 0.0 3.0 1.0\n",
      "V119 0.0 3.0 1.0\n",
      "V120 0.0 3.0 1.0\n",
      "V121 0.0 3.0 1.0\n",
      "V122 0.0 3.0 1.0\n",
      "V123 0.0 13.0 1.0\n",
      "V124 0.0 13.0 1.0\n",
      "V125 0.0 13.0 1.0\n",
      "V126 0.0 94901.0 0.0\n",
      "V127 0.0 146252.0 0.0\n",
      "V128 0.0 103495.0 0.0\n",
      "V129 0.0 55125.0 0.0\n",
      "V130 0.0 55125.0 0.0\n",
      "V131 0.0 55125.0 0.0\n",
      "V132 0.0 93736.0 0.0\n",
      "V133 0.0 133915.0 0.0\n",
      "V134 0.0 98476.0 0.0\n",
      "V135 0.0 90750.0 0.0\n",
      "V136 0.0 90750.0 0.0\n",
      "V137 0.0 90750.0 0.0\n",
      "V279 0.0 880.0 0.0\n",
      "V280 0.0 975.0 0.0\n",
      "V281 0.0 22.0 0.0\n",
      "V282 0.0 32.0 1.0\n",
      "V283 0.0 56.0 1.0\n",
      "V284 0.0 7.0 0.0\n",
      "V285 0.0 44.0 0.0\n",
      "V286 0.0 4.0 0.0\n",
      "V287 0.0 14.0 0.0\n",
      "V288 0.0 8.0 0.0\n",
      "V289 0.0 9.0 0.0\n",
      "V290 1.0 47.0 1.0\n",
      "V291 1.0 1044.0 1.0\n",
      "V292 1.0 199.0 1.0\n",
      "V293 0.0 869.0 0.0\n",
      "V294 0.0 1286.0 0.0\n",
      "V295 0.0 928.0 0.0\n",
      "V296 0.0 93.0 0.0\n",
      "V297 0.0 11.0 0.0\n",
      "V298 0.0 93.0 0.0\n",
      "V299 0.0 49.0 0.0\n",
      "V300 0.0 11.0 0.0\n",
      "V301 0.0 11.0 0.0\n",
      "V302 0.0 16.0 1.0\n",
      "V303 0.0 20.0 1.0\n",
      "V304 0.0 16.0 1.0\n",
      "V306 0.0 104060.0 0.0\n",
      "V307 0.0 145765.0 0.0\n",
      "V308 0.0 104060.0 0.0\n",
      "V309 0.0 55125.0 0.0\n",
      "V310 0.0 55125.0 0.0\n",
      "V311 0.0 55125.0 0.0\n",
      "V312 0.0 55125.0 0.0\n",
      "V313 0.0 3300.0 0.0\n",
      "V314 0.0 3300.0 0.0\n",
      "V315 0.0 3300.0 0.0\n",
      "V316 0.0 93736.0 0.0\n",
      "V317 0.0 134021.0 0.0\n",
      "V318 0.0 98476.0 0.0\n",
      "V319 0.0 104060.0 0.0\n",
      "V320 0.0 104060.0 0.0\n",
      "V321 0.0 104060.0 0.0\n",
      "id_02 1.0 999595.0 125800.5\n",
      "id_03 -13.0 10.0 0.0\n",
      "id_04 -28.0 0.0 0.0\n",
      "id_05 -72.0 52.0 0.0\n",
      "id_06 -100.0 0.0 0.0\n",
      "id_09 -36.0 25.0 0.0\n",
      "id_10 -100.0 0.0 0.0\n",
      "id_11 90.0 100.0 100.0\n",
      "id_13 10.0 64.0 52.0\n",
      "id_14 -660.0 720.0 -300.0\n",
      "id_17 100.0 229.0 166.0\n",
      "id_18 10.0 29.0 15.0\n",
      "id_19 100.0 671.0 341.0\n",
      "id_20 100.0 661.0 472.0\n",
      "id_32 0.0 32.0 24.0\n"
     ]
    }
   ],
   "source": [
    "columns_with_nan_values = []\n",
    "for col in new_merged.columns:\n",
    "    if new_merged[col].isna().sum()!=0:\n",
    "        print(col, new_merged[col].min(), new_merged[col].max(), new_merged[col].median())\n",
    "        columns_with_nan_values.append(col)"
   ]
  },
  {
   "cell_type": "code",
   "execution_count": 54,
   "metadata": {},
   "outputs": [
    {
     "name": "stdout",
     "output_type": "stream",
     "text": [
      "[nan  1.  0.]\n",
      "[nan  1.  0.]\n",
      "[nan  1.  0.]\n",
      "[nan  1.  0.]\n",
      "[nan  1.  0.]\n"
     ]
    }
   ],
   "source": [
    "for col in columns_with_nan_values:\n",
    "    if len(new_merged[col].dropna().unique())==2:\n",
    "        print(new_merged[col].unique())"
   ]
  },
  {
   "cell_type": "code",
   "execution_count": null,
   "metadata": {},
   "outputs": [],
   "source": []
  },
  {
   "cell_type": "code",
   "execution_count": null,
   "metadata": {},
   "outputs": [],
   "source": []
  },
  {
   "cell_type": "code",
   "execution_count": 55,
   "metadata": {},
   "outputs": [
    {
     "data": {
      "text/plain": [
       "'addr1'"
      ]
     },
     "execution_count": 55,
     "metadata": {},
     "output_type": "execute_result"
    }
   ],
   "source": [
    "columns_with_nan_values[3]\n"
   ]
  },
  {
   "cell_type": "code",
   "execution_count": 56,
   "metadata": {},
   "outputs": [
    {
     "data": {
      "text/plain": [
       "count    81667.000000\n",
       "mean       296.882890\n",
       "std         99.277648\n",
       "min        100.000000\n",
       "25%        204.000000\n",
       "50%        299.000000\n",
       "75%        330.000000\n",
       "max        540.000000\n",
       "Name: addr1, dtype: float64"
      ]
     },
     "execution_count": 56,
     "metadata": {},
     "output_type": "execute_result"
    }
   ],
   "source": [
    "new_merged[columns_with_nan_values[3]].describe()"
   ]
  },
  {
   "cell_type": "code",
   "execution_count": 57,
   "metadata": {},
   "outputs": [],
   "source": [
    "impute_nan = pd.DataFrame(columns=new_merged.columns)"
   ]
  },
  {
   "cell_type": "code",
   "execution_count": 58,
   "metadata": {},
   "outputs": [
    {
     "data": {
      "text/plain": [
       "226"
      ]
     },
     "execution_count": 58,
     "metadata": {},
     "output_type": "execute_result"
    }
   ],
   "source": [
    "len(new_merged.columns)"
   ]
  },
  {
   "cell_type": "code",
   "execution_count": 59,
   "metadata": {},
   "outputs": [
    {
     "data": {
      "text/plain": [
       "880"
      ]
     },
     "execution_count": 59,
     "metadata": {},
     "output_type": "execute_result"
    }
   ],
   "source": [
    "new_merged['card2'].isna().sum()"
   ]
  },
  {
   "cell_type": "code",
   "execution_count": 60,
   "metadata": {},
   "outputs": [
    {
     "data": {
      "text/plain": [
       "0"
      ]
     },
     "execution_count": 60,
     "metadata": {},
     "output_type": "execute_result"
    }
   ],
   "source": [
    "impute_nan['card2'].isna().sum()"
   ]
  },
  {
   "cell_type": "code",
   "execution_count": 61,
   "metadata": {},
   "outputs": [],
   "source": [
    "columns_to_be_deleted_many_nan = []\n",
    "nomatter = []\n",
    "for column_with_nan in new_merged.columns:\n",
    "    if new_merged[column_with_nan].isna().sum() ==0:\n",
    "        impute_nan[column_with_nan] = new_merged[column_with_nan]\n",
    "    \n",
    "    if new_merged[column_with_nan].isna().sum()>0 and new_merged[column_with_nan].isna().sum()<100:\n",
    "        impute_nan[column_with_nan] = new_merged[column_with_nan].interpolate(method='pad', limit=3)\n",
    "    \n",
    "    if new_merged[column_with_nan].isna().sum()>=100 and new_merged[column_with_nan].isna().sum()<=80000:\n",
    "        impute_nan[column_with_nan] = new_merged[column_with_nan].interpolate(method='linear', limit=220)\n",
    "        \n",
    "        if impute_nan[column_with_nan].isna().sum()!=0:\n",
    "            columns_to_be_deleted_many_nan.append(column_with_nan)\n",
    "        \n",
    "            \n",
    "    if new_merged[column_with_nan].isna().sum()> 80000:\n",
    "        columns_to_be_deleted_many_nan.append(column_with_nan)"
   ]
  },
  {
   "cell_type": "code",
   "execution_count": 62,
   "metadata": {},
   "outputs": [
    {
     "data": {
      "text/plain": [
       "94"
      ]
     },
     "execution_count": 62,
     "metadata": {},
     "output_type": "execute_result"
    }
   ],
   "source": [
    "len(columns_to_be_deleted_many_nan)"
   ]
  },
  {
   "cell_type": "code",
   "execution_count": 63,
   "metadata": {},
   "outputs": [],
   "source": [
    "impute_nan = impute_nan.drop(columns = columns_to_be_deleted_many_nan)"
   ]
  },
  {
   "cell_type": "code",
   "execution_count": 64,
   "metadata": {},
   "outputs": [
    {
     "data": {
      "text/plain": [
       "132"
      ]
     },
     "execution_count": 64,
     "metadata": {},
     "output_type": "execute_result"
    }
   ],
   "source": [
    "len(impute_nan.columns)"
   ]
  },
  {
   "cell_type": "code",
   "execution_count": 65,
   "metadata": {},
   "outputs": [],
   "source": [
    "for col in impute_nan.columns:\n",
    "    if impute_nan[col].isna().sum()!=0:\n",
    "        print(col, impute_nan[col].isna().sum())"
   ]
  },
  {
   "cell_type": "code",
   "execution_count": 66,
   "metadata": {},
   "outputs": [
    {
     "data": {
      "text/html": [
       "<div>\n",
       "<style scoped>\n",
       "    .dataframe tbody tr th:only-of-type {\n",
       "        vertical-align: middle;\n",
       "    }\n",
       "\n",
       "    .dataframe tbody tr th {\n",
       "        vertical-align: top;\n",
       "    }\n",
       "\n",
       "    .dataframe thead th {\n",
       "        text-align: right;\n",
       "    }\n",
       "</style>\n",
       "<table border=\"1\" class=\"dataframe\">\n",
       "  <thead>\n",
       "    <tr style=\"text-align: right;\">\n",
       "      <th></th>\n",
       "      <th>isFraud</th>\n",
       "      <th>TransactionAmt</th>\n",
       "      <th>card1</th>\n",
       "      <th>card2</th>\n",
       "      <th>card3</th>\n",
       "      <th>card5</th>\n",
       "      <th>addr1</th>\n",
       "      <th>addr2</th>\n",
       "      <th>C1</th>\n",
       "      <th>C2</th>\n",
       "      <th>...</th>\n",
       "      <th>id_36_true</th>\n",
       "      <th>DeviceType_desktop</th>\n",
       "      <th>id_34_match_status:2</th>\n",
       "      <th>id_29_found</th>\n",
       "      <th>id_38_true</th>\n",
       "      <th>id_12_found</th>\n",
       "      <th>DeviceInfo_windows</th>\n",
       "      <th>id_30_ios</th>\n",
       "      <th>id_31_chrome</th>\n",
       "      <th>id_33_resolution</th>\n",
       "    </tr>\n",
       "  </thead>\n",
       "  <tbody>\n",
       "    <tr>\n",
       "      <th>0</th>\n",
       "      <td>0</td>\n",
       "      <td>50.000</td>\n",
       "      <td>4497</td>\n",
       "      <td>514.0</td>\n",
       "      <td>150.0</td>\n",
       "      <td>102.0</td>\n",
       "      <td>420.000000</td>\n",
       "      <td>87.0</td>\n",
       "      <td>1</td>\n",
       "      <td>1</td>\n",
       "      <td>...</td>\n",
       "      <td>0</td>\n",
       "      <td>0.0</td>\n",
       "      <td>1.0</td>\n",
       "      <td>0.0</td>\n",
       "      <td>1</td>\n",
       "      <td>0</td>\n",
       "      <td>0</td>\n",
       "      <td>0</td>\n",
       "      <td>0</td>\n",
       "      <td>0</td>\n",
       "    </tr>\n",
       "    <tr>\n",
       "      <th>1</th>\n",
       "      <td>0</td>\n",
       "      <td>15.000</td>\n",
       "      <td>2803</td>\n",
       "      <td>100.0</td>\n",
       "      <td>150.0</td>\n",
       "      <td>226.0</td>\n",
       "      <td>337.000000</td>\n",
       "      <td>87.0</td>\n",
       "      <td>1</td>\n",
       "      <td>1</td>\n",
       "      <td>...</td>\n",
       "      <td>0</td>\n",
       "      <td>0.0</td>\n",
       "      <td>0.0</td>\n",
       "      <td>0.0</td>\n",
       "      <td>1</td>\n",
       "      <td>0</td>\n",
       "      <td>0</td>\n",
       "      <td>1</td>\n",
       "      <td>0</td>\n",
       "      <td>0</td>\n",
       "    </tr>\n",
       "    <tr>\n",
       "      <th>2</th>\n",
       "      <td>0</td>\n",
       "      <td>75.887</td>\n",
       "      <td>16496</td>\n",
       "      <td>352.0</td>\n",
       "      <td>117.0</td>\n",
       "      <td>134.0</td>\n",
       "      <td>281.333333</td>\n",
       "      <td>87.0</td>\n",
       "      <td>1</td>\n",
       "      <td>4</td>\n",
       "      <td>...</td>\n",
       "      <td>0</td>\n",
       "      <td>1.0</td>\n",
       "      <td>0.0</td>\n",
       "      <td>1.0</td>\n",
       "      <td>1</td>\n",
       "      <td>0</td>\n",
       "      <td>1</td>\n",
       "      <td>0</td>\n",
       "      <td>1</td>\n",
       "      <td>0</td>\n",
       "    </tr>\n",
       "  </tbody>\n",
       "</table>\n",
       "<p>3 rows × 132 columns</p>\n",
       "</div>"
      ],
      "text/plain": [
       "   isFraud  TransactionAmt  card1  card2  card3  card5       addr1  addr2  C1  \\\n",
       "0        0          50.000   4497  514.0  150.0  102.0  420.000000   87.0   1   \n",
       "1        0          15.000   2803  100.0  150.0  226.0  337.000000   87.0   1   \n",
       "2        0          75.887  16496  352.0  117.0  134.0  281.333333   87.0   1   \n",
       "\n",
       "   C2  ...  id_36_true  DeviceType_desktop  id_34_match_status:2  id_29_found  \\\n",
       "0   1  ...           0                 0.0                   1.0          0.0   \n",
       "1   1  ...           0                 0.0                   0.0          0.0   \n",
       "2   4  ...           0                 1.0                   0.0          1.0   \n",
       "\n",
       "   id_38_true  id_12_found  DeviceInfo_windows  id_30_ios  id_31_chrome  \\\n",
       "0           1            0                   0          0             0   \n",
       "1           1            0                   0          1             0   \n",
       "2           1            0                   1          0             1   \n",
       "\n",
       "   id_33_resolution  \n",
       "0                 0  \n",
       "1                 0  \n",
       "2                 0  \n",
       "\n",
       "[3 rows x 132 columns]"
      ]
     },
     "execution_count": 66,
     "metadata": {},
     "output_type": "execute_result"
    }
   ],
   "source": [
    "impute_nan.head(3)"
   ]
  },
  {
   "cell_type": "code",
   "execution_count": 67,
   "metadata": {},
   "outputs": [
    {
     "data": {
      "text/plain": [
       "0    129763\n",
       "1     11222\n",
       "Name: isFraud, dtype: int64"
      ]
     },
     "execution_count": 67,
     "metadata": {},
     "output_type": "execute_result"
    }
   ],
   "source": [
    "impute_nan['isFraud'].value_counts()"
   ]
  },
  {
   "cell_type": "markdown",
   "metadata": {},
   "source": [
    "### Feature Importance "
   ]
  },
  {
   "cell_type": "code",
   "execution_count": 68,
   "metadata": {},
   "outputs": [],
   "source": [
    "def feature_importance(df, column_split_predict):\n",
    "    X = df.ix[:, df.columns != column_split_predict]\n",
    "    y = df.ix[:, df.columns == column_split_predict]\n",
    "    \n",
    "    fe = ExtraTreesClassifier(random_state=101)\n",
    "    fe.fit(X,y)\n",
    "    \n",
    "    feat_importances = pd.Series(fe.feature_importances_, index=X.columns)\n",
    "    feat_importances.nlargest(15).plot(kind='barh')\n",
    "    plt.show()"
   ]
  },
  {
   "cell_type": "code",
   "execution_count": 69,
   "metadata": {},
   "outputs": [],
   "source": [
    "def recursive_feature_elimination(df, column_split_predict):\n",
    "    model = LogisticRegression()\n",
    "    rfe = RFE(model, 12)\n",
    "    \n",
    "    X = df.ix[:, df.columns != column_split_predict]\n",
    "    y = df.ix[:, df.columns == column_split_predict]\n",
    "    \n",
    "    fit = rfe.fit(X, y)\n",
    "    print(\"Num Features: %s\" % (fit.n_features_))\n",
    "    print(\"Selected Features: %s\" % (fit.support_))\n",
    "    print(\"Feature Ranking: %s\" % (fit.ranking_))\n",
    "    \n",
    "    important = fit.ranking_\n",
    "    result = np.where(important == 1)\n",
    "    df = df.iloc[:, result]\n",
    "    return important"
   ]
  },
  {
   "cell_type": "markdown",
   "metadata": {},
   "source": [
    "## Undersample based on fraud 50/50 ratio "
   ]
  },
  {
   "cell_type": "code",
   "execution_count": 70,
   "metadata": {},
   "outputs": [],
   "source": [
    "#UnderSampling Method, 50/50 ratio of fraud and normal transactions\n",
    "num_fraud_records = len(impute_nan[impute_nan.isFraud ==1])\n",
    "fraud_indices = np.array(impute_nan[impute_nan.isFraud == 1].index)\n",
    "normal_indices = impute_nan[impute_nan.isFraud == 0].index\n",
    "random_normal_indices = np.random.choice(normal_indices, num_fraud_records, replace = False)\n",
    "random_normal_indices = np.array(random_normal_indices)\n",
    "concate_indices = np.concatenate([fraud_indices,random_normal_indices])\n",
    "balanced_sample_data = impute_nan.iloc[concate_indices,:]"
   ]
  },
  {
   "cell_type": "code",
   "execution_count": 71,
   "metadata": {},
   "outputs": [],
   "source": [
    "X_undersample = balanced_sample_data.ix[:, balanced_sample_data.columns != 'isFraud']\n",
    "y_undersample = balanced_sample_data.ix[:, balanced_sample_data.columns == 'isFraud']"
   ]
  },
  {
   "cell_type": "code",
   "execution_count": 72,
   "metadata": {},
   "outputs": [],
   "source": [
    "list_lists_important_features = []"
   ]
  },
  {
   "cell_type": "code",
   "execution_count": 73,
   "metadata": {},
   "outputs": [],
   "source": [
    "def log_feature_importance(X, Y):\n",
    "    sel_ = SelectFromModel(LogisticRegression(C=0.1, penalty='l1'))\n",
    "    sel_.fit(X, Y)\n",
    "    sel_.get_support()\n",
    "    selected_feat = X.columns[(sel_.get_support())]\n",
    "    print('total features: {}'.format((X.shape[1])))\n",
    "    print('selected features: {}'.format(len(selected_feat)))\n",
    "    print('features with coefficients shrank to zero: {}'.format(\n",
    "          np.sum(sel_.estimator_.coef_ == 0)))\n",
    "    return selected_feat"
   ]
  },
  {
   "cell_type": "code",
   "execution_count": 74,
   "metadata": {},
   "outputs": [
    {
     "name": "stdout",
     "output_type": "stream",
     "text": [
      "total features: 131\n",
      "selected features: 94\n",
      "features with coefficients shrank to zero: 35\n"
     ]
    }
   ],
   "source": [
    "selected_feat = log_feature_importance(X_undersample, y_undersample)"
   ]
  },
  {
   "cell_type": "code",
   "execution_count": 75,
   "metadata": {},
   "outputs": [
    {
     "data": {
      "text/plain": [
       "94"
      ]
     },
     "execution_count": 75,
     "metadata": {},
     "output_type": "execute_result"
    }
   ],
   "source": [
    "len(selected_feat)"
   ]
  },
  {
   "cell_type": "code",
   "execution_count": 76,
   "metadata": {},
   "outputs": [],
   "source": [
    "list_lists_important_features.append(selected_feat)"
   ]
  },
  {
   "cell_type": "code",
   "execution_count": 77,
   "metadata": {},
   "outputs": [],
   "source": [
    "def lgbc_feature_importance(X, Y):\n",
    "    lgbc=LGBMClassifier(n_estimators=500, learning_rate=0.05, num_leaves=32, colsample_bytree=0.2,\n",
    "                reg_alpha=3, reg_lambda=1, min_split_gain=0.01, min_child_weight=40)\n",
    "\n",
    "    embeded_lgb_selector = SelectFromModel(lgbc)\n",
    "    embeded_lgb_selector.fit(X, Y)\n",
    "    embeded_lgb_support = embeded_lgb_selector.get_support()\n",
    "    embeded_lgb_feature = X.loc[:,embeded_lgb_support].columns.tolist()\n",
    "    print(str(len(embeded_lgb_feature)), 'selected features')\n",
    "    return embeded_lgb_feature"
   ]
  },
  {
   "cell_type": "code",
   "execution_count": 78,
   "metadata": {},
   "outputs": [
    {
     "name": "stdout",
     "output_type": "stream",
     "text": [
      "33 selected features\n"
     ]
    }
   ],
   "source": [
    "lgbc_important_features = lgbc_feature_importance(X_undersample, y_undersample)"
   ]
  },
  {
   "cell_type": "code",
   "execution_count": 79,
   "metadata": {},
   "outputs": [],
   "source": [
    "list_lists_important_features.append(lgbc_important_features)"
   ]
  },
  {
   "cell_type": "code",
   "execution_count": 80,
   "metadata": {},
   "outputs": [],
   "source": [
    "def randomForest_feature_importance(X, Y):\n",
    "    embeded_rf_selector = SelectFromModel(RandomForestClassifier(n_estimators=100))\n",
    "    embeded_rf_selector.fit(X, Y)\n",
    "    embeded_rf_support = embeded_rf_selector.get_support()\n",
    "    embeded_rf_feature = X.loc[:,embeded_rf_support].columns.tolist()\n",
    "    print(str(len(embeded_rf_feature)), 'selected features')\n",
    "    return embeded_rf_feature"
   ]
  },
  {
   "cell_type": "code",
   "execution_count": 81,
   "metadata": {},
   "outputs": [
    {
     "name": "stdout",
     "output_type": "stream",
     "text": [
      "30 selected features\n"
     ]
    }
   ],
   "source": [
    "randomForest_important_features = randomForest_feature_importance(X_undersample, y_undersample)"
   ]
  },
  {
   "cell_type": "code",
   "execution_count": 82,
   "metadata": {},
   "outputs": [],
   "source": [
    "list_lists_important_features.append(randomForest_important_features)"
   ]
  },
  {
   "cell_type": "code",
   "execution_count": 83,
   "metadata": {},
   "outputs": [],
   "source": [
    "def chi2_feature_importance(X, Y):\n",
    "    X_undersample_norm  = preprocessing.MinMaxScaler().fit_transform(X)\n",
    "    chi_selector = SelectKBest(chi2, k=100)\n",
    "    chi_selector.fit(X_undersample_norm, Y)\n",
    "\n",
    "    chi_support = chi_selector.get_support()\n",
    "    chi_feature = X.loc[:,chi_support].columns.tolist()\n",
    "    print(str(len(chi_feature)), 'selected features')\n",
    "    return chi_feature"
   ]
  },
  {
   "cell_type": "code",
   "execution_count": 84,
   "metadata": {},
   "outputs": [
    {
     "name": "stdout",
     "output_type": "stream",
     "text": [
      "100 selected features\n"
     ]
    }
   ],
   "source": [
    "chi2_important_features = chi2_feature_importance(X_undersample, y_undersample)"
   ]
  },
  {
   "cell_type": "code",
   "execution_count": 85,
   "metadata": {},
   "outputs": [],
   "source": [
    "list_lists_important_features.append(chi2_important_features)"
   ]
  },
  {
   "cell_type": "code",
   "execution_count": 86,
   "metadata": {},
   "outputs": [],
   "source": [
    "def correlation_feature_importance(X, Y):\n",
    "    cor_list = []\n",
    "    # calculate the correlation with y for each feature\n",
    "    for i in X.columns.tolist():\n",
    "        cor = np.corrcoef(X[i], Y.isFraud)[0, 1]\n",
    "        cor_list.append(cor)\n",
    "\n",
    "    # replace NaN with 0\n",
    "    cor_list = [0 if np.isnan(i) else i for i in cor_list]\n",
    "    # feature name\n",
    "    cor_feature = X.iloc[:,np.argsort(np.abs(cor_list))[-29:]].columns.tolist()\n",
    "    return cor_feature"
   ]
  },
  {
   "cell_type": "code",
   "execution_count": 87,
   "metadata": {},
   "outputs": [],
   "source": [
    "correlation_important_features = correlation_feature_importance(X_undersample, y_undersample)"
   ]
  },
  {
   "cell_type": "code",
   "execution_count": 88,
   "metadata": {},
   "outputs": [],
   "source": [
    "list_lists_important_features.append(correlation_important_features)"
   ]
  },
  {
   "cell_type": "code",
   "execution_count": 89,
   "metadata": {},
   "outputs": [
    {
     "data": {
      "text/plain": [
       "5"
      ]
     },
     "execution_count": 89,
     "metadata": {},
     "output_type": "execute_result"
    }
   ],
   "source": [
    "len(list_lists_important_features)"
   ]
  },
  {
   "cell_type": "code",
   "execution_count": 90,
   "metadata": {},
   "outputs": [],
   "source": [
    "X_train, X_test, y_train, y_test = train_test_split(X_undersample, y_undersample, test_size=0.30, random_state=59)"
   ]
  },
  {
   "cell_type": "code",
   "execution_count": 91,
   "metadata": {},
   "outputs": [
    {
     "name": "stdout",
     "output_type": "stream",
     "text": [
      "0.8808259254476312\n",
      "[[3055  323]\n",
      " [ 479 2877]]\n"
     ]
    }
   ],
   "source": [
    "lgbc=LGBMClassifier(n_estimators=500, learning_rate=0.05, num_leaves=32, colsample_bytree=0.2,\n",
    "                reg_alpha=3, reg_lambda=1, min_split_gain=0.01, min_child_weight=40)\n",
    "\n",
    "lgbc.fit(X_train, y_train)\n",
    "\n",
    "predictbalanc = lgbc.predict(X_test)\n",
    "false_positive_rate, true_positive_rate, thresholds = roc_curve(y_test,predictbalanc)\n",
    "roc_auc_lr_usf = auc(false_positive_rate, true_positive_rate)\n",
    "print(roc_auc_lr_usf)\n",
    "print(confusion_matrix(y_test,predictbalanc))"
   ]
  },
  {
   "cell_type": "code",
   "execution_count": 92,
   "metadata": {},
   "outputs": [
    {
     "name": "stdout",
     "output_type": "stream",
     "text": [
      "0.8836275670026413\n",
      "[[3085  293]\n",
      " [ 490 2866]]\n"
     ]
    }
   ],
   "source": [
    "model = XGBClassifier(learning_rate=0.1, n_estimators=140, max_depth=5,\n",
    "                        min_child_weight=3, gamma=0.2, subsample=0.6, colsample_bytree=1.0,\n",
    "                      nthread=4, scale_pos_weight=1, seed=27)\n",
    "model.fit(X_train, y_train)\n",
    "\n",
    "predictbalanc = model.predict(X_test)\n",
    "false_positive_rate, true_positive_rate, thresholds = roc_curve(y_test,predictbalanc)\n",
    "roc_auc_lr_usf = auc(false_positive_rate, true_positive_rate)\n",
    "print(roc_auc_lr_usf)\n",
    "print(confusion_matrix(y_test,predictbalanc))"
   ]
  },
  {
   "cell_type": "code",
   "execution_count": 93,
   "metadata": {},
   "outputs": [
    {
     "name": "stdout",
     "output_type": "stream",
     "text": [
      "0.8802260966458278\n",
      "[[3059  319]\n",
      " [ 487 2869]]\n",
      "0.8781509536219426\n",
      "[[3048  330]\n",
      " [ 490 2866]]\n",
      "0.8762092725064587\n",
      "[[3053  325]\n",
      " [ 508 2848]]\n",
      "0.878445046155062\n",
      "[[3052  326]\n",
      " [ 492 2864]]\n",
      "0.759759655655927\n",
      "[[2686  692]\n",
      " [ 925 2431]]\n"
     ]
    }
   ],
   "source": [
    "for selected_feat in range(len(list_lists_important_features)):\n",
    "    x_with_important_features = X_train[list_lists_important_features[selected_feat]]\n",
    "  \n",
    "    lgbc=LGBMClassifier(n_estimators=500, learning_rate=0.05, num_leaves=32, colsample_bytree=0.2,\n",
    "                reg_alpha=3, reg_lambda=1, min_split_gain=0.01, min_child_weight=40)\n",
    "    \n",
    "    lgbc.fit(x_with_important_features, y_train)\n",
    "  \n",
    "    predictbalanc = lgbc.predict(X_test[list_lists_important_features[selected_feat]])\n",
    "    false_positive_rate, true_positive_rate, thresholds = roc_curve(y_test,predictbalanc)\n",
    "    roc_auc_lr_usf = auc(false_positive_rate, true_positive_rate)\n",
    "    print(roc_auc_lr_usf)\n",
    "    print(confusion_matrix(y_test,predictbalanc))"
   ]
  },
  {
   "cell_type": "code",
   "execution_count": 94,
   "metadata": {},
   "outputs": [
    {
     "name": "stdout",
     "output_type": "stream",
     "text": [
      "0.8852596306042534\n",
      "[[3092  286]\n",
      " [ 486 2870]]\n",
      "0.8840745276701025\n",
      "[[3085  293]\n",
      " [ 487 2869]]\n",
      "0.8810967305096216\n",
      "[[3083  295]\n",
      " [ 505 2851]]\n",
      "0.8821396387336979\n",
      "[[3083  295]\n",
      " [ 498 2858]]\n",
      "0.7658555040643693\n",
      "[[2699  679]\n",
      " [ 897 2459]]\n"
     ]
    }
   ],
   "source": [
    "for selected_feat in range(len(list_lists_important_features)):\n",
    "    x_with_important_features = X_train[list_lists_important_features[selected_feat]]\n",
    "  \n",
    "    model = XGBClassifier(learning_rate=0.1, n_estimators=140, max_depth=5,\n",
    "                          min_child_weight=3, gamma=0.2, subsample=0.6, colsample_bytree=1.0,\n",
    "                          nthread=4, scale_pos_weight=1, seed=27)\n",
    "    \n",
    "    model.fit(x_with_important_features, y_train)\n",
    "  \n",
    "    predictbalanc = model.predict(X_test[list_lists_important_features[selected_feat]])\n",
    "    false_positive_rate, true_positive_rate, thresholds = roc_curve(y_test,predictbalanc)\n",
    "    roc_auc_lr_usf = auc(false_positive_rate, true_positive_rate)\n",
    "    print(roc_auc_lr_usf)\n",
    "    print(confusion_matrix(y_test,predictbalanc))"
   ]
  },
  {
   "cell_type": "code",
   "execution_count": 95,
   "metadata": {},
   "outputs": [],
   "source": [
    "X= impute_nan.ix[:, impute_nan.columns != 'isFraud']\n",
    "y= impute_nan.ix[:, impute_nan.columns == 'isFraud']"
   ]
  },
  {
   "cell_type": "markdown",
   "metadata": {},
   "source": [
    "### ADASYN"
   ]
  },
  {
   "cell_type": "code",
   "execution_count": 96,
   "metadata": {},
   "outputs": [],
   "source": [
    "method = ADASYN(sampling_strategy=1)\n",
    "X_resampled, y_resampled = method.fit_sample(X, y)\n",
    "X_train, X_test, y_train, y_test = train_test_split(X_resampled, y_resampled, test_size=0.30, random_state=59)"
   ]
  },
  {
   "cell_type": "code",
   "execution_count": 97,
   "metadata": {},
   "outputs": [
    {
     "data": {
      "text/plain": [
       "261023"
      ]
     },
     "execution_count": 97,
     "metadata": {},
     "output_type": "execute_result"
    }
   ],
   "source": [
    "len(y_resampled)"
   ]
  },
  {
   "cell_type": "markdown",
   "metadata": {},
   "source": [
    "logbalanc= LogisticRegression(C=10, penalty='l1')\n",
    "logbalanc.fit(X_train, y_train)\n",
    "\n",
    "predictbalanc = logbalanc.predict(X_test)\n",
    "false_positive_rate, true_positive_rate, thresholds = roc_curve(y_test,predictbalanc)\n",
    "roc_auc_lr_usf = auc(false_positive_rate, true_positive_rate)\n",
    "print(roc_auc_lr_usf)\n",
    "print(confusion_matrix(y_test,predictbalanc))"
   ]
  },
  {
   "cell_type": "code",
   "execution_count": 98,
   "metadata": {},
   "outputs": [
    {
     "name": "stdout",
     "output_type": "stream",
     "text": [
      "0.9815265295729463\n",
      "[[38858   278]\n",
      " [ 1169 38002]]\n"
     ]
    }
   ],
   "source": [
    "lgbc=LGBMClassifier(n_estimators=500, learning_rate=0.05, num_leaves=32, colsample_bytree=0.2,\n",
    "                reg_alpha=3, reg_lambda=1, min_split_gain=0.01, min_child_weight=40)\n",
    "\n",
    "lgbc.fit(X_train, y_train)\n",
    "\n",
    "predictbalanc = lgbc.predict(X_test)\n",
    "false_positive_rate, true_positive_rate, thresholds = roc_curve(y_test,predictbalanc)\n",
    "roc_auc_lr_usf = auc(false_positive_rate, true_positive_rate)\n",
    "print(roc_auc_lr_usf)\n",
    "print(confusion_matrix(y_test,predictbalanc))"
   ]
  },
  {
   "cell_type": "code",
   "execution_count": 99,
   "metadata": {},
   "outputs": [
    {
     "name": "stdout",
     "output_type": "stream",
     "text": [
      "0.9793177838002495\n",
      "[[38816   320]\n",
      " [ 1300 37871]]\n"
     ]
    }
   ],
   "source": [
    "model = XGBClassifier(learning_rate=0.1, n_estimators=140, max_depth=5,\n",
    "                        min_child_weight=3, gamma=0.2, subsample=0.6, colsample_bytree=1.0,\n",
    "                      nthread=4, scale_pos_weight=1, seed=27)\n",
    "\n",
    "model.fit(X_train, y_train)\n",
    "\n",
    "predict = model.predict(X_test)\n",
    "false_positive_rate, true_positive_rate, thresholds = roc_curve(y_test,predict)\n",
    "roc_auc_lr_usf = auc(false_positive_rate, true_positive_rate)\n",
    "print(roc_auc_lr_usf)\n",
    "print(confusion_matrix(y_test,predict))"
   ]
  },
  {
   "cell_type": "code",
   "execution_count": 100,
   "metadata": {},
   "outputs": [],
   "source": [
    "    X_train = pd.DataFrame(X_train, columns = X.columns)\n",
    "    X_test = pd.DataFrame(X_test, columns = X.columns)"
   ]
  },
  {
   "cell_type": "code",
   "execution_count": 101,
   "metadata": {},
   "outputs": [
    {
     "name": "stdout",
     "output_type": "stream",
     "text": [
      "0.9812457438252218\n",
      "[[38861   275]\n",
      " [ 1194 37977]]\n",
      "0.9806457302919859\n",
      "[[38854   282]\n",
      " [ 1234 37937]]\n",
      "0.9800583671484191\n",
      "[[38837   299]\n",
      " [ 1263 37908]]\n",
      "0.9806457531230918\n",
      "[[38856   280]\n",
      " [ 1236 37935]]\n",
      "0.9595968126095672\n",
      "[[38838   298]\n",
      " [ 2867 36304]]\n"
     ]
    }
   ],
   "source": [
    "for selected_feat in range(len(list_lists_important_features)):\n",
    "    x_with_important_features = X_train[list_lists_important_features[selected_feat]]\n",
    "  \n",
    "    lgbc=LGBMClassifier(n_estimators=500, learning_rate=0.05, num_leaves=32, colsample_bytree=0.2,\n",
    "                reg_alpha=3, reg_lambda=1, min_split_gain=0.01, min_child_weight=40)\n",
    "    \n",
    "    lgbc.fit(x_with_important_features, y_train)\n",
    "  \n",
    "    predictbalanc = lgbc.predict(X_test[list_lists_important_features[selected_feat]])\n",
    "    false_positive_rate, true_positive_rate, thresholds = roc_curve(y_test,predictbalanc)\n",
    "    roc_auc_lr_usf = auc(false_positive_rate, true_positive_rate)\n",
    "    print(roc_auc_lr_usf)\n",
    "    print(confusion_matrix(y_test,predictbalanc))"
   ]
  },
  {
   "cell_type": "code",
   "execution_count": 102,
   "metadata": {},
   "outputs": [
    {
     "name": "stdout",
     "output_type": "stream",
     "text": [
      "0.9793818120061997\n",
      "[[38834   302]\n",
      " [ 1313 37858]]\n",
      "0.9780151495034048\n",
      "[[38759   377]\n",
      " [ 1345 37826]]\n",
      "0.9779895176730294\n",
      "[[38750   386]\n",
      " [ 1338 37833]]\n",
      "0.9789728556910449\n",
      "[[38791   345]\n",
      " [ 1302 37869]]\n",
      "0.9579367938782494\n",
      "[[38783   353]\n",
      " [ 2942 36229]]\n"
     ]
    }
   ],
   "source": [
    "for selected_feat in range(len(list_lists_important_features)):\n",
    "    x_with_important_features = X_train[list_lists_important_features[selected_feat]]\n",
    "  \n",
    "    model = XGBClassifier(learning_rate=0.1, n_estimators=140, max_depth=5,\n",
    "                          min_child_weight=3, gamma=0.2, subsample=0.6, colsample_bytree=1.0,\n",
    "                          nthread=4, scale_pos_weight=1, seed=27)\n",
    "    \n",
    "    model.fit(x_with_important_features, y_train)\n",
    "  \n",
    "    predictbalanc = model.predict(X_test[list_lists_important_features[selected_feat]])\n",
    "    false_positive_rate, true_positive_rate, thresholds = roc_curve(y_test,predictbalanc)\n",
    "    roc_auc_lr_usf = auc(false_positive_rate, true_positive_rate)\n",
    "    print(roc_auc_lr_usf)\n",
    "    print(confusion_matrix(y_test,predictbalanc))"
   ]
  },
  {
   "cell_type": "markdown",
   "metadata": {},
   "source": [
    "### BorderLineSMOTE"
   ]
  },
  {
   "cell_type": "code",
   "execution_count": 103,
   "metadata": {},
   "outputs": [],
   "source": [
    "method = BorderlineSMOTE(sampling_strategy='not minority')\n",
    "X_resampled, y_resampled = method.fit_sample(X, y)\n",
    "X_train, X_test, y_train, y_test = train_test_split(X_resampled, y_resampled, test_size=0.30, random_state=59)"
   ]
  },
  {
   "cell_type": "code",
   "execution_count": 104,
   "metadata": {},
   "outputs": [
    {
     "data": {
      "text/plain": [
       "140985"
      ]
     },
     "execution_count": 104,
     "metadata": {},
     "output_type": "execute_result"
    }
   ],
   "source": [
    "len(X_resampled)"
   ]
  },
  {
   "cell_type": "code",
   "execution_count": 105,
   "metadata": {},
   "outputs": [
    {
     "name": "stdout",
     "output_type": "stream",
     "text": [
      "0.8197765450235138\n",
      "[[38662   291]\n",
      " [ 1180  2163]]\n"
     ]
    }
   ],
   "source": [
    "lgbc=LGBMClassifier(n_estimators=500, learning_rate=0.05, num_leaves=32, colsample_bytree=0.2,\n",
    "                reg_alpha=3, reg_lambda=1, min_split_gain=0.01, min_child_weight=40)\n",
    "\n",
    "lgbc.fit(X_train, y_train)\n",
    "\n",
    "predictbalanc = lgbc.predict(X_test)\n",
    "false_positive_rate, true_positive_rate, thresholds = roc_curve(y_test,predictbalanc)\n",
    "roc_auc_lr_usf = auc(false_positive_rate, true_positive_rate)\n",
    "print(roc_auc_lr_usf)\n",
    "print(confusion_matrix(y_test,predictbalanc))"
   ]
  },
  {
   "cell_type": "code",
   "execution_count": 106,
   "metadata": {},
   "outputs": [
    {
     "name": "stdout",
     "output_type": "stream",
     "text": [
      "0.8084095094267443\n",
      "[[38662   291]\n",
      " [ 1256  2087]]\n"
     ]
    }
   ],
   "source": [
    "model = XGBClassifier(learning_rate=0.1, n_estimators=140, max_depth=5,\n",
    "                        min_child_weight=3, gamma=0.2, subsample=0.6, colsample_bytree=1.0,\n",
    "                      nthread=4, scale_pos_weight=1, seed=27)\n",
    "\n",
    "model.fit(X_train, y_train)\n",
    "\n",
    "predict = model.predict(X_test)\n",
    "false_positive_rate, true_positive_rate, thresholds = roc_curve(y_test,predict)\n",
    "roc_auc_lr_usf = auc(false_positive_rate, true_positive_rate)\n",
    "print(roc_auc_lr_usf)\n",
    "print(confusion_matrix(y_test,predict))"
   ]
  },
  {
   "cell_type": "code",
   "execution_count": 107,
   "metadata": {},
   "outputs": [],
   "source": [
    "X_train = pd.DataFrame(X_train, columns = X.columns)\n",
    "X_test = pd.DataFrame(X_test, columns = X.columns)"
   ]
  },
  {
   "cell_type": "code",
   "execution_count": 109,
   "metadata": {},
   "outputs": [
    {
     "name": "stdout",
     "output_type": "stream",
     "text": [
      "0.8192636663408356\n",
      "[[38657   296]\n",
      " [ 1183  2160]]\n",
      "0.8089179225853834\n",
      "[[38655   298]\n",
      " [ 1252  2091]]\n",
      "0.8112641043077609\n",
      "[[38663   290]\n",
      " [ 1237  2106]]\n",
      "0.8138664450763312\n",
      "[[38656   297]\n",
      " [ 1219  2124]]\n",
      "0.6082223321678866\n",
      "[[38715   238]\n",
      " [ 2599   744]]\n"
     ]
    }
   ],
   "source": [
    "for selected_feat in range(len(list_lists_important_features)):\n",
    "    x_with_important_features = X_train[list_lists_important_features[selected_feat]]\n",
    "  \n",
    "    lgbc=LGBMClassifier(n_estimators=500, learning_rate=0.05, num_leaves=32, colsample_bytree=0.2,\n",
    "                reg_alpha=3, reg_lambda=1, min_split_gain=0.01, min_child_weight=40)\n",
    "    \n",
    "    lgbc.fit(x_with_important_features, y_train)\n",
    "  \n",
    "    predictbalanc = lgbc.predict(X_test[list_lists_important_features[selected_feat]])\n",
    "    false_positive_rate, true_positive_rate, thresholds = roc_curve(y_test,predictbalanc)\n",
    "    roc_auc_lr_usf = auc(false_positive_rate, true_positive_rate)\n",
    "    print(roc_auc_lr_usf)\n",
    "    print(confusion_matrix(y_test,predictbalanc))"
   ]
  },
  {
   "cell_type": "code",
   "execution_count": 110,
   "metadata": {},
   "outputs": [
    {
     "name": "stdout",
     "output_type": "stream",
     "text": [
      "0.8095161876167923\n",
      "[[38655   298]\n",
      " [ 1248  2095]]\n",
      "0.8065678359292593\n",
      "[[38670   283]\n",
      " [ 1269  2074]]\n",
      "0.8046619825226531\n",
      "[[38673   280]\n",
      " [ 1282  2061]]\n",
      "0.8034565214117576\n",
      "[[38649   304]\n",
      " [ 1288  2055]]\n",
      "0.6105729794143028\n",
      "[[38735   218]\n",
      " [ 2585   758]]\n"
     ]
    }
   ],
   "source": [
    "for selected_feat in range(len(list_lists_important_features)):\n",
    "    x_with_important_features = X_train[list_lists_important_features[selected_feat]]\n",
    "  \n",
    "    model = XGBClassifier(learning_rate=0.1, n_estimators=140, max_depth=5,\n",
    "                          min_child_weight=3, gamma=0.2, subsample=0.6, colsample_bytree=1.0,\n",
    "                          nthread=4, scale_pos_weight=1, seed=27)\n",
    "    \n",
    "    model.fit(x_with_important_features, y_train)\n",
    "  \n",
    "    predictbalanc = model.predict(X_test[list_lists_important_features[selected_feat]])\n",
    "    false_positive_rate, true_positive_rate, thresholds = roc_curve(y_test,predictbalanc)\n",
    "    roc_auc_lr_usf = auc(false_positive_rate, true_positive_rate)\n",
    "    print(roc_auc_lr_usf)\n",
    "    print(confusion_matrix(y_test,predictbalanc))"
   ]
  },
  {
   "cell_type": "markdown",
   "metadata": {},
   "source": [
    "### RandomOverSampler"
   ]
  },
  {
   "cell_type": "code",
   "execution_count": 111,
   "metadata": {},
   "outputs": [],
   "source": [
    "method = RandomOverSampler(sampling_strategy='not majority')\n",
    "X_resampled, y_resampled = method.fit_sample(X, y)\n",
    "X_train, X_test, y_train, y_test = train_test_split(X_resampled, y_resampled, test_size=0.30, random_state=59)"
   ]
  },
  {
   "cell_type": "code",
   "execution_count": 112,
   "metadata": {},
   "outputs": [
    {
     "data": {
      "text/plain": [
       "259526"
      ]
     },
     "execution_count": 112,
     "metadata": {},
     "output_type": "execute_result"
    }
   ],
   "source": [
    "len(X_resampled)"
   ]
  },
  {
   "cell_type": "code",
   "execution_count": 113,
   "metadata": {},
   "outputs": [
    {
     "name": "stdout",
     "output_type": "stream",
     "text": [
      "0.9247219022717654\n",
      "[[36739  2408]\n",
      " [ 3447 35264]]\n"
     ]
    }
   ],
   "source": [
    "lgbc=LGBMClassifier(n_estimators=500, learning_rate=0.05, num_leaves=32, colsample_bytree=0.2,\n",
    "                reg_alpha=3, reg_lambda=1, min_split_gain=0.01, min_child_weight=40)\n",
    "\n",
    "lgbc.fit(X_train, y_train)\n",
    "\n",
    "predictbalanc = lgbc.predict(X_test)\n",
    "false_positive_rate, true_positive_rate, thresholds = roc_curve(y_test,predictbalanc)\n",
    "roc_auc_lr_usf = auc(false_positive_rate, true_positive_rate)\n",
    "print(roc_auc_lr_usf)\n",
    "print(confusion_matrix(y_test,predictbalanc))"
   ]
  },
  {
   "cell_type": "code",
   "execution_count": 114,
   "metadata": {},
   "outputs": [
    {
     "name": "stdout",
     "output_type": "stream",
     "text": [
      "0.908465501503766\n",
      "[[36434  2713]\n",
      " [ 4404 34307]]\n"
     ]
    }
   ],
   "source": [
    "model = XGBClassifier(learning_rate=0.1, n_estimators=140, max_depth=5,\n",
    "                        min_child_weight=3, gamma=0.2, subsample=0.6, colsample_bytree=1.0,\n",
    "                      nthread=4, scale_pos_weight=1, seed=27)\n",
    "\n",
    "model.fit(X_train, y_train)\n",
    "\n",
    "predict = model.predict(X_test)\n",
    "false_positive_rate, true_positive_rate, thresholds = roc_curve(y_test,predict)\n",
    "roc_auc_lr_usf = auc(false_positive_rate, true_positive_rate)\n",
    "print(roc_auc_lr_usf)\n",
    "print(confusion_matrix(y_test,predict))"
   ]
  },
  {
   "cell_type": "code",
   "execution_count": 115,
   "metadata": {},
   "outputs": [],
   "source": [
    "X_train = pd.DataFrame(X_train, columns = X.columns)\n",
    "X_test = pd.DataFrame(X_test, columns = X.columns)"
   ]
  },
  {
   "cell_type": "code",
   "execution_count": 116,
   "metadata": {},
   "outputs": [
    {
     "name": "stdout",
     "output_type": "stream",
     "text": [
      "0.919979808139161\n",
      "[[36662  2485]\n",
      " [ 3738 34973]]\n",
      "0.9189228661623474\n",
      "[[36557  2590]\n",
      " [ 3716 34995]]\n",
      "0.9158796718862635\n",
      "[[36522  2625]\n",
      " [ 3917 34794]]\n",
      "0.9168420591880236\n",
      "[[36566  2581]\n",
      " [ 3886 34825]]\n",
      "0.7900053761152662\n",
      "[[31713  7434]\n",
      " [ 8907 29804]]\n"
     ]
    }
   ],
   "source": [
    "for selected_feat in range(len(list_lists_important_features)):\n",
    "    x_with_important_features = X_train[list_lists_important_features[selected_feat]]\n",
    "  \n",
    "    lgbc=LGBMClassifier(n_estimators=500, learning_rate=0.05, num_leaves=32, colsample_bytree=0.2,\n",
    "                reg_alpha=3, reg_lambda=1, min_split_gain=0.01, min_child_weight=40)\n",
    "    \n",
    "    lgbc.fit(x_with_important_features, y_train)\n",
    "  \n",
    "    predictbalanc = lgbc.predict(X_test[list_lists_important_features[selected_feat]])\n",
    "    false_positive_rate, true_positive_rate, thresholds = roc_curve(y_test,predictbalanc)\n",
    "    roc_auc_lr_usf = auc(false_positive_rate, true_positive_rate)\n",
    "    print(roc_auc_lr_usf)\n",
    "    print(confusion_matrix(y_test,predictbalanc))"
   ]
  },
  {
   "cell_type": "code",
   "execution_count": 117,
   "metadata": {},
   "outputs": [
    {
     "name": "stdout",
     "output_type": "stream",
     "text": [
      "0.9032113617024242\n",
      "[[36325  2822]\n",
      " [ 4703 34008]]\n",
      "0.9044454519850293\n",
      "[[36276  2871]\n",
      " [ 4559 34152]]\n",
      "0.9000704786356529\n",
      "[[36161  2986]\n",
      " [ 4784 33927]]\n",
      "0.9005576988355497\n",
      "[[36186  2961]\n",
      " [ 4771 33940]]\n",
      "0.7890039524283097\n",
      "[[31671  7476]\n",
      " [ 8943 29768]]\n"
     ]
    }
   ],
   "source": [
    "for selected_feat in range(len(list_lists_important_features)):\n",
    "    x_with_important_features = X_train[list_lists_important_features[selected_feat]]\n",
    "  \n",
    "    model = XGBClassifier(learning_rate=0.1, n_estimators=140, max_depth=5,\n",
    "                          min_child_weight=3, gamma=0.2, subsample=0.6, colsample_bytree=1.0,\n",
    "                          nthread=4, scale_pos_weight=1, seed=27)\n",
    "    \n",
    "    model.fit(x_with_important_features, y_train)\n",
    "  \n",
    "    predictbalanc = model.predict(X_test[list_lists_important_features[selected_feat]])\n",
    "    false_positive_rate, true_positive_rate, thresholds = roc_curve(y_test,predictbalanc)\n",
    "    roc_auc_lr_usf = auc(false_positive_rate, true_positive_rate)\n",
    "    print(roc_auc_lr_usf)\n",
    "    print(confusion_matrix(y_test,predictbalanc))"
   ]
  },
  {
   "cell_type": "markdown",
   "metadata": {},
   "source": [
    "### SMOTE"
   ]
  },
  {
   "cell_type": "code",
   "execution_count": 118,
   "metadata": {},
   "outputs": [],
   "source": [
    "method = SMOTE(sampling_strategy='all')\n",
    "X_resampled, y_resampled = method.fit_sample(X, y)\n",
    "X_train, X_test, y_train, y_test = train_test_split(X_resampled, y_resampled, test_size=0.30, random_state=59)"
   ]
  },
  {
   "cell_type": "code",
   "execution_count": 119,
   "metadata": {},
   "outputs": [
    {
     "data": {
      "text/plain": [
       "259526"
      ]
     },
     "execution_count": 119,
     "metadata": {},
     "output_type": "execute_result"
    }
   ],
   "source": [
    "len(X_resampled)"
   ]
  },
  {
   "cell_type": "code",
   "execution_count": 120,
   "metadata": {},
   "outputs": [
    {
     "name": "stdout",
     "output_type": "stream",
     "text": [
      "0.9815324791676152\n",
      "[[38859   288]\n",
      " [ 1145 37566]]\n"
     ]
    }
   ],
   "source": [
    "lgbc=LGBMClassifier(n_estimators=500, learning_rate=0.05, num_leaves=32, colsample_bytree=0.2,\n",
    "                reg_alpha=3, reg_lambda=1, min_split_gain=0.01, min_child_weight=40)\n",
    "\n",
    "lgbc.fit(X_train, y_train)\n",
    "\n",
    "predictbalanc = lgbc.predict(X_test)\n",
    "false_positive_rate, true_positive_rate, thresholds = roc_curve(y_test,predictbalanc)\n",
    "roc_auc_lr_usf = auc(false_positive_rate, true_positive_rate)\n",
    "print(roc_auc_lr_usf)\n",
    "print(confusion_matrix(y_test,predictbalanc))"
   ]
  },
  {
   "cell_type": "code",
   "execution_count": 121,
   "metadata": {},
   "outputs": [
    {
     "name": "stdout",
     "output_type": "stream",
     "text": [
      "0.9790082355789007\n",
      "[[38808   339]\n",
      " [ 1290 37421]]\n"
     ]
    }
   ],
   "source": [
    "model = XGBClassifier(learning_rate=0.1, n_estimators=140, max_depth=5,\n",
    "                        min_child_weight=3, gamma=0.2, subsample=0.6, colsample_bytree=1.0,\n",
    "                      nthread=4, scale_pos_weight=1, seed=27)\n",
    "\n",
    "model.fit(X_train, y_train)\n",
    "\n",
    "predict = model.predict(X_test)\n",
    "false_positive_rate, true_positive_rate, thresholds = roc_curve(y_test,predict)\n",
    "roc_auc_lr_usf = auc(false_positive_rate, true_positive_rate)\n",
    "print(roc_auc_lr_usf)\n",
    "print(confusion_matrix(y_test,predict))"
   ]
  },
  {
   "cell_type": "code",
   "execution_count": 122,
   "metadata": {},
   "outputs": [],
   "source": [
    "X_train = pd.DataFrame(X_train, columns = X.columns)\n",
    "X_test = pd.DataFrame(X_test, columns = X.columns)"
   ]
  },
  {
   "cell_type": "code",
   "execution_count": 123,
   "metadata": {},
   "outputs": [
    {
     "name": "stdout",
     "output_type": "stream",
     "text": [
      "0.9809234026118195\n",
      "[[38873   274]\n",
      " [ 1206 37505]]\n",
      "0.980190054857265\n",
      "[[38853   294]\n",
      " [ 1243 37468]]\n",
      "0.9794435031682386\n",
      "[[38835   312]\n",
      " [ 1283 37428]]\n",
      "0.9803700188850082\n",
      "[[38859   288]\n",
      " [ 1235 37476]]\n",
      "0.9593576218934232\n",
      "[[38843   304]\n",
      " [ 2846 35865]]\n"
     ]
    }
   ],
   "source": [
    "for selected_feat in range(len(list_lists_important_features)):\n",
    "    x_with_important_features = X_train[list_lists_important_features[selected_feat]]\n",
    "  \n",
    "    lgbc=LGBMClassifier(n_estimators=500, learning_rate=0.05, num_leaves=32, colsample_bytree=0.2,\n",
    "                reg_alpha=3, reg_lambda=1, min_split_gain=0.01, min_child_weight=40)\n",
    "    \n",
    "    lgbc.fit(x_with_important_features, y_train)\n",
    "  \n",
    "    predictbalanc = lgbc.predict(X_test[list_lists_important_features[selected_feat]])\n",
    "    false_positive_rate, true_positive_rate, thresholds = roc_curve(y_test,predictbalanc)\n",
    "    roc_auc_lr_usf = auc(false_positive_rate, true_positive_rate)\n",
    "    print(roc_auc_lr_usf)\n",
    "    print(confusion_matrix(y_test,predictbalanc))"
   ]
  },
  {
   "cell_type": "code",
   "execution_count": 124,
   "metadata": {},
   "outputs": [
    {
     "name": "stdout",
     "output_type": "stream",
     "text": [
      "0.9791630864286935\n",
      "[[38809   338]\n",
      " [ 1279 37432]]\n",
      "0.9774897313137877\n",
      "[[38769   378]\n",
      " [ 1369 37342]]\n",
      "0.9772367294250704\n",
      "[[38732   415]\n",
      " [ 1352 37359]]\n",
      "0.9782770456426687\n",
      "[[38773   374]\n",
      " [ 1312 37399]]\n",
      "0.9568365431049151\n",
      "[[38770   377]\n",
      " [ 2969 35742]]\n"
     ]
    }
   ],
   "source": [
    "for selected_feat in range(len(list_lists_important_features)):\n",
    "    x_with_important_features = X_train[list_lists_important_features[selected_feat]]\n",
    "  \n",
    "    model = XGBClassifier(learning_rate=0.1, n_estimators=140, max_depth=5,\n",
    "                          min_child_weight=3, gamma=0.2, subsample=0.6, colsample_bytree=1.0,\n",
    "                          nthread=4, scale_pos_weight=1, seed=27)\n",
    "    \n",
    "    model.fit(x_with_important_features, y_train)\n",
    "  \n",
    "    predictbalanc = model.predict(X_test[list_lists_important_features[selected_feat]])\n",
    "    false_positive_rate, true_positive_rate, thresholds = roc_curve(y_test,predictbalanc)\n",
    "    roc_auc_lr_usf = auc(false_positive_rate, true_positive_rate)\n",
    "    print(roc_auc_lr_usf)\n",
    "    print(confusion_matrix(y_test,predictbalanc))"
   ]
  },
  {
   "cell_type": "markdown",
   "metadata": {},
   "source": [
    "### SVMSMOTE"
   ]
  },
  {
   "cell_type": "code",
   "execution_count": 125,
   "metadata": {},
   "outputs": [],
   "source": [
    "method = SVMSMOTE(sampling_strategy='minority')\n",
    "X_resampled, y_resampled = method.fit_sample(X, y)\n",
    "X_train, X_test, y_train, y_test = train_test_split(X_resampled, y_resampled, test_size=0.30, random_state=59)"
   ]
  },
  {
   "cell_type": "code",
   "execution_count": 126,
   "metadata": {},
   "outputs": [
    {
     "data": {
      "text/plain": [
       "259526"
      ]
     },
     "execution_count": 126,
     "metadata": {},
     "output_type": "execute_result"
    }
   ],
   "source": [
    "len(X_resampled)"
   ]
  },
  {
   "cell_type": "code",
   "execution_count": 127,
   "metadata": {},
   "outputs": [
    {
     "name": "stdout",
     "output_type": "stream",
     "text": [
      "0.9812210512133718\n",
      "[[38869   278]\n",
      " [ 1179 37532]]\n"
     ]
    }
   ],
   "source": [
    "lgbc=LGBMClassifier(n_estimators=500, learning_rate=0.05, num_leaves=32, colsample_bytree=0.2,\n",
    "                reg_alpha=3, reg_lambda=1, min_split_gain=0.01, min_child_weight=40)\n",
    "\n",
    "lgbc.fit(X_train, y_train)\n",
    "\n",
    "predictbalanc = lgbc.predict(X_test)\n",
    "false_positive_rate, true_positive_rate, thresholds = roc_curve(y_test,predictbalanc)\n",
    "roc_auc_lr_usf = auc(false_positive_rate, true_positive_rate)\n",
    "print(roc_auc_lr_usf)\n",
    "print(confusion_matrix(y_test,predictbalanc))"
   ]
  },
  {
   "cell_type": "code",
   "execution_count": 128,
   "metadata": {},
   "outputs": [
    {
     "name": "stdout",
     "output_type": "stream",
     "text": [
      "0.9788529531654434\n",
      "[[38810   337]\n",
      " [ 1304 37407]]\n"
     ]
    }
   ],
   "source": [
    "model = XGBClassifier(learning_rate=0.1, n_estimators=140, max_depth=5,\n",
    "                        min_child_weight=3, gamma=0.2, subsample=0.6, colsample_bytree=1.0,\n",
    "                      nthread=4, scale_pos_weight=1, seed=27)\n",
    "\n",
    "model.fit(X_train, y_train)\n",
    "\n",
    "predict = model.predict(X_test)\n",
    "false_positive_rate, true_positive_rate, thresholds = roc_curve(y_test,predict)\n",
    "roc_auc_lr_usf = auc(false_positive_rate, true_positive_rate)\n",
    "print(roc_auc_lr_usf)\n",
    "print(confusion_matrix(y_test,predict))"
   ]
  },
  {
   "cell_type": "code",
   "execution_count": 129,
   "metadata": {},
   "outputs": [],
   "source": [
    "X_train = pd.DataFrame(X_train, columns = X.columns)\n",
    "X_test = pd.DataFrame(X_test, columns = X.columns)"
   ]
  },
  {
   "cell_type": "code",
   "execution_count": 130,
   "metadata": {},
   "outputs": [
    {
     "name": "stdout",
     "output_type": "stream",
     "text": [
      "0.9808081635654426\n",
      "[[38866   281]\n",
      " [ 1208 37503]]\n",
      "0.9801003605525029\n",
      "[[38848   299]\n",
      " [ 1245 37466]]\n",
      "0.979791090416582\n",
      "[[38843   304]\n",
      " [ 1264 37447]]\n",
      "0.9803318456271407\n",
      "[[38855   292]\n",
      " [ 1234 37477]]\n",
      "0.9605982988009782\n",
      "[[38838   309]\n",
      " [ 2745 35966]]\n"
     ]
    }
   ],
   "source": [
    "for selected_feat in range(len(list_lists_important_features)):\n",
    "    x_with_important_features = X_train[list_lists_important_features[selected_feat]]\n",
    "  \n",
    "    lgbc=LGBMClassifier(n_estimators=500, learning_rate=0.05, num_leaves=32, colsample_bytree=0.2,\n",
    "                reg_alpha=3, reg_lambda=1, min_split_gain=0.01, min_child_weight=40)\n",
    "    \n",
    "    lgbc.fit(x_with_important_features, y_train)\n",
    "  \n",
    "    predictbalanc = lgbc.predict(X_test[list_lists_important_features[selected_feat]])\n",
    "    false_positive_rate, true_positive_rate, thresholds = roc_curve(y_test,predictbalanc)\n",
    "    roc_auc_lr_usf = auc(false_positive_rate, true_positive_rate)\n",
    "    print(roc_auc_lr_usf)\n",
    "    print(confusion_matrix(y_test,predictbalanc))"
   ]
  },
  {
   "cell_type": "code",
   "execution_count": 131,
   "metadata": {},
   "outputs": [
    {
     "name": "stdout",
     "output_type": "stream",
     "text": [
      "0.9785558799821107\n",
      "[[38810   337]\n",
      " [ 1327 37384]]\n",
      "0.9775934926803507\n",
      "[[38766   381]\n",
      " [ 1358 37353]]\n",
      "0.9769003321474313\n",
      "[[38736   411]\n",
      " [ 1382 37329]]\n",
      "0.9780403818040573\n",
      "[[38802   345]\n",
      " [ 1359 37352]]\n",
      "0.9559835274973564\n",
      "[[38684   463]\n",
      " [ 2950 35761]]\n"
     ]
    }
   ],
   "source": [
    "for selected_feat in range(len(list_lists_important_features)):\n",
    "    x_with_important_features = X_train[list_lists_important_features[selected_feat]]\n",
    "  \n",
    "    model = XGBClassifier(learning_rate=0.1, n_estimators=140, max_depth=5,\n",
    "                          min_child_weight=3, gamma=0.2, subsample=0.6, colsample_bytree=1.0,\n",
    "                          nthread=4, scale_pos_weight=1, seed=27)\n",
    "    \n",
    "    model.fit(x_with_important_features, y_train)\n",
    "  \n",
    "    predictbalanc = model.predict(X_test[list_lists_important_features[selected_feat]])\n",
    "    false_positive_rate, true_positive_rate, thresholds = roc_curve(y_test,predictbalanc)\n",
    "    roc_auc_lr_usf = auc(false_positive_rate, true_positive_rate)\n",
    "    print(roc_auc_lr_usf)\n",
    "    print(confusion_matrix(y_test,predictbalanc))"
   ]
  },
  {
   "cell_type": "markdown",
   "metadata": {},
   "source": [
    "### RandomUnderSampler"
   ]
  },
  {
   "cell_type": "code",
   "execution_count": 132,
   "metadata": {},
   "outputs": [],
   "source": [
    "method = RandomUnderSampler(random_state=12)\n",
    "X_resampled, y_resampled = method.fit_sample(X, y)\n",
    "X_train, X_test, y_train, y_test = train_test_split(X_resampled, y_resampled, test_size=0.30, random_state=59)"
   ]
  },
  {
   "cell_type": "code",
   "execution_count": 133,
   "metadata": {},
   "outputs": [
    {
     "data": {
      "text/plain": [
       "22444"
      ]
     },
     "execution_count": 133,
     "metadata": {},
     "output_type": "execute_result"
    }
   ],
   "source": [
    "len(X_resampled)"
   ]
  },
  {
   "cell_type": "code",
   "execution_count": 134,
   "metadata": {},
   "outputs": [
    {
     "name": "stdout",
     "output_type": "stream",
     "text": [
      "0.888547486329196\n",
      "[[3055  301]\n",
      " [ 450 2928]]\n"
     ]
    }
   ],
   "source": [
    "lgbc=LGBMClassifier(n_estimators=500, learning_rate=0.05, num_leaves=32, colsample_bytree=0.2,\n",
    "                reg_alpha=3, reg_lambda=1, min_split_gain=0.01, min_child_weight=40)\n",
    "\n",
    "lgbc.fit(X_train, y_train)\n",
    "\n",
    "predictbalanc = lgbc.predict(X_test)\n",
    "false_positive_rate, true_positive_rate, thresholds = roc_curve(y_test,predictbalanc)\n",
    "roc_auc_lr_usf = auc(false_positive_rate, true_positive_rate)\n",
    "print(roc_auc_lr_usf)\n",
    "print(confusion_matrix(y_test,predictbalanc))"
   ]
  },
  {
   "cell_type": "code",
   "execution_count": 135,
   "metadata": {},
   "outputs": [
    {
     "name": "stdout",
     "output_type": "stream",
     "text": [
      "0.8901979858454517\n",
      "[[3078  278]\n",
      " [ 462 2916]]\n"
     ]
    }
   ],
   "source": [
    "model = XGBClassifier(learning_rate=0.1, n_estimators=140, max_depth=5,\n",
    "                        min_child_weight=3, gamma=0.2, subsample=0.6, colsample_bytree=1.0,\n",
    "                      nthread=4, scale_pos_weight=1, seed=27)\n",
    "\n",
    "model.fit(X_train, y_train)\n",
    "\n",
    "predict = model.predict(X_test)\n",
    "false_positive_rate, true_positive_rate, thresholds = roc_curve(y_test,predict)\n",
    "roc_auc_lr_usf = auc(false_positive_rate, true_positive_rate)\n",
    "print(roc_auc_lr_usf)\n",
    "print(confusion_matrix(y_test,predict))"
   ]
  },
  {
   "cell_type": "code",
   "execution_count": 136,
   "metadata": {},
   "outputs": [],
   "source": [
    "X_train = pd.DataFrame(X_train, columns = X.columns)\n",
    "X_test = pd.DataFrame(X_test, columns = X.columns)"
   ]
  },
  {
   "cell_type": "code",
   "execution_count": 137,
   "metadata": {},
   "outputs": [
    {
     "name": "stdout",
     "output_type": "stream",
     "text": [
      "0.8842394805905986\n",
      "[[3039  317]\n",
      " [ 463 2915]]\n",
      "0.883193661432631\n",
      "[[3029  327]\n",
      " [ 460 2918]]\n",
      "0.8830437042321804\n",
      "[[3027  329]\n",
      " [ 459 2919]]\n",
      "0.8857244979256509\n",
      "[[3044  312]\n",
      " [ 458 2920]]\n",
      "0.7617405902738819\n",
      "[[2642  714]\n",
      " [ 891 2487]]\n"
     ]
    }
   ],
   "source": [
    "for selected_feat in range(len(list_lists_important_features)):\n",
    "    x_with_important_features = X_train[list_lists_important_features[selected_feat]]\n",
    "  \n",
    "    lgbc=LGBMClassifier(n_estimators=500, learning_rate=0.05, num_leaves=32, colsample_bytree=0.2,\n",
    "                reg_alpha=3, reg_lambda=1, min_split_gain=0.01, min_child_weight=40)\n",
    "    \n",
    "    lgbc.fit(x_with_important_features, y_train)\n",
    "  \n",
    "    predictbalanc = lgbc.predict(X_test[list_lists_important_features[selected_feat]])\n",
    "    false_positive_rate, true_positive_rate, thresholds = roc_curve(y_test,predictbalanc)\n",
    "    roc_auc_lr_usf = auc(false_positive_rate, true_positive_rate)\n",
    "    print(roc_auc_lr_usf)\n",
    "    print(confusion_matrix(y_test,predictbalanc))"
   ]
  },
  {
   "cell_type": "code",
   "execution_count": 138,
   "metadata": {},
   "outputs": [
    {
     "name": "stdout",
     "output_type": "stream",
     "text": [
      "0.8864936901538455\n",
      "[[3074  282]\n",
      " [ 483 2895]]\n",
      "0.886481076106984\n",
      "[[3061  295]\n",
      " [ 470 2908]]\n",
      "0.8832140379698689\n",
      "[[3050  306]\n",
      " [ 481 2897]]\n",
      "0.8852843294372688\n",
      "[[3048  308]\n",
      " [ 465 2913]]\n",
      "0.7648819289929719\n",
      "[[2676  680]\n",
      " [ 904 2474]]\n"
     ]
    }
   ],
   "source": [
    "for selected_feat in range(len(list_lists_important_features)):\n",
    "    x_with_important_features = X_train[list_lists_important_features[selected_feat]]\n",
    "  \n",
    "    model = XGBClassifier(learning_rate=0.1, n_estimators=140, max_depth=5,\n",
    "                          min_child_weight=3, gamma=0.2, subsample=0.6, colsample_bytree=1.0,\n",
    "                          nthread=4, scale_pos_weight=1, seed=27)\n",
    "    \n",
    "    model.fit(x_with_important_features, y_train)\n",
    "  \n",
    "    predictbalanc = model.predict(X_test[list_lists_important_features[selected_feat]])\n",
    "    false_positive_rate, true_positive_rate, thresholds = roc_curve(y_test,predictbalanc)\n",
    "    roc_auc_lr_usf = auc(false_positive_rate, true_positive_rate)\n",
    "    print(roc_auc_lr_usf)\n",
    "    print(confusion_matrix(y_test,predictbalanc))"
   ]
  },
  {
   "cell_type": "markdown",
   "metadata": {},
   "source": [
    "# NearMiss"
   ]
  },
  {
   "cell_type": "code",
   "execution_count": 139,
   "metadata": {},
   "outputs": [],
   "source": [
    "method = NearMiss(random_state=12)\n",
    "X_resampled, y_resampled = method.fit_sample(X, y)\n",
    "X_train, X_test, y_train, y_test = train_test_split(X_resampled, y_resampled, test_size=0.30, random_state=59)"
   ]
  },
  {
   "cell_type": "code",
   "execution_count": 140,
   "metadata": {},
   "outputs": [
    {
     "data": {
      "text/plain": [
       "22444"
      ]
     },
     "execution_count": 140,
     "metadata": {},
     "output_type": "execute_result"
    }
   ],
   "source": [
    "len(X_resampled)"
   ]
  },
  {
   "cell_type": "markdown",
   "metadata": {},
   "source": [
    "logbalanc= LogisticRegression(C=10, penalty='l1')\n",
    "logbalanc.fit(X_train, y_train)\n",
    "\n",
    "predictbalanc = logbalanc.predict(X_test)\n",
    "false_positive_rate, true_positive_rate, thresholds = roc_curve(y_test,predictbalanc)\n",
    "roc_auc_lr_usf = auc(false_positive_rate, true_positive_rate)\n",
    "print(roc_auc_lr_usf)\n",
    "print(confusion_matrix(y_test,predictbalanc))"
   ]
  },
  {
   "cell_type": "code",
   "execution_count": 141,
   "metadata": {},
   "outputs": [
    {
     "name": "stdout",
     "output_type": "stream",
     "text": [
      "0.9142358604473594\n",
      "[[3139  217]\n",
      " [ 361 3017]]\n"
     ]
    }
   ],
   "source": [
    "lgbc=LGBMClassifier(n_estimators=500, learning_rate=0.05, num_leaves=32, colsample_bytree=0.2,\n",
    "                reg_alpha=3, reg_lambda=1, min_split_gain=0.01, min_child_weight=40)\n",
    "\n",
    "lgbc.fit(X_train, y_train)\n",
    "\n",
    "predictbalanc = lgbc.predict(X_test)\n",
    "false_positive_rate, true_positive_rate, thresholds = roc_curve(y_test,predictbalanc)\n",
    "roc_auc_lr_usf = auc(false_positive_rate, true_positive_rate)\n",
    "print(roc_auc_lr_usf)\n",
    "print(confusion_matrix(y_test,predictbalanc))"
   ]
  },
  {
   "cell_type": "code",
   "execution_count": 142,
   "metadata": {},
   "outputs": [
    {
     "name": "stdout",
     "output_type": "stream",
     "text": [
      "0.9173781694777468\n",
      "[[3174  182]\n",
      " [ 375 3003]]\n"
     ]
    }
   ],
   "source": [
    "model = XGBClassifier(learning_rate=0.1, n_estimators=140, max_depth=5,\n",
    "                        min_child_weight=3, gamma=0.2, subsample=0.6, colsample_bytree=1.0,\n",
    "                      nthread=4, scale_pos_weight=1, seed=27)\n",
    "\n",
    "model.fit(X_train, y_train)\n",
    "\n",
    "predict = model.predict(X_test)\n",
    "false_positive_rate, true_positive_rate, thresholds = roc_curve(y_test,predict)\n",
    "roc_auc_lr_usf = auc(false_positive_rate, true_positive_rate)\n",
    "print(roc_auc_lr_usf)\n",
    "print(confusion_matrix(y_test,predict))"
   ]
  },
  {
   "cell_type": "code",
   "execution_count": 143,
   "metadata": {},
   "outputs": [],
   "source": [
    "X_train = pd.DataFrame(X_train, columns = X.columns)\n",
    "X_test = pd.DataFrame(X_test, columns = X.columns)"
   ]
  },
  {
   "cell_type": "code",
   "execution_count": 144,
   "metadata": {},
   "outputs": [
    {
     "name": "stdout",
     "output_type": "stream",
     "text": [
      "0.9056198489701645\n",
      "[[3107  249]\n",
      " [ 387 2991]]\n",
      "0.9146799101809295\n",
      "[[3139  217]\n",
      " [ 358 3020]]\n",
      "0.9106659969754515\n",
      "[[3121  235]\n",
      " [ 367 3011]]\n",
      "0.908453510797977\n",
      "[[3129  227]\n",
      " [ 390 2988]]\n",
      "0.7600129069044529\n",
      "[[2692  664]\n",
      " [ 953 2425]]\n"
     ]
    }
   ],
   "source": [
    "for selected_feat in range(len(list_lists_important_features)):\n",
    "    x_with_important_features = X_train[list_lists_important_features[selected_feat]]\n",
    "  \n",
    "    lgbc=LGBMClassifier(n_estimators=500, learning_rate=0.05, num_leaves=32, colsample_bytree=0.2,\n",
    "                reg_alpha=3, reg_lambda=1, min_split_gain=0.01, min_child_weight=40)\n",
    "    \n",
    "    lgbc.fit(x_with_important_features, y_train)\n",
    "  \n",
    "    predictbalanc = lgbc.predict(X_test[list_lists_important_features[selected_feat]])\n",
    "    false_positive_rate, true_positive_rate, thresholds = roc_curve(y_test,predictbalanc)\n",
    "    roc_auc_lr_usf = auc(false_positive_rate, true_positive_rate)\n",
    "    print(roc_auc_lr_usf)\n",
    "    print(confusion_matrix(y_test,predictbalanc))"
   ]
  },
  {
   "cell_type": "code",
   "execution_count": 145,
   "metadata": {},
   "outputs": [
    {
     "name": "stdout",
     "output_type": "stream",
     "text": [
      "0.9081739729343131\n",
      "[[3146  210]\n",
      " [ 409 2969]]\n",
      "0.9157334918292732\n",
      "[[3157  199]\n",
      " [ 369 3009]]\n",
      "0.9108266276001696\n",
      "[[3134  222]\n",
      " [ 379 2999]]\n",
      "0.9092159108470923\n",
      "[[3152  204]\n",
      " [ 408 2970]]\n",
      "0.7666998513130253\n",
      "[[2719  637]\n",
      " [ 935 2443]]\n"
     ]
    }
   ],
   "source": [
    "for selected_feat in range(len(list_lists_important_features)):\n",
    "    x_with_important_features = X_train[list_lists_important_features[selected_feat]]\n",
    "  \n",
    "    model = XGBClassifier(learning_rate=0.1, n_estimators=140, max_depth=5,\n",
    "                          min_child_weight=3, gamma=0.2, subsample=0.6, colsample_bytree=1.0,\n",
    "                          nthread=4, scale_pos_weight=1, seed=27)\n",
    "    \n",
    "    model.fit(x_with_important_features, y_train)\n",
    "  \n",
    "    predictbalanc = model.predict(X_test[list_lists_important_features[selected_feat]])\n",
    "    false_positive_rate, true_positive_rate, thresholds = roc_curve(y_test,predictbalanc)\n",
    "    roc_auc_lr_usf = auc(false_positive_rate, true_positive_rate)\n",
    "    print(roc_auc_lr_usf)\n",
    "    print(confusion_matrix(y_test,predictbalanc))"
   ]
  },
  {
   "cell_type": "code",
   "execution_count": 146,
   "metadata": {},
   "outputs": [],
   "source": [
    "X_important_features = X[list_lists_important_features[1]]"
   ]
  },
  {
   "cell_type": "code",
   "execution_count": 147,
   "metadata": {},
   "outputs": [
    {
     "data": {
      "text/plain": [
       "140985"
      ]
     },
     "execution_count": 147,
     "metadata": {},
     "output_type": "execute_result"
    }
   ],
   "source": [
    "len(X_important_features )"
   ]
  },
  {
   "cell_type": "markdown",
   "metadata": {},
   "source": [
    "## LightGM - ADASYN, SMOTE, SVSMOTE"
   ]
  },
  {
   "cell_type": "code",
   "execution_count": 148,
   "metadata": {},
   "outputs": [],
   "source": [
    "oversampling_lgm = {'ADASYN' :ADASYN(sampling_strategy=1), \n",
    "                    'SMOTE': SMOTE(sampling_strategy='all')}\n",
    "                    #'SVMSMOTE': SVMSMOTE(sampling_strategy='minority')}"
   ]
  },
  {
   "cell_type": "code",
   "execution_count": 149,
   "metadata": {},
   "outputs": [
    {
     "name": "stdout",
     "output_type": "stream",
     "text": [
      "ADASYN\n",
      "0.9803866909375777\n",
      "[[38814   308]\n",
      " [ 1227 37907]]\n",
      "SMOTE\n",
      "0.9800222877821098\n",
      "[[38852   295]\n",
      " [ 1255 37456]]\n"
     ]
    }
   ],
   "source": [
    "for method_name, method in oversampling_lgm.items():\n",
    "    print(method_name)\n",
    "    \n",
    "    over_method = method\n",
    "    X_resampled, y_resampled = over_method.fit_sample(X_important_features, y)\n",
    "    \n",
    "    X_train, X_test, y_train, y_test = train_test_split(X_resampled, y_resampled, test_size=0.30, random_state=59)\n",
    "    \n",
    "    lgbc=LGBMClassifier(n_estimators=500, learning_rate=0.05, num_leaves=32, colsample_bytree=0.2,\n",
    "                        reg_alpha=3, reg_lambda=1, min_split_gain=0.01, min_child_weight=40)\n",
    "    \n",
    "    lgbc.fit(X_train, y_train)\n",
    "    \n",
    "    predictLGB = lgbc.predict(X_test)\n",
    "    false_positive_rate, true_positive_rate, thresholds = roc_curve(y_test,predictLGB)\n",
    "    roc_auc_lr_usf = auc(false_positive_rate, true_positive_rate)\n",
    "    \n",
    "    print(roc_auc_lr_usf)\n",
    "    print(confusion_matrix(y_test,predictLGB))\n",
    "\n"
   ]
  },
  {
   "cell_type": "code",
   "execution_count": 161,
   "metadata": {},
   "outputs": [
    {
     "name": "stdout",
     "output_type": "stream",
     "text": [
      "ADASYN\n",
      "acc 0.9801478641840088\n",
      "auc 0.9802358362870576\n",
      "acc 0.9794627454201922\n",
      "auc 0.9795535825137617\n",
      "acc 0.979243681371341\n",
      "auc 0.9793329293804873\n",
      "acc 0.979243681371341\n",
      "auc 0.9793364792551981\n",
      "acc 0.9789698513102768\n",
      "auc 0.9790610572691284\n",
      "mean acc 0.979413564731432\n",
      "mean auc 0.9795039769411267\n",
      "SMOTE\n",
      "acc 0.979331223338379\n",
      "auc 0.9793608247837481\n",
      "acc 0.9804315517146475\n",
      "auc 0.980458567139398\n",
      "acc 0.9787520986431069\n",
      "auc 0.9787822931731102\n",
      "acc 0.9788621913962513\n",
      "auc 0.9788926501780211\n",
      "acc 0.9786144827016762\n",
      "auc 0.9786456650195838\n",
      "mean acc 0.979198309558812\n",
      "mean auc 0.9792280000587722\n"
     ]
    }
   ],
   "source": [
    "for method_name, method in oversampling_lgm.items():\n",
    "    print(method_name)\n",
    "    \n",
    "    over_method = method\n",
    "    X_resampled, y_resampled = over_method.fit_sample(X_important_features, y)\n",
    "    \n",
    "    X_train, X_test, y_train, y_test = train_test_split(X_resampled, y_resampled, test_size=0.30, random_state=59)\n",
    "    \n",
    "    lgbc=LGBMClassifier(n_estimators=500, learning_rate=0.05, num_leaves=32, colsample_bytree=0.2,\n",
    "                        reg_alpha=3, reg_lambda=1, min_split_gain=0.01, min_child_weight=40)\n",
    "    \n",
    "    skfolds = StratifiedKFold(n_splits = 5, random_state=42)\n",
    "    acc_list = []\n",
    "    auc_list = []\n",
    "\n",
    "    for train_index, test_index in skfolds.split(X_train, y_train):\n",
    "        X_train_folds = X_train[train_index]\n",
    "        y_train_folds = y_train[train_index]\n",
    "        X_test_fold = X_train[test_index]\n",
    "        y_test_fold = y_train[test_index]\n",
    "        \n",
    "        lgbc.fit(X_train_folds, y_train_folds)\n",
    "        y_pred = lgbc.predict(X_test_fold)\n",
    "        n_correct = sum(y_pred ==y_test_fold)\n",
    "        print('acc',n_correct/len(y_pred))\n",
    "        acc_list.append(n_correct/len(y_pred))\n",
    "        \n",
    "        false_positive_rate, true_positive_rate, thresholds = roc_curve(y_test_fold,y_pred)\n",
    "        roc_auc_lr_usf = auc(false_positive_rate, true_positive_rate)\n",
    "    \n",
    "        print('auc',roc_auc_lr_usf)\n",
    "        auc_list.append(roc_auc_lr_usf)\n",
    "        \n",
    "    print('mean acc', np.mean(acc_list))\n",
    "    print('mean auc', np.mean(auc_list))\n",
    "        #print(confusion_matrix(y_test_fold,y_pred))"
   ]
  },
  {
   "cell_type": "code",
   "execution_count": 168,
   "metadata": {},
   "outputs": [],
   "source": [
    "from scipy.stats import randint as sp_randint\n",
    "from scipy.stats import uniform as sp_uniform\n",
    "\n",
    "param_test ={'num_leaves': sp_randint(6, 50),\n",
    "             'n_estimators': [10, 500, 1000, 5000 ],\n",
    "             'min_child_weight': [1e-5, 1e-3, 1e-2, 1e-1, 1, 1e1, 1e2, 1e3, 1e4], \n",
    "             'colsample_bytree': sp_uniform(loc=0.4, scale=0.6),\n",
    "             'reg_alpha': [0, 1e-1, 1, 2,3, 5, 7, 10, 50, 100],\n",
    "             'reg_lambda': [0, 1e-1, 1, 5, 10, 20, 50, 100]}\n"
   ]
  },
  {
   "cell_type": "code",
   "execution_count": 169,
   "metadata": {},
   "outputs": [],
   "source": [
    "lgbc=LGBMClassifier(learning_rate=0.05, min_split_gain=0.01, max_depth=-1, random_state=314, silent=True, metric='None',\n",
    "                    n_jobs=4)\n",
    "\n",
    "gs = RandomizedSearchCV(estimator=lgbc, \n",
    "                        param_distributions=param_test,\n",
    "                        n_iter=30,\n",
    "                        scoring='roc_auc',\n",
    "                        cv=3,refit=True,\n",
    "                        random_state=314,\n",
    "                        verbose=True)"
   ]
  },
  {
   "cell_type": "code",
   "execution_count": 170,
   "metadata": {},
   "outputs": [
    {
     "name": "stdout",
     "output_type": "stream",
     "text": [
      "Fitting 3 folds for each of 30 candidates, totalling 90 fits\n"
     ]
    },
    {
     "name": "stderr",
     "output_type": "stream",
     "text": [
      "[Parallel(n_jobs=1)]: Using backend SequentialBackend with 1 concurrent workers.\n"
     ]
    },
    {
     "name": "stdout",
     "output_type": "stream",
     "text": [
      "Training until validation scores don't improve for 30 rounds.\n",
      "[100]\tvalid's auc: 0.993276\n",
      "[200]\tvalid's auc: 0.995177\n",
      "[300]\tvalid's auc: 0.995801\n",
      "[400]\tvalid's auc: 0.99611\n",
      "[500]\tvalid's auc: 0.996322\n",
      "[600]\tvalid's auc: 0.996444\n",
      "[700]\tvalid's auc: 0.996542\n",
      "[800]\tvalid's auc: 0.996612\n",
      "[900]\tvalid's auc: 0.996668\n",
      "[1000]\tvalid's auc: 0.996717\n",
      "Did not meet early stopping. Best iteration is:\n",
      "[1000]\tvalid's auc: 0.996717\n",
      "Training until validation scores don't improve for 30 rounds.\n",
      "[100]\tvalid's auc: 0.993184\n",
      "[200]\tvalid's auc: 0.995105\n",
      "[300]\tvalid's auc: 0.995725\n",
      "[400]\tvalid's auc: 0.996067\n",
      "[500]\tvalid's auc: 0.996268\n",
      "[600]\tvalid's auc: 0.996419\n",
      "[700]\tvalid's auc: 0.996508\n",
      "[800]\tvalid's auc: 0.996579\n",
      "[900]\tvalid's auc: 0.996645\n",
      "[1000]\tvalid's auc: 0.996697\n",
      "Did not meet early stopping. Best iteration is:\n",
      "[1000]\tvalid's auc: 0.996697\n",
      "Training until validation scores don't improve for 30 rounds.\n",
      "[100]\tvalid's auc: 0.993265\n",
      "[200]\tvalid's auc: 0.995199\n",
      "[300]\tvalid's auc: 0.995794\n",
      "[400]\tvalid's auc: 0.996135\n",
      "[500]\tvalid's auc: 0.99632\n",
      "[600]\tvalid's auc: 0.996481\n",
      "[700]\tvalid's auc: 0.996596\n",
      "[800]\tvalid's auc: 0.996686\n",
      "[900]\tvalid's auc: 0.996752\n",
      "[1000]\tvalid's auc: 0.996808\n",
      "Did not meet early stopping. Best iteration is:\n",
      "[1000]\tvalid's auc: 0.996808\n",
      "Training until validation scores don't improve for 30 rounds.\n",
      "Early stopping, best iteration is:\n",
      "[41]\tvalid's auc: 0.923341\n",
      "Training until validation scores don't improve for 30 rounds.\n",
      "Early stopping, best iteration is:\n",
      "[41]\tvalid's auc: 0.923363\n",
      "Training until validation scores don't improve for 30 rounds.\n",
      "Early stopping, best iteration is:\n",
      "[40]\tvalid's auc: 0.923316\n",
      "Training until validation scores don't improve for 30 rounds.\n",
      "Did not meet early stopping. Best iteration is:\n",
      "[7]\tvalid's auc: 0.963547\n",
      "Training until validation scores don't improve for 30 rounds.\n",
      "Did not meet early stopping. Best iteration is:\n",
      "[10]\tvalid's auc: 0.96677\n",
      "Training until validation scores don't improve for 30 rounds.\n",
      "Did not meet early stopping. Best iteration is:\n",
      "[9]\tvalid's auc: 0.964041\n",
      "Training until validation scores don't improve for 30 rounds.\n",
      "Did not meet early stopping. Best iteration is:\n",
      "[4]\tvalid's auc: 0.883759\n",
      "Training until validation scores don't improve for 30 rounds.\n",
      "Did not meet early stopping. Best iteration is:\n",
      "[4]\tvalid's auc: 0.883759\n",
      "Training until validation scores don't improve for 30 rounds.\n",
      "Did not meet early stopping. Best iteration is:\n",
      "[4]\tvalid's auc: 0.883759\n",
      "Training until validation scores don't improve for 30 rounds.\n",
      "[100]\tvalid's auc: 0.993632\n",
      "[200]\tvalid's auc: 0.995564\n",
      "[300]\tvalid's auc: 0.99609\n",
      "[400]\tvalid's auc: 0.996346\n",
      "[500]\tvalid's auc: 0.996527\n",
      "[600]\tvalid's auc: 0.996635\n",
      "[700]\tvalid's auc: 0.996722\n",
      "[800]\tvalid's auc: 0.996795\n",
      "[900]\tvalid's auc: 0.996861\n",
      "[1000]\tvalid's auc: 0.996887\n",
      "[1100]\tvalid's auc: 0.996922\n",
      "[1200]\tvalid's auc: 0.99695\n",
      "[1300]\tvalid's auc: 0.996971\n",
      "[1400]\tvalid's auc: 0.996987\n",
      "Early stopping, best iteration is:\n",
      "[1400]\tvalid's auc: 0.996987\n",
      "Training until validation scores don't improve for 30 rounds.\n",
      "[100]\tvalid's auc: 0.993537\n",
      "[200]\tvalid's auc: 0.995447\n",
      "[300]\tvalid's auc: 0.995997\n",
      "[400]\tvalid's auc: 0.996277\n",
      "[500]\tvalid's auc: 0.996458\n",
      "[600]\tvalid's auc: 0.996603\n",
      "[700]\tvalid's auc: 0.996691\n",
      "[800]\tvalid's auc: 0.996748\n",
      "[900]\tvalid's auc: 0.996813\n",
      "[1000]\tvalid's auc: 0.996869\n",
      "[1100]\tvalid's auc: 0.996903\n",
      "[1200]\tvalid's auc: 0.996938\n",
      "[1300]\tvalid's auc: 0.996961\n",
      "[1400]\tvalid's auc: 0.996988\n",
      "[1500]\tvalid's auc: 0.997011\n",
      "Early stopping, best iteration is:\n",
      "[1528]\tvalid's auc: 0.997015\n",
      "Training until validation scores don't improve for 30 rounds.\n",
      "[100]\tvalid's auc: 0.993577\n",
      "[200]\tvalid's auc: 0.995473\n",
      "[300]\tvalid's auc: 0.996032\n",
      "[400]\tvalid's auc: 0.996301\n",
      "[500]\tvalid's auc: 0.996455\n",
      "[600]\tvalid's auc: 0.996591\n",
      "[700]\tvalid's auc: 0.996683\n",
      "[800]\tvalid's auc: 0.996759\n",
      "[900]\tvalid's auc: 0.996828\n",
      "[1000]\tvalid's auc: 0.996873\n",
      "[1100]\tvalid's auc: 0.996923\n",
      "[1200]\tvalid's auc: 0.996963\n",
      "[1300]\tvalid's auc: 0.996983\n",
      "[1400]\tvalid's auc: 0.99701\n",
      "[1500]\tvalid's auc: 0.997022\n",
      "[1600]\tvalid's auc: 0.997035\n",
      "Early stopping, best iteration is:\n",
      "[1634]\tvalid's auc: 0.997039\n",
      "Training until validation scores don't improve for 30 rounds.\n",
      "Did not meet early stopping. Best iteration is:\n",
      "[10]\tvalid's auc: 0.974506\n",
      "Training until validation scores don't improve for 30 rounds.\n",
      "Did not meet early stopping. Best iteration is:\n",
      "[10]\tvalid's auc: 0.974543\n",
      "Training until validation scores don't improve for 30 rounds.\n",
      "Did not meet early stopping. Best iteration is:\n",
      "[10]\tvalid's auc: 0.975159\n",
      "Training until validation scores don't improve for 30 rounds.\n",
      "[100]\tvalid's auc: 0.992067\n",
      "[200]\tvalid's auc: 0.993689\n",
      "[300]\tvalid's auc: 0.994092\n",
      "Early stopping, best iteration is:\n",
      "[338]\tvalid's auc: 0.994139\n",
      "Training until validation scores don't improve for 30 rounds.\n",
      "[100]\tvalid's auc: 0.992101\n",
      "[200]\tvalid's auc: 0.993667\n",
      "[300]\tvalid's auc: 0.994045\n",
      "Early stopping, best iteration is:\n",
      "[350]\tvalid's auc: 0.9941\n",
      "Training until validation scores don't improve for 30 rounds.\n",
      "[100]\tvalid's auc: 0.992081\n",
      "[200]\tvalid's auc: 0.993655\n",
      "[300]\tvalid's auc: 0.994102\n",
      "Early stopping, best iteration is:\n",
      "[347]\tvalid's auc: 0.994152\n",
      "Training until validation scores don't improve for 30 rounds.\n",
      "[100]\tvalid's auc: 0.99294\n",
      "[200]\tvalid's auc: 0.994858\n",
      "[300]\tvalid's auc: 0.995388\n",
      "[400]\tvalid's auc: 0.995634\n",
      "[500]\tvalid's auc: 0.995795\n",
      "[600]\tvalid's auc: 0.995911\n",
      "[700]\tvalid's auc: 0.995984\n",
      "[800]\tvalid's auc: 0.996064\n",
      "[900]\tvalid's auc: 0.996117\n",
      "[1000]\tvalid's auc: 0.996164\n",
      "[1100]\tvalid's auc: 0.996203\n",
      "[1200]\tvalid's auc: 0.996239\n",
      "[1300]\tvalid's auc: 0.996252\n",
      "[1400]\tvalid's auc: 0.99628\n",
      "[1500]\tvalid's auc: 0.996301\n",
      "[1600]\tvalid's auc: 0.996318\n",
      "[1700]\tvalid's auc: 0.996343\n",
      "[1800]\tvalid's auc: 0.996355\n",
      "Early stopping, best iteration is:\n",
      "[1774]\tvalid's auc: 0.996356\n",
      "Training until validation scores don't improve for 30 rounds.\n",
      "[100]\tvalid's auc: 0.99295\n",
      "[200]\tvalid's auc: 0.994859\n",
      "[300]\tvalid's auc: 0.995371\n",
      "[400]\tvalid's auc: 0.995649\n",
      "[500]\tvalid's auc: 0.995823\n",
      "[600]\tvalid's auc: 0.995941\n",
      "[700]\tvalid's auc: 0.996026\n",
      "[800]\tvalid's auc: 0.996074\n",
      "[900]\tvalid's auc: 0.99613\n",
      "[1000]\tvalid's auc: 0.996175\n",
      "[1100]\tvalid's auc: 0.996216\n",
      "[1200]\tvalid's auc: 0.996251\n",
      "[1300]\tvalid's auc: 0.996274\n",
      "[1400]\tvalid's auc: 0.996296\n",
      "[1500]\tvalid's auc: 0.996323\n",
      "[1600]\tvalid's auc: 0.996347\n",
      "[1700]\tvalid's auc: 0.996369\n",
      "[1800]\tvalid's auc: 0.996381\n",
      "[1900]\tvalid's auc: 0.996393\n",
      "[2000]\tvalid's auc: 0.996409\n",
      "[2100]\tvalid's auc: 0.996424\n",
      "[2200]\tvalid's auc: 0.996429\n",
      "Early stopping, best iteration is:\n",
      "[2248]\tvalid's auc: 0.996435\n",
      "Training until validation scores don't improve for 30 rounds.\n",
      "[100]\tvalid's auc: 0.992859\n",
      "[200]\tvalid's auc: 0.994801\n",
      "[300]\tvalid's auc: 0.995344\n",
      "[400]\tvalid's auc: 0.995617\n",
      "[500]\tvalid's auc: 0.995785\n",
      "[600]\tvalid's auc: 0.995913\n",
      "[700]\tvalid's auc: 0.996009\n",
      "[800]\tvalid's auc: 0.996096\n",
      "[900]\tvalid's auc: 0.996151\n",
      "[1000]\tvalid's auc: 0.996208\n",
      "[1100]\tvalid's auc: 0.996252\n",
      "[1200]\tvalid's auc: 0.996278\n",
      "[1300]\tvalid's auc: 0.996301\n",
      "[1400]\tvalid's auc: 0.996327\n",
      "[1500]\tvalid's auc: 0.996352\n",
      "[1600]\tvalid's auc: 0.996379\n",
      "[1700]\tvalid's auc: 0.996387\n",
      "[1800]\tvalid's auc: 0.996405\n",
      "[1900]\tvalid's auc: 0.996425\n",
      "Early stopping, best iteration is:\n",
      "[1948]\tvalid's auc: 0.99643\n",
      "Training until validation scores don't improve for 30 rounds.\n",
      "Did not meet early stopping. Best iteration is:\n",
      "[10]\tvalid's auc: 0.978628\n",
      "Training until validation scores don't improve for 30 rounds.\n",
      "Did not meet early stopping. Best iteration is:\n",
      "[10]\tvalid's auc: 0.980235\n",
      "Training until validation scores don't improve for 30 rounds.\n",
      "Did not meet early stopping. Best iteration is:\n",
      "[10]\tvalid's auc: 0.978623\n",
      "Training until validation scores don't improve for 30 rounds.\n",
      "[100]\tvalid's auc: 0.989798\n",
      "[200]\tvalid's auc: 0.99311\n",
      "[300]\tvalid's auc: 0.994079\n",
      "[400]\tvalid's auc: 0.994534\n",
      "[500]\tvalid's auc: 0.994821\n",
      "[600]\tvalid's auc: 0.995063\n",
      "[700]\tvalid's auc: 0.995247\n",
      "[800]\tvalid's auc: 0.995377\n",
      "[900]\tvalid's auc: 0.995499\n",
      "[1000]\tvalid's auc: 0.995607\n",
      "Did not meet early stopping. Best iteration is:\n",
      "[1000]\tvalid's auc: 0.995607\n",
      "Training until validation scores don't improve for 30 rounds.\n",
      "[100]\tvalid's auc: 0.989939\n",
      "[200]\tvalid's auc: 0.99314\n",
      "[300]\tvalid's auc: 0.994031\n",
      "[400]\tvalid's auc: 0.994481\n",
      "[500]\tvalid's auc: 0.994793\n",
      "[600]\tvalid's auc: 0.995023\n",
      "[700]\tvalid's auc: 0.995199\n",
      "[800]\tvalid's auc: 0.995319\n",
      "[900]\tvalid's auc: 0.995448\n",
      "[1000]\tvalid's auc: 0.995556\n",
      "Did not meet early stopping. Best iteration is:\n",
      "[999]\tvalid's auc: 0.995556\n",
      "Training until validation scores don't improve for 30 rounds.\n",
      "[100]\tvalid's auc: 0.990021\n",
      "[200]\tvalid's auc: 0.993211\n",
      "[300]\tvalid's auc: 0.994092\n",
      "[400]\tvalid's auc: 0.994529\n",
      "[500]\tvalid's auc: 0.994835\n",
      "[600]\tvalid's auc: 0.995039\n",
      "[700]\tvalid's auc: 0.995213\n",
      "[800]\tvalid's auc: 0.995355\n",
      "[900]\tvalid's auc: 0.995462\n",
      "[1000]\tvalid's auc: 0.995549\n",
      "Did not meet early stopping. Best iteration is:\n",
      "[1000]\tvalid's auc: 0.995549\n",
      "Training until validation scores don't improve for 30 rounds.\n",
      "[100]\tvalid's auc: 0.992126\n",
      "[200]\tvalid's auc: 0.994389\n",
      "[300]\tvalid's auc: 0.995095\n",
      "[400]\tvalid's auc: 0.995476\n",
      "[500]\tvalid's auc: 0.995691\n",
      "[600]\tvalid's auc: 0.995883\n",
      "[700]\tvalid's auc: 0.996036\n",
      "[800]\tvalid's auc: 0.996147\n",
      "[900]\tvalid's auc: 0.996245\n",
      "[1000]\tvalid's auc: 0.996337\n",
      "Did not meet early stopping. Best iteration is:\n",
      "[1000]\tvalid's auc: 0.996337\n",
      "Training until validation scores don't improve for 30 rounds.\n",
      "[100]\tvalid's auc: 0.99209\n",
      "[200]\tvalid's auc: 0.994356\n",
      "[300]\tvalid's auc: 0.995053\n",
      "[400]\tvalid's auc: 0.995409\n",
      "[500]\tvalid's auc: 0.995647\n",
      "[600]\tvalid's auc: 0.995822\n",
      "[700]\tvalid's auc: 0.995983\n",
      "[800]\tvalid's auc: 0.996086\n",
      "[900]\tvalid's auc: 0.996184\n",
      "[1000]\tvalid's auc: 0.996268\n",
      "Did not meet early stopping. Best iteration is:\n",
      "[1000]\tvalid's auc: 0.996268\n",
      "Training until validation scores don't improve for 30 rounds.\n",
      "[100]\tvalid's auc: 0.992139\n",
      "[200]\tvalid's auc: 0.994341\n",
      "[300]\tvalid's auc: 0.995033\n",
      "[400]\tvalid's auc: 0.995392\n",
      "[500]\tvalid's auc: 0.995631\n",
      "[600]\tvalid's auc: 0.995828\n",
      "[700]\tvalid's auc: 0.99598\n",
      "[800]\tvalid's auc: 0.996118\n",
      "[900]\tvalid's auc: 0.996216\n",
      "[1000]\tvalid's auc: 0.99632\n",
      "Did not meet early stopping. Best iteration is:\n",
      "[1000]\tvalid's auc: 0.99632\n",
      "Training until validation scores don't improve for 30 rounds.\n",
      "[100]\tvalid's auc: 0.987999\n",
      "[200]\tvalid's auc: 0.990474\n",
      "[300]\tvalid's auc: 0.99122\n",
      "[400]\tvalid's auc: 0.99167\n",
      "[500]\tvalid's auc: 0.991995\n",
      "Did not meet early stopping. Best iteration is:\n",
      "[500]\tvalid's auc: 0.991995\n",
      "Training until validation scores don't improve for 30 rounds.\n",
      "[100]\tvalid's auc: 0.988063\n",
      "[200]\tvalid's auc: 0.990503\n",
      "[300]\tvalid's auc: 0.991251\n",
      "[400]\tvalid's auc: 0.991692\n",
      "[500]\tvalid's auc: 0.991997\n",
      "Did not meet early stopping. Best iteration is:\n",
      "[499]\tvalid's auc: 0.991998\n",
      "Training until validation scores don't improve for 30 rounds.\n",
      "[100]\tvalid's auc: 0.988008\n",
      "[200]\tvalid's auc: 0.99038\n",
      "[300]\tvalid's auc: 0.991169\n",
      "[400]\tvalid's auc: 0.991623\n",
      "[500]\tvalid's auc: 0.99193\n",
      "Did not meet early stopping. Best iteration is:\n",
      "[500]\tvalid's auc: 0.99193\n",
      "Training until validation scores don't improve for 30 rounds.\n",
      "[100]\tvalid's auc: 0.994164\n",
      "[200]\tvalid's auc: 0.995953\n",
      "[300]\tvalid's auc: 0.99644\n",
      "[400]\tvalid's auc: 0.996679\n",
      "[500]\tvalid's auc: 0.996845\n",
      "[600]\tvalid's auc: 0.99695\n",
      "[700]\tvalid's auc: 0.997004\n",
      "[800]\tvalid's auc: 0.997052\n",
      "[900]\tvalid's auc: 0.997082\n",
      "Early stopping, best iteration is:\n",
      "[892]\tvalid's auc: 0.997083\n",
      "Training until validation scores don't improve for 30 rounds.\n",
      "[100]\tvalid's auc: 0.994227\n",
      "[200]\tvalid's auc: 0.995949\n",
      "[300]\tvalid's auc: 0.996423\n",
      "[400]\tvalid's auc: 0.99666\n",
      "[500]\tvalid's auc: 0.996825\n",
      "[600]\tvalid's auc: 0.996912\n",
      "[700]\tvalid's auc: 0.996972\n",
      "[800]\tvalid's auc: 0.997017\n",
      "[900]\tvalid's auc: 0.997069\n",
      "Early stopping, best iteration is:\n",
      "[968]\tvalid's auc: 0.997088\n",
      "Training until validation scores don't improve for 30 rounds.\n",
      "[100]\tvalid's auc: 0.994122\n",
      "[200]\tvalid's auc: 0.995957\n",
      "[300]\tvalid's auc: 0.996447\n",
      "[400]\tvalid's auc: 0.996677\n",
      "[500]\tvalid's auc: 0.996835\n",
      "[600]\tvalid's auc: 0.996936\n",
      "[700]\tvalid's auc: 0.99701\n",
      "[800]\tvalid's auc: 0.997067\n",
      "[900]\tvalid's auc: 0.997111\n",
      "[1000]\tvalid's auc: 0.997148\n",
      "Did not meet early stopping. Best iteration is:\n",
      "[994]\tvalid's auc: 0.997149\n",
      "Training until validation scores don't improve for 30 rounds.\n",
      "[100]\tvalid's auc: 0.99196\n",
      "[200]\tvalid's auc: 0.993975\n",
      "[300]\tvalid's auc: 0.994527\n",
      "[400]\tvalid's auc: 0.994716\n",
      "Early stopping, best iteration is:\n",
      "[391]\tvalid's auc: 0.994716\n",
      "Training until validation scores don't improve for 30 rounds.\n",
      "[100]\tvalid's auc: 0.992057\n",
      "[200]\tvalid's auc: 0.993911\n",
      "[300]\tvalid's auc: 0.994497\n",
      "[400]\tvalid's auc: 0.994725\n",
      "Early stopping, best iteration is:\n",
      "[405]\tvalid's auc: 0.994725\n",
      "Training until validation scores don't improve for 30 rounds.\n",
      "[100]\tvalid's auc: 0.992061\n",
      "[200]\tvalid's auc: 0.993923\n",
      "[300]\tvalid's auc: 0.99446\n",
      "[400]\tvalid's auc: 0.99467\n",
      "Early stopping, best iteration is:\n",
      "[384]\tvalid's auc: 0.99467\n",
      "Training until validation scores don't improve for 30 rounds.\n",
      "Did not meet early stopping. Best iteration is:\n",
      "[7]\tvalid's auc: 0.976587\n",
      "Training until validation scores don't improve for 30 rounds.\n",
      "Did not meet early stopping. Best iteration is:\n",
      "[7]\tvalid's auc: 0.977695\n",
      "Training until validation scores don't improve for 30 rounds.\n",
      "Did not meet early stopping. Best iteration is:\n",
      "[7]\tvalid's auc: 0.977924\n",
      "Training until validation scores don't improve for 30 rounds.\n",
      "[100]\tvalid's auc: 0.993639\n",
      "[200]\tvalid's auc: 0.995566\n",
      "[300]\tvalid's auc: 0.996115\n",
      "[400]\tvalid's auc: 0.996395\n",
      "[500]\tvalid's auc: 0.996549\n",
      "[600]\tvalid's auc: 0.996641\n",
      "[700]\tvalid's auc: 0.996735\n",
      "[800]\tvalid's auc: 0.996793\n",
      "[900]\tvalid's auc: 0.996843\n",
      "[1000]\tvalid's auc: 0.996883\n",
      "Did not meet early stopping. Best iteration is:\n",
      "[1000]\tvalid's auc: 0.996883\n",
      "Training until validation scores don't improve for 30 rounds.\n",
      "[100]\tvalid's auc: 0.993599\n",
      "[200]\tvalid's auc: 0.995463\n",
      "[300]\tvalid's auc: 0.99603\n",
      "[400]\tvalid's auc: 0.996335\n",
      "[500]\tvalid's auc: 0.996514\n",
      "[600]\tvalid's auc: 0.996639\n",
      "[700]\tvalid's auc: 0.99672\n",
      "[800]\tvalid's auc: 0.996786\n",
      "[900]\tvalid's auc: 0.99682\n",
      "[1000]\tvalid's auc: 0.996863\n",
      "Did not meet early stopping. Best iteration is:\n",
      "[1000]\tvalid's auc: 0.996863\n",
      "Training until validation scores don't improve for 30 rounds.\n",
      "[100]\tvalid's auc: 0.993634\n",
      "[200]\tvalid's auc: 0.995503\n",
      "[300]\tvalid's auc: 0.996054\n",
      "[400]\tvalid's auc: 0.996339\n",
      "[500]\tvalid's auc: 0.996529\n",
      "[600]\tvalid's auc: 0.996654\n",
      "[700]\tvalid's auc: 0.996734\n",
      "[800]\tvalid's auc: 0.996786\n",
      "[900]\tvalid's auc: 0.996832\n",
      "[1000]\tvalid's auc: 0.99689\n",
      "Did not meet early stopping. Best iteration is:\n",
      "[1000]\tvalid's auc: 0.99689\n",
      "Training until validation scores don't improve for 30 rounds.\n",
      "[100]\tvalid's auc: 0.991106\n",
      "[200]\tvalid's auc: 0.993436\n",
      "[300]\tvalid's auc: 0.994126\n",
      "[400]\tvalid's auc: 0.994454\n",
      "[500]\tvalid's auc: 0.994606\n",
      "Did not meet early stopping. Best iteration is:\n",
      "[473]\tvalid's auc: 0.994606\n",
      "Training until validation scores don't improve for 30 rounds.\n",
      "[100]\tvalid's auc: 0.991002\n",
      "[200]\tvalid's auc: 0.99344\n",
      "[300]\tvalid's auc: 0.994152\n",
      "[400]\tvalid's auc: 0.994458\n",
      "Early stopping, best iteration is:\n",
      "[449]\tvalid's auc: 0.994542\n",
      "Training until validation scores don't improve for 30 rounds.\n",
      "[100]\tvalid's auc: 0.991135\n",
      "[200]\tvalid's auc: 0.993493\n",
      "[300]\tvalid's auc: 0.994165\n",
      "[400]\tvalid's auc: 0.994474\n",
      "Early stopping, best iteration is:\n",
      "[462]\tvalid's auc: 0.994598\n",
      "Training until validation scores don't improve for 30 rounds.\n",
      "Did not meet early stopping. Best iteration is:\n",
      "[10]\tvalid's auc: 0.974032\n",
      "Training until validation scores don't improve for 30 rounds.\n",
      "Did not meet early stopping. Best iteration is:\n",
      "[10]\tvalid's auc: 0.972848\n",
      "Training until validation scores don't improve for 30 rounds.\n",
      "Did not meet early stopping. Best iteration is:\n",
      "[10]\tvalid's auc: 0.974765\n",
      "Training until validation scores don't improve for 30 rounds.\n",
      "[100]\tvalid's auc: 0.987981\n",
      "[200]\tvalid's auc: 0.990256\n",
      "[300]\tvalid's auc: 0.990974\n",
      "[400]\tvalid's auc: 0.991438\n",
      "[500]\tvalid's auc: 0.991789\n",
      "[600]\tvalid's auc: 0.99206\n",
      "[700]\tvalid's auc: 0.992254\n",
      "[800]\tvalid's auc: 0.992398\n",
      "[900]\tvalid's auc: 0.992513\n",
      "[1000]\tvalid's auc: 0.992605\n",
      "Did not meet early stopping. Best iteration is:\n",
      "[1000]\tvalid's auc: 0.992605\n",
      "Training until validation scores don't improve for 30 rounds.\n",
      "[100]\tvalid's auc: 0.988086\n",
      "[200]\tvalid's auc: 0.990326\n",
      "[300]\tvalid's auc: 0.991094\n",
      "[400]\tvalid's auc: 0.99157\n",
      "[500]\tvalid's auc: 0.991912\n",
      "[600]\tvalid's auc: 0.992153\n",
      "[700]\tvalid's auc: 0.992336\n",
      "[800]\tvalid's auc: 0.992466\n",
      "[900]\tvalid's auc: 0.992562\n",
      "[1000]\tvalid's auc: 0.992644\n",
      "Did not meet early stopping. Best iteration is:\n",
      "[999]\tvalid's auc: 0.992645\n",
      "Training until validation scores don't improve for 30 rounds.\n",
      "[100]\tvalid's auc: 0.988189\n",
      "[200]\tvalid's auc: 0.990382\n",
      "[300]\tvalid's auc: 0.991114\n",
      "[400]\tvalid's auc: 0.991548\n",
      "[500]\tvalid's auc: 0.991875\n",
      "[600]\tvalid's auc: 0.992129\n",
      "[700]\tvalid's auc: 0.992323\n",
      "[800]\tvalid's auc: 0.992456\n",
      "[900]\tvalid's auc: 0.992577\n",
      "[1000]\tvalid's auc: 0.992673\n",
      "Did not meet early stopping. Best iteration is:\n",
      "[999]\tvalid's auc: 0.992673\n",
      "Training until validation scores don't improve for 30 rounds.\n",
      "[100]\tvalid's auc: 0.992093\n",
      "[200]\tvalid's auc: 0.994247\n",
      "[300]\tvalid's auc: 0.994881\n",
      "[400]\tvalid's auc: 0.995197\n",
      "[500]\tvalid's auc: 0.995403\n",
      "[600]\tvalid's auc: 0.995546\n",
      "[700]\tvalid's auc: 0.995649\n",
      "[800]\tvalid's auc: 0.995736\n",
      "[900]\tvalid's auc: 0.995812\n",
      "[1000]\tvalid's auc: 0.995875\n",
      "[1100]\tvalid's auc: 0.995933\n",
      "[1200]\tvalid's auc: 0.995979\n",
      "[1300]\tvalid's auc: 0.996021\n",
      "[1400]\tvalid's auc: 0.99605\n",
      "[1500]\tvalid's auc: 0.996083\n",
      "[1600]\tvalid's auc: 0.996119\n",
      "[1700]\tvalid's auc: 0.996139\n",
      "[1800]\tvalid's auc: 0.996158\n",
      "[1900]\tvalid's auc: 0.996181\n",
      "[2000]\tvalid's auc: 0.996204\n",
      "[2100]\tvalid's auc: 0.99622\n",
      "[2200]\tvalid's auc: 0.996236\n",
      "[2300]\tvalid's auc: 0.99625\n",
      "[2400]\tvalid's auc: 0.996263\n",
      "[2500]\tvalid's auc: 0.996273\n",
      "[2600]\tvalid's auc: 0.996283\n",
      "Early stopping, best iteration is:\n",
      "[2635]\tvalid's auc: 0.996287\n",
      "Training until validation scores don't improve for 30 rounds.\n",
      "[100]\tvalid's auc: 0.991907\n",
      "[200]\tvalid's auc: 0.994205\n",
      "[300]\tvalid's auc: 0.994886\n",
      "[400]\tvalid's auc: 0.995222\n",
      "[500]\tvalid's auc: 0.995407\n",
      "[600]\tvalid's auc: 0.995538\n",
      "[700]\tvalid's auc: 0.995647\n",
      "[800]\tvalid's auc: 0.995738\n",
      "[900]\tvalid's auc: 0.995809\n",
      "[1000]\tvalid's auc: 0.995872\n",
      "[1100]\tvalid's auc: 0.995921\n",
      "[1200]\tvalid's auc: 0.995972\n",
      "[1300]\tvalid's auc: 0.99601\n",
      "[1400]\tvalid's auc: 0.996047\n",
      "[1500]\tvalid's auc: 0.996079\n",
      "[1600]\tvalid's auc: 0.996111\n",
      "[1700]\tvalid's auc: 0.996144\n",
      "[1800]\tvalid's auc: 0.996172\n",
      "[1900]\tvalid's auc: 0.996191\n",
      "[2000]\tvalid's auc: 0.996204\n",
      "[2100]\tvalid's auc: 0.996222\n",
      "[2200]\tvalid's auc: 0.996237\n",
      "[2300]\tvalid's auc: 0.996253\n",
      "[2400]\tvalid's auc: 0.996266\n",
      "[2500]\tvalid's auc: 0.996278\n",
      "[2600]\tvalid's auc: 0.996287\n",
      "Early stopping, best iteration is:\n",
      "[2607]\tvalid's auc: 0.996287\n",
      "Training until validation scores don't improve for 30 rounds.\n",
      "[100]\tvalid's auc: 0.992005\n",
      "[200]\tvalid's auc: 0.994213\n",
      "[300]\tvalid's auc: 0.994899\n",
      "[400]\tvalid's auc: 0.995238\n",
      "[500]\tvalid's auc: 0.995436\n",
      "[600]\tvalid's auc: 0.995582\n",
      "[700]\tvalid's auc: 0.995689\n",
      "[800]\tvalid's auc: 0.995788\n",
      "[900]\tvalid's auc: 0.995872\n",
      "[1000]\tvalid's auc: 0.995935\n",
      "[1100]\tvalid's auc: 0.995986\n",
      "[1200]\tvalid's auc: 0.996028\n",
      "[1300]\tvalid's auc: 0.996071\n",
      "[1400]\tvalid's auc: 0.996099\n",
      "[1500]\tvalid's auc: 0.996125\n",
      "[1600]\tvalid's auc: 0.996151\n",
      "[1700]\tvalid's auc: 0.996178\n",
      "[1800]\tvalid's auc: 0.996204\n",
      "[1900]\tvalid's auc: 0.996228\n",
      "[2000]\tvalid's auc: 0.996245\n",
      "[2100]\tvalid's auc: 0.996262\n",
      "[2200]\tvalid's auc: 0.996283\n",
      "[2300]\tvalid's auc: 0.996298\n",
      "[2400]\tvalid's auc: 0.996313\n",
      "Early stopping, best iteration is:\n",
      "[2439]\tvalid's auc: 0.996317\n",
      "Training until validation scores don't improve for 30 rounds.\n",
      "[100]\tvalid's auc: 0.992272\n",
      "[200]\tvalid's auc: 0.994249\n",
      "[300]\tvalid's auc: 0.994774\n",
      "[400]\tvalid's auc: 0.995002\n",
      "Early stopping, best iteration is:\n",
      "[422]\tvalid's auc: 0.995019\n",
      "Training until validation scores don't improve for 30 rounds.\n",
      "[100]\tvalid's auc: 0.992182\n",
      "[200]\tvalid's auc: 0.994118\n",
      "[300]\tvalid's auc: 0.994691\n",
      "[400]\tvalid's auc: 0.994933\n",
      "Early stopping, best iteration is:\n",
      "[449]\tvalid's auc: 0.99499\n",
      "Training until validation scores don't improve for 30 rounds.\n",
      "[100]\tvalid's auc: 0.992253\n",
      "[200]\tvalid's auc: 0.994258\n",
      "[300]\tvalid's auc: 0.994787\n",
      "[400]\tvalid's auc: 0.99501\n",
      "Early stopping, best iteration is:\n",
      "[420]\tvalid's auc: 0.995034\n",
      "Training until validation scores don't improve for 30 rounds.\n",
      "[100]\tvalid's auc: 0.992423\n",
      "[200]\tvalid's auc: 0.994289\n",
      "[300]\tvalid's auc: 0.994885\n",
      "[400]\tvalid's auc: 0.995142\n",
      "[500]\tvalid's auc: 0.995305\n",
      "[600]\tvalid's auc: 0.995421\n",
      "[700]\tvalid's auc: 0.995512\n",
      "[800]\tvalid's auc: 0.995593\n",
      "[900]\tvalid's auc: 0.995665\n",
      "[1000]\tvalid's auc: 0.995717\n",
      "Did not meet early stopping. Best iteration is:\n",
      "[1000]\tvalid's auc: 0.995717\n",
      "Training until validation scores don't improve for 30 rounds.\n",
      "[100]\tvalid's auc: 0.99233\n",
      "[200]\tvalid's auc: 0.994262\n",
      "[300]\tvalid's auc: 0.994862\n",
      "[400]\tvalid's auc: 0.995162\n",
      "[500]\tvalid's auc: 0.995333\n",
      "[600]\tvalid's auc: 0.995444\n",
      "[700]\tvalid's auc: 0.995535\n",
      "[800]\tvalid's auc: 0.995612\n",
      "[900]\tvalid's auc: 0.995672\n",
      "[1000]\tvalid's auc: 0.995724\n",
      "Did not meet early stopping. Best iteration is:\n",
      "[1000]\tvalid's auc: 0.995724\n",
      "Training until validation scores don't improve for 30 rounds.\n",
      "[100]\tvalid's auc: 0.992354\n",
      "[200]\tvalid's auc: 0.994306\n",
      "[300]\tvalid's auc: 0.994874\n",
      "[400]\tvalid's auc: 0.995139\n",
      "[500]\tvalid's auc: 0.995305\n",
      "[600]\tvalid's auc: 0.995426\n",
      "[700]\tvalid's auc: 0.995522\n",
      "[800]\tvalid's auc: 0.995595\n",
      "[900]\tvalid's auc: 0.995663\n",
      "[1000]\tvalid's auc: 0.995722\n",
      "Did not meet early stopping. Best iteration is:\n",
      "[1000]\tvalid's auc: 0.995722\n",
      "Training until validation scores don't improve for 30 rounds.\n",
      "[100]\tvalid's auc: 0.988318\n",
      "[200]\tvalid's auc: 0.990459\n",
      "[300]\tvalid's auc: 0.991134\n",
      "[400]\tvalid's auc: 0.991586\n",
      "[500]\tvalid's auc: 0.991918\n",
      "Did not meet early stopping. Best iteration is:\n",
      "[500]\tvalid's auc: 0.991918\n",
      "Training until validation scores don't improve for 30 rounds.\n",
      "[100]\tvalid's auc: 0.988375\n",
      "[200]\tvalid's auc: 0.990508\n",
      "[300]\tvalid's auc: 0.991226\n",
      "[400]\tvalid's auc: 0.991661\n",
      "[500]\tvalid's auc: 0.992017\n",
      "Did not meet early stopping. Best iteration is:\n",
      "[500]\tvalid's auc: 0.992017\n",
      "Training until validation scores don't improve for 30 rounds.\n",
      "[100]\tvalid's auc: 0.988365\n",
      "[200]\tvalid's auc: 0.990521\n",
      "[300]\tvalid's auc: 0.991192\n",
      "[400]\tvalid's auc: 0.991622\n",
      "[500]\tvalid's auc: 0.991965\n",
      "Did not meet early stopping. Best iteration is:\n",
      "[500]\tvalid's auc: 0.991965\n",
      "Training until validation scores don't improve for 30 rounds.\n",
      "[100]\tvalid's auc: 0.993904\n",
      "[200]\tvalid's auc: 0.995587\n",
      "[300]\tvalid's auc: 0.996052\n",
      "[400]\tvalid's auc: 0.996303\n",
      "[500]\tvalid's auc: 0.996436\n",
      "[600]\tvalid's auc: 0.996514\n",
      "Early stopping, best iteration is:\n",
      "[597]\tvalid's auc: 0.996514\n",
      "Training until validation scores don't improve for 30 rounds.\n",
      "[100]\tvalid's auc: 0.993823\n",
      "[200]\tvalid's auc: 0.995499\n",
      "[300]\tvalid's auc: 0.996008\n",
      "[400]\tvalid's auc: 0.996264\n",
      "[500]\tvalid's auc: 0.996421\n",
      "[600]\tvalid's auc: 0.996493\n",
      "Early stopping, best iteration is:\n",
      "[648]\tvalid's auc: 0.996509\n",
      "Training until validation scores don't improve for 30 rounds.\n",
      "[100]\tvalid's auc: 0.993832\n",
      "[200]\tvalid's auc: 0.995513\n",
      "[300]\tvalid's auc: 0.996038\n",
      "[400]\tvalid's auc: 0.996287\n",
      "[500]\tvalid's auc: 0.996432\n",
      "[600]\tvalid's auc: 0.99651\n",
      "Early stopping, best iteration is:\n",
      "[607]\tvalid's auc: 0.99651\n",
      "Training until validation scores don't improve for 30 rounds.\n",
      "[100]\tvalid's auc: 0.992789\n",
      "[200]\tvalid's auc: 0.994785\n",
      "[300]\tvalid's auc: 0.99529\n",
      "[400]\tvalid's auc: 0.995534\n",
      "[500]\tvalid's auc: 0.99569\n",
      "[600]\tvalid's auc: 0.995795\n",
      "[700]\tvalid's auc: 0.995889\n",
      "[800]\tvalid's auc: 0.995964\n",
      "[900]\tvalid's auc: 0.99603\n",
      "[1000]\tvalid's auc: 0.99608\n",
      "[1100]\tvalid's auc: 0.996123\n",
      "[1200]\tvalid's auc: 0.99615\n",
      "[1300]\tvalid's auc: 0.99617\n",
      "[1400]\tvalid's auc: 0.996199\n",
      "[1500]\tvalid's auc: 0.99623\n",
      "[1600]\tvalid's auc: 0.996251\n",
      "[1700]\tvalid's auc: 0.996271\n",
      "[1800]\tvalid's auc: 0.996293\n",
      "[1900]\tvalid's auc: 0.996312\n",
      "[2000]\tvalid's auc: 0.996323\n",
      "[2100]\tvalid's auc: 0.996335\n",
      "[2200]\tvalid's auc: 0.996349\n",
      "[2300]\tvalid's auc: 0.99636\n",
      "Early stopping, best iteration is:\n",
      "[2322]\tvalid's auc: 0.996364\n",
      "Training until validation scores don't improve for 30 rounds.\n",
      "[100]\tvalid's auc: 0.992745\n",
      "[200]\tvalid's auc: 0.994718\n",
      "[300]\tvalid's auc: 0.995259\n",
      "[400]\tvalid's auc: 0.995498\n",
      "[500]\tvalid's auc: 0.995659\n",
      "[600]\tvalid's auc: 0.995773\n",
      "[700]\tvalid's auc: 0.995859\n",
      "[800]\tvalid's auc: 0.99594\n",
      "[900]\tvalid's auc: 0.996\n",
      "[1000]\tvalid's auc: 0.996049\n",
      "[1100]\tvalid's auc: 0.996091\n",
      "[1200]\tvalid's auc: 0.996127\n",
      "[1300]\tvalid's auc: 0.996162\n",
      "[1400]\tvalid's auc: 0.99619\n",
      "[1500]\tvalid's auc: 0.996217\n",
      "[1600]\tvalid's auc: 0.996247\n",
      "[1700]\tvalid's auc: 0.996267\n",
      "[1800]\tvalid's auc: 0.996292\n",
      "[1900]\tvalid's auc: 0.996306\n",
      "[2000]\tvalid's auc: 0.996321\n",
      "[2100]\tvalid's auc: 0.996329\n",
      "Early stopping, best iteration is:\n",
      "[2153]\tvalid's auc: 0.996336\n",
      "Training until validation scores don't improve for 30 rounds.\n",
      "[100]\tvalid's auc: 0.992736\n",
      "[200]\tvalid's auc: 0.994727\n",
      "[300]\tvalid's auc: 0.995258\n",
      "[400]\tvalid's auc: 0.995505\n",
      "[500]\tvalid's auc: 0.995666\n",
      "[600]\tvalid's auc: 0.995777\n",
      "[700]\tvalid's auc: 0.995874\n",
      "[800]\tvalid's auc: 0.995949\n",
      "[900]\tvalid's auc: 0.996015\n",
      "[1000]\tvalid's auc: 0.996066\n",
      "[1100]\tvalid's auc: 0.996124\n",
      "[1200]\tvalid's auc: 0.99616\n",
      "[1300]\tvalid's auc: 0.996201\n",
      "[1400]\tvalid's auc: 0.996227\n",
      "[1500]\tvalid's auc: 0.996269\n",
      "[1600]\tvalid's auc: 0.996303\n",
      "[1700]\tvalid's auc: 0.996324\n",
      "[1800]\tvalid's auc: 0.996349\n",
      "[1900]\tvalid's auc: 0.996363\n",
      "[2000]\tvalid's auc: 0.996382\n",
      "[2100]\tvalid's auc: 0.996396\n",
      "[2200]\tvalid's auc: 0.996408\n",
      "[2300]\tvalid's auc: 0.99642\n",
      "[2400]\tvalid's auc: 0.996432\n",
      "[2500]\tvalid's auc: 0.99645\n",
      "[2600]\tvalid's auc: 0.996454\n",
      "Early stopping, best iteration is:\n",
      "[2575]\tvalid's auc: 0.996455\n",
      "Training until validation scores don't improve for 30 rounds.\n",
      "Did not meet early stopping. Best iteration is:\n",
      "[10]\tvalid's auc: 0.986765\n",
      "Training until validation scores don't improve for 30 rounds.\n",
      "Did not meet early stopping. Best iteration is:\n",
      "[10]\tvalid's auc: 0.987009\n",
      "Training until validation scores don't improve for 30 rounds.\n",
      "Did not meet early stopping. Best iteration is:\n",
      "[10]\tvalid's auc: 0.98675\n",
      "Training until validation scores don't improve for 30 rounds.\n",
      "[100]\tvalid's auc: 0.988555\n",
      "[200]\tvalid's auc: 0.990529\n",
      "[300]\tvalid's auc: 0.991313\n",
      "[400]\tvalid's auc: 0.991733\n",
      "[500]\tvalid's auc: 0.992044\n",
      "[600]\tvalid's auc: 0.992279\n",
      "[700]\tvalid's auc: 0.992424\n",
      "[800]\tvalid's auc: 0.992544\n",
      "[900]\tvalid's auc: 0.992663\n",
      "[1000]\tvalid's auc: 0.992746\n",
      "Did not meet early stopping. Best iteration is:\n",
      "[1000]\tvalid's auc: 0.992746\n",
      "Training until validation scores don't improve for 30 rounds.\n",
      "[100]\tvalid's auc: 0.98847\n",
      "[200]\tvalid's auc: 0.990603\n",
      "[300]\tvalid's auc: 0.991364\n",
      "[400]\tvalid's auc: 0.991767\n",
      "[500]\tvalid's auc: 0.992081\n",
      "[600]\tvalid's auc: 0.992317\n",
      "[700]\tvalid's auc: 0.992477\n",
      "[800]\tvalid's auc: 0.992598\n",
      "[900]\tvalid's auc: 0.992677\n",
      "[1000]\tvalid's auc: 0.992758\n",
      "Did not meet early stopping. Best iteration is:\n",
      "[999]\tvalid's auc: 0.99276\n",
      "Training until validation scores don't improve for 30 rounds.\n",
      "[100]\tvalid's auc: 0.988439\n",
      "[200]\tvalid's auc: 0.990565\n",
      "[300]\tvalid's auc: 0.991338\n",
      "[400]\tvalid's auc: 0.991759\n",
      "[500]\tvalid's auc: 0.992057\n",
      "[600]\tvalid's auc: 0.992308\n",
      "[700]\tvalid's auc: 0.992474\n",
      "[800]\tvalid's auc: 0.992593\n",
      "[900]\tvalid's auc: 0.992678\n",
      "[1000]\tvalid's auc: 0.992766\n",
      "Did not meet early stopping. Best iteration is:\n",
      "[999]\tvalid's auc: 0.992767\n",
      "Training until validation scores don't improve for 30 rounds.\n",
      "[100]\tvalid's auc: 0.993772\n",
      "[200]\tvalid's auc: 0.99565\n",
      "[300]\tvalid's auc: 0.996206\n",
      "[400]\tvalid's auc: 0.996434\n",
      "[500]\tvalid's auc: 0.996565\n",
      "[600]\tvalid's auc: 0.996678\n",
      "[700]\tvalid's auc: 0.996753\n",
      "[800]\tvalid's auc: 0.996802\n",
      "[900]\tvalid's auc: 0.996864\n",
      "[1000]\tvalid's auc: 0.996897\n",
      "Did not meet early stopping. Best iteration is:\n",
      "[1000]\tvalid's auc: 0.996897\n",
      "Training until validation scores don't improve for 30 rounds.\n",
      "[100]\tvalid's auc: 0.993695\n",
      "[200]\tvalid's auc: 0.995577\n",
      "[300]\tvalid's auc: 0.99613\n",
      "[400]\tvalid's auc: 0.99639\n",
      "[500]\tvalid's auc: 0.996575\n",
      "[600]\tvalid's auc: 0.996699\n",
      "[700]\tvalid's auc: 0.996771\n",
      "[800]\tvalid's auc: 0.996852\n",
      "[900]\tvalid's auc: 0.996931\n",
      "[1000]\tvalid's auc: 0.996983\n",
      "Did not meet early stopping. Best iteration is:\n",
      "[1000]\tvalid's auc: 0.996983\n",
      "Training until validation scores don't improve for 30 rounds.\n",
      "[100]\tvalid's auc: 0.993648\n",
      "[200]\tvalid's auc: 0.995597\n",
      "[300]\tvalid's auc: 0.996149\n",
      "[400]\tvalid's auc: 0.996433\n",
      "[500]\tvalid's auc: 0.996591\n",
      "[600]\tvalid's auc: 0.996695\n",
      "[700]\tvalid's auc: 0.996795\n",
      "[800]\tvalid's auc: 0.996853\n",
      "[900]\tvalid's auc: 0.996909\n",
      "[1000]\tvalid's auc: 0.996946\n",
      "Did not meet early stopping. Best iteration is:\n",
      "[999]\tvalid's auc: 0.996947\n",
      "Training until validation scores don't improve for 30 rounds.\n",
      "[100]\tvalid's auc: 0.991063\n",
      "[200]\tvalid's auc: 0.993774\n",
      "[300]\tvalid's auc: 0.994552\n",
      "[400]\tvalid's auc: 0.994976\n",
      "[500]\tvalid's auc: 0.99526\n",
      "[600]\tvalid's auc: 0.995448\n",
      "[700]\tvalid's auc: 0.995574\n",
      "[800]\tvalid's auc: 0.995724\n",
      "[900]\tvalid's auc: 0.995829\n",
      "[1000]\tvalid's auc: 0.995933\n",
      "[1100]\tvalid's auc: 0.996018\n",
      "[1200]\tvalid's auc: 0.996093\n",
      "[1300]\tvalid's auc: 0.996154\n",
      "[1400]\tvalid's auc: 0.996207\n",
      "[1500]\tvalid's auc: 0.996246\n",
      "[1600]\tvalid's auc: 0.996302\n",
      "[1700]\tvalid's auc: 0.996353\n",
      "[1800]\tvalid's auc: 0.996411\n",
      "[1900]\tvalid's auc: 0.99644\n",
      "[2000]\tvalid's auc: 0.996474\n",
      "[2100]\tvalid's auc: 0.996503\n",
      "[2200]\tvalid's auc: 0.996534\n",
      "[2300]\tvalid's auc: 0.99656\n",
      "[2400]\tvalid's auc: 0.996585\n",
      "[2500]\tvalid's auc: 0.996603\n",
      "[2600]\tvalid's auc: 0.99663\n",
      "[2700]\tvalid's auc: 0.99665\n",
      "[2800]\tvalid's auc: 0.996673\n",
      "[2900]\tvalid's auc: 0.996687\n",
      "[3000]\tvalid's auc: 0.996704\n",
      "[3100]\tvalid's auc: 0.996717\n",
      "[3200]\tvalid's auc: 0.996729\n",
      "[3300]\tvalid's auc: 0.996744\n",
      "[3400]\tvalid's auc: 0.996755\n",
      "[3500]\tvalid's auc: 0.996775\n",
      "[3600]\tvalid's auc: 0.996786\n",
      "[3700]\tvalid's auc: 0.996788\n",
      "Early stopping, best iteration is:\n",
      "[3684]\tvalid's auc: 0.99679\n",
      "Training until validation scores don't improve for 30 rounds.\n",
      "[100]\tvalid's auc: 0.991105\n",
      "[200]\tvalid's auc: 0.993697\n",
      "[300]\tvalid's auc: 0.99451\n",
      "[400]\tvalid's auc: 0.994935\n",
      "[500]\tvalid's auc: 0.995208\n",
      "[600]\tvalid's auc: 0.99539\n",
      "[700]\tvalid's auc: 0.99558\n",
      "[800]\tvalid's auc: 0.995697\n",
      "[900]\tvalid's auc: 0.995823\n",
      "[1000]\tvalid's auc: 0.995932\n",
      "[1100]\tvalid's auc: 0.996033\n",
      "[1200]\tvalid's auc: 0.996115\n",
      "[1300]\tvalid's auc: 0.996182\n",
      "[1400]\tvalid's auc: 0.996239\n",
      "[1500]\tvalid's auc: 0.996288\n",
      "[1600]\tvalid's auc: 0.996359\n",
      "[1700]\tvalid's auc: 0.9964\n",
      "[1800]\tvalid's auc: 0.996439\n",
      "[1900]\tvalid's auc: 0.99648\n",
      "[2000]\tvalid's auc: 0.996503\n",
      "[2100]\tvalid's auc: 0.996533\n",
      "[2200]\tvalid's auc: 0.996562\n",
      "[2300]\tvalid's auc: 0.996586\n",
      "[2400]\tvalid's auc: 0.996614\n",
      "[2500]\tvalid's auc: 0.996636\n",
      "[2600]\tvalid's auc: 0.996658\n",
      "[2700]\tvalid's auc: 0.996681\n",
      "[2800]\tvalid's auc: 0.996704\n",
      "[2900]\tvalid's auc: 0.996718\n",
      "[3000]\tvalid's auc: 0.99673\n",
      "[3100]\tvalid's auc: 0.996753\n",
      "[3200]\tvalid's auc: 0.996758\n",
      "[3300]\tvalid's auc: 0.996766\n",
      "[3400]\tvalid's auc: 0.996782\n",
      "[3500]\tvalid's auc: 0.996786\n",
      "[3600]\tvalid's auc: 0.996801\n",
      "[3700]\tvalid's auc: 0.996809\n",
      "Early stopping, best iteration is:\n",
      "[3748]\tvalid's auc: 0.996815\n",
      "Training until validation scores don't improve for 30 rounds.\n",
      "[100]\tvalid's auc: 0.991099\n",
      "[200]\tvalid's auc: 0.993737\n",
      "[300]\tvalid's auc: 0.994503\n",
      "[400]\tvalid's auc: 0.994939\n",
      "[500]\tvalid's auc: 0.995192\n",
      "[600]\tvalid's auc: 0.995386\n",
      "[700]\tvalid's auc: 0.995527\n",
      "[800]\tvalid's auc: 0.995672\n",
      "[900]\tvalid's auc: 0.995784\n",
      "[1000]\tvalid's auc: 0.995904\n",
      "[1100]\tvalid's auc: 0.995988\n",
      "[1200]\tvalid's auc: 0.996065\n",
      "[1300]\tvalid's auc: 0.996125\n",
      "[1400]\tvalid's auc: 0.99619\n",
      "[1500]\tvalid's auc: 0.996242\n",
      "[1600]\tvalid's auc: 0.996294\n",
      "[1700]\tvalid's auc: 0.996346\n",
      "[1800]\tvalid's auc: 0.996384\n",
      "[1900]\tvalid's auc: 0.996418\n",
      "[2000]\tvalid's auc: 0.996452\n",
      "[2100]\tvalid's auc: 0.99649\n",
      "[2200]\tvalid's auc: 0.996524\n",
      "[2300]\tvalid's auc: 0.996554\n",
      "[2400]\tvalid's auc: 0.996586\n",
      "[2500]\tvalid's auc: 0.99662\n",
      "[2600]\tvalid's auc: 0.99664\n",
      "[2700]\tvalid's auc: 0.996656\n",
      "[2800]\tvalid's auc: 0.996681\n",
      "[2900]\tvalid's auc: 0.996699\n",
      "[3000]\tvalid's auc: 0.996717\n",
      "[3100]\tvalid's auc: 0.996735\n",
      "[3200]\tvalid's auc: 0.996754\n",
      "[3300]\tvalid's auc: 0.996764\n",
      "[3400]\tvalid's auc: 0.996785\n",
      "[3500]\tvalid's auc: 0.996799\n",
      "[3600]\tvalid's auc: 0.996814\n",
      "[3700]\tvalid's auc: 0.99683\n",
      "[3800]\tvalid's auc: 0.996844\n",
      "Early stopping, best iteration is:\n",
      "[3849]\tvalid's auc: 0.996852\n",
      "Training until validation scores don't improve for 30 rounds.\n",
      "[100]\tvalid's auc: 0.992207\n",
      "[200]\tvalid's auc: 0.993842\n",
      "[300]\tvalid's auc: 0.994258\n",
      "Early stopping, best iteration is:\n",
      "[303]\tvalid's auc: 0.99426\n",
      "Training until validation scores don't improve for 30 rounds.\n",
      "[100]\tvalid's auc: 0.992198\n",
      "[200]\tvalid's auc: 0.993795\n",
      "[300]\tvalid's auc: 0.994214\n",
      "Early stopping, best iteration is:\n",
      "[315]\tvalid's auc: 0.994233\n",
      "Training until validation scores don't improve for 30 rounds.\n",
      "[100]\tvalid's auc: 0.992206\n",
      "[200]\tvalid's auc: 0.993845\n",
      "[300]\tvalid's auc: 0.994248\n",
      "Early stopping, best iteration is:\n",
      "[323]\tvalid's auc: 0.994281\n"
     ]
    },
    {
     "name": "stderr",
     "output_type": "stream",
     "text": [
      "[Parallel(n_jobs=1)]: Done  90 out of  90 | elapsed: 52.0min finished\n"
     ]
    },
    {
     "name": "stdout",
     "output_type": "stream",
     "text": [
      "Training until validation scores don't improve for 30 rounds.\n",
      "[100]\tvalid's auc: 0.994235\n",
      "[200]\tvalid's auc: 0.996028\n",
      "[300]\tvalid's auc: 0.996603\n",
      "[400]\tvalid's auc: 0.996876\n",
      "[500]\tvalid's auc: 0.99704\n",
      "[600]\tvalid's auc: 0.997179\n",
      "[700]\tvalid's auc: 0.997283\n",
      "[800]\tvalid's auc: 0.997349\n",
      "[900]\tvalid's auc: 0.997397\n",
      "[1000]\tvalid's auc: 0.997448\n",
      "Did not meet early stopping. Best iteration is:\n",
      "[1000]\tvalid's auc: 0.997448\n",
      "Best score reached: 0.996826473586752 with params: {'colsample_bytree': 0.8010803279738216, 'min_child_weight': 1e-05, 'n_estimators': 1000, 'num_leaves': 37, 'reg_alpha': 2, 'reg_lambda': 0.1} \n"
     ]
    }
   ],
   "source": [
    "over_method = ADASYN(sampling_strategy=1)\n",
    "X_resampled, y_resampled = over_method.fit_sample(X_important_features, y)\n",
    "\n",
    "X_train, X_test, y_train, y_test = train_test_split(X_resampled, y_resampled, test_size=0.30, random_state=59)\n",
    "\n",
    "fit_params={\"early_stopping_rounds\":30, \n",
    "            \"eval_metric\" : 'auc', \n",
    "            \"eval_set\" : [(X_test,y_test)],\n",
    "            'eval_names': ['valid'],\n",
    "            'verbose': 100,\n",
    "            'categorical_feature': 'auto'}\n",
    "\n",
    "gs.fit(X_train, y_train, **fit_params)\n",
    "\n",
    "print('Best score reached: {} with params: {} '.format(gs.best_score_, gs.best_params_))"
   ]
  },
  {
   "cell_type": "code",
   "execution_count": 171,
   "metadata": {},
   "outputs": [
    {
     "name": "stdout",
     "output_type": "stream",
     "text": [
      "Fitting 3 folds for each of 30 candidates, totalling 90 fits\n"
     ]
    },
    {
     "name": "stderr",
     "output_type": "stream",
     "text": [
      "[Parallel(n_jobs=1)]: Using backend SequentialBackend with 1 concurrent workers.\n"
     ]
    },
    {
     "name": "stdout",
     "output_type": "stream",
     "text": [
      "Training until validation scores don't improve for 30 rounds.\n",
      "[100]\tvalid's auc: 0.99276\n",
      "[200]\tvalid's auc: 0.994892\n",
      "[300]\tvalid's auc: 0.995552\n",
      "[400]\tvalid's auc: 0.995881\n",
      "[500]\tvalid's auc: 0.996106\n",
      "[600]\tvalid's auc: 0.996246\n",
      "[700]\tvalid's auc: 0.99636\n",
      "[800]\tvalid's auc: 0.996421\n",
      "[900]\tvalid's auc: 0.996475\n",
      "[1000]\tvalid's auc: 0.996517\n",
      "Did not meet early stopping. Best iteration is:\n",
      "[1000]\tvalid's auc: 0.996517\n",
      "Training until validation scores don't improve for 30 rounds.\n",
      "[100]\tvalid's auc: 0.99259\n",
      "[200]\tvalid's auc: 0.994775\n",
      "[300]\tvalid's auc: 0.99547\n",
      "[400]\tvalid's auc: 0.995818\n",
      "[500]\tvalid's auc: 0.996034\n",
      "[600]\tvalid's auc: 0.996168\n",
      "[700]\tvalid's auc: 0.99626\n",
      "[800]\tvalid's auc: 0.996332\n",
      "[900]\tvalid's auc: 0.996392\n",
      "[1000]\tvalid's auc: 0.996442\n",
      "Did not meet early stopping. Best iteration is:\n",
      "[998]\tvalid's auc: 0.996442\n",
      "Training until validation scores don't improve for 30 rounds.\n",
      "[100]\tvalid's auc: 0.992595\n",
      "[200]\tvalid's auc: 0.994792\n",
      "[300]\tvalid's auc: 0.995468\n",
      "[400]\tvalid's auc: 0.995817\n",
      "[500]\tvalid's auc: 0.996046\n",
      "[600]\tvalid's auc: 0.996198\n",
      "[700]\tvalid's auc: 0.996315\n",
      "[800]\tvalid's auc: 0.996387\n",
      "[900]\tvalid's auc: 0.996453\n",
      "[1000]\tvalid's auc: 0.996496\n",
      "Did not meet early stopping. Best iteration is:\n",
      "[1000]\tvalid's auc: 0.996496\n",
      "Training until validation scores don't improve for 30 rounds.\n",
      "Early stopping, best iteration is:\n",
      "[40]\tvalid's auc: 0.921224\n",
      "Training until validation scores don't improve for 30 rounds.\n",
      "Early stopping, best iteration is:\n",
      "[41]\tvalid's auc: 0.920674\n",
      "Training until validation scores don't improve for 30 rounds.\n",
      "Early stopping, best iteration is:\n",
      "[41]\tvalid's auc: 0.920994\n",
      "Training until validation scores don't improve for 30 rounds.\n",
      "Did not meet early stopping. Best iteration is:\n",
      "[7]\tvalid's auc: 0.961335\n",
      "Training until validation scores don't improve for 30 rounds.\n",
      "Did not meet early stopping. Best iteration is:\n",
      "[7]\tvalid's auc: 0.961375\n",
      "Training until validation scores don't improve for 30 rounds.\n",
      "Did not meet early stopping. Best iteration is:\n",
      "[7]\tvalid's auc: 0.960718\n",
      "Training until validation scores don't improve for 30 rounds.\n",
      "Did not meet early stopping. Best iteration is:\n",
      "[4]\tvalid's auc: 0.88299\n",
      "Training until validation scores don't improve for 30 rounds.\n",
      "Did not meet early stopping. Best iteration is:\n",
      "[4]\tvalid's auc: 0.88299\n",
      "Training until validation scores don't improve for 30 rounds.\n",
      "Did not meet early stopping. Best iteration is:\n",
      "[4]\tvalid's auc: 0.882977\n",
      "Training until validation scores don't improve for 30 rounds.\n",
      "[100]\tvalid's auc: 0.993181\n",
      "[200]\tvalid's auc: 0.995263\n",
      "[300]\tvalid's auc: 0.995846\n",
      "[400]\tvalid's auc: 0.996093\n",
      "[500]\tvalid's auc: 0.996262\n",
      "[600]\tvalid's auc: 0.996388\n",
      "[700]\tvalid's auc: 0.996475\n",
      "[800]\tvalid's auc: 0.996555\n",
      "[900]\tvalid's auc: 0.996622\n",
      "[1000]\tvalid's auc: 0.996658\n",
      "[1100]\tvalid's auc: 0.996693\n",
      "[1200]\tvalid's auc: 0.996728\n",
      "[1300]\tvalid's auc: 0.996761\n",
      "[1400]\tvalid's auc: 0.996782\n",
      "[1500]\tvalid's auc: 0.99681\n",
      "[1600]\tvalid's auc: 0.99683\n",
      "[1700]\tvalid's auc: 0.996843\n",
      "Early stopping, best iteration is:\n",
      "[1684]\tvalid's auc: 0.996845\n",
      "Training until validation scores don't improve for 30 rounds.\n",
      "[100]\tvalid's auc: 0.993124\n",
      "[200]\tvalid's auc: 0.995175\n",
      "[300]\tvalid's auc: 0.995773\n",
      "[400]\tvalid's auc: 0.996071\n",
      "[500]\tvalid's auc: 0.996242\n",
      "[600]\tvalid's auc: 0.996364\n",
      "[700]\tvalid's auc: 0.996458\n",
      "[800]\tvalid's auc: 0.996536\n",
      "[900]\tvalid's auc: 0.996589\n",
      "[1000]\tvalid's auc: 0.996636\n",
      "[1100]\tvalid's auc: 0.996693\n",
      "[1200]\tvalid's auc: 0.996726\n",
      "[1300]\tvalid's auc: 0.996745\n",
      "[1400]\tvalid's auc: 0.996759\n",
      "[1500]\tvalid's auc: 0.996779\n",
      "[1600]\tvalid's auc: 0.996802\n",
      "Early stopping, best iteration is:\n",
      "[1638]\tvalid's auc: 0.996812\n",
      "Training until validation scores don't improve for 30 rounds.\n",
      "[100]\tvalid's auc: 0.992994\n",
      "[200]\tvalid's auc: 0.995083\n",
      "[300]\tvalid's auc: 0.995737\n",
      "[400]\tvalid's auc: 0.99603\n",
      "[500]\tvalid's auc: 0.996231\n",
      "[600]\tvalid's auc: 0.996381\n",
      "[700]\tvalid's auc: 0.996474\n",
      "[800]\tvalid's auc: 0.996568\n",
      "[900]\tvalid's auc: 0.996627\n",
      "[1000]\tvalid's auc: 0.996678\n",
      "[1100]\tvalid's auc: 0.996716\n",
      "[1200]\tvalid's auc: 0.996767\n",
      "[1300]\tvalid's auc: 0.996794\n",
      "[1400]\tvalid's auc: 0.996808\n",
      "[1500]\tvalid's auc: 0.996817\n",
      "Early stopping, best iteration is:\n",
      "[1554]\tvalid's auc: 0.996826\n",
      "Training until validation scores don't improve for 30 rounds.\n",
      "Did not meet early stopping. Best iteration is:\n",
      "[10]\tvalid's auc: 0.973075\n",
      "Training until validation scores don't improve for 30 rounds.\n",
      "Did not meet early stopping. Best iteration is:\n",
      "[10]\tvalid's auc: 0.973122\n",
      "Training until validation scores don't improve for 30 rounds.\n",
      "Did not meet early stopping. Best iteration is:\n",
      "[10]\tvalid's auc: 0.973681\n",
      "Training until validation scores don't improve for 30 rounds.\n",
      "[100]\tvalid's auc: 0.991415\n",
      "[200]\tvalid's auc: 0.993214\n",
      "[300]\tvalid's auc: 0.993712\n",
      "Early stopping, best iteration is:\n",
      "[347]\tvalid's auc: 0.993775\n",
      "Training until validation scores don't improve for 30 rounds.\n",
      "[100]\tvalid's auc: 0.991368\n",
      "[200]\tvalid's auc: 0.993118\n",
      "[300]\tvalid's auc: 0.993633\n",
      "Early stopping, best iteration is:\n",
      "[345]\tvalid's auc: 0.993701\n",
      "Training until validation scores don't improve for 30 rounds.\n",
      "[100]\tvalid's auc: 0.991504\n",
      "[200]\tvalid's auc: 0.993182\n",
      "[300]\tvalid's auc: 0.99365\n",
      "Early stopping, best iteration is:\n",
      "[336]\tvalid's auc: 0.993712\n",
      "Training until validation scores don't improve for 30 rounds.\n",
      "[100]\tvalid's auc: 0.99233\n",
      "[200]\tvalid's auc: 0.994521\n",
      "[300]\tvalid's auc: 0.995097\n",
      "[400]\tvalid's auc: 0.995396\n",
      "[500]\tvalid's auc: 0.995578\n",
      "[600]\tvalid's auc: 0.995684\n",
      "[700]\tvalid's auc: 0.995791\n",
      "[800]\tvalid's auc: 0.995866\n",
      "[900]\tvalid's auc: 0.99592\n",
      "[1000]\tvalid's auc: 0.995964\n",
      "[1100]\tvalid's auc: 0.995998\n",
      "[1200]\tvalid's auc: 0.996033\n",
      "[1300]\tvalid's auc: 0.99607\n",
      "[1400]\tvalid's auc: 0.996087\n",
      "[1500]\tvalid's auc: 0.996109\n",
      "Early stopping, best iteration is:\n",
      "[1529]\tvalid's auc: 0.996117\n",
      "Training until validation scores don't improve for 30 rounds.\n",
      "[100]\tvalid's auc: 0.992338\n",
      "[200]\tvalid's auc: 0.994422\n",
      "[300]\tvalid's auc: 0.995025\n",
      "[400]\tvalid's auc: 0.995345\n",
      "[500]\tvalid's auc: 0.995528\n",
      "[600]\tvalid's auc: 0.995655\n",
      "[700]\tvalid's auc: 0.995754\n",
      "[800]\tvalid's auc: 0.995831\n",
      "[900]\tvalid's auc: 0.995887\n",
      "[1000]\tvalid's auc: 0.995941\n",
      "[1100]\tvalid's auc: 0.995983\n",
      "[1200]\tvalid's auc: 0.996014\n",
      "[1300]\tvalid's auc: 0.996052\n",
      "[1400]\tvalid's auc: 0.996081\n",
      "[1500]\tvalid's auc: 0.996102\n",
      "[1600]\tvalid's auc: 0.996123\n",
      "[1700]\tvalid's auc: 0.996142\n",
      "[1800]\tvalid's auc: 0.996159\n",
      "[1900]\tvalid's auc: 0.996177\n",
      "[2000]\tvalid's auc: 0.99619\n",
      "[2100]\tvalid's auc: 0.996201\n",
      "[2200]\tvalid's auc: 0.996206\n",
      "Early stopping, best iteration is:\n",
      "[2188]\tvalid's auc: 0.996209\n",
      "Training until validation scores don't improve for 30 rounds.\n",
      "[100]\tvalid's auc: 0.992353\n",
      "[200]\tvalid's auc: 0.994459\n",
      "[300]\tvalid's auc: 0.995032\n",
      "[400]\tvalid's auc: 0.995347\n",
      "[500]\tvalid's auc: 0.995536\n",
      "[600]\tvalid's auc: 0.99567\n",
      "[700]\tvalid's auc: 0.995772\n",
      "[800]\tvalid's auc: 0.995837\n",
      "[900]\tvalid's auc: 0.995893\n",
      "[1000]\tvalid's auc: 0.995943\n",
      "[1100]\tvalid's auc: 0.995996\n",
      "[1200]\tvalid's auc: 0.996024\n",
      "[1300]\tvalid's auc: 0.99605\n",
      "[1400]\tvalid's auc: 0.996071\n",
      "[1500]\tvalid's auc: 0.996094\n",
      "[1600]\tvalid's auc: 0.996119\n",
      "[1700]\tvalid's auc: 0.996139\n",
      "[1800]\tvalid's auc: 0.996152\n",
      "[1900]\tvalid's auc: 0.996166\n",
      "[2000]\tvalid's auc: 0.996175\n",
      "[2100]\tvalid's auc: 0.996194\n",
      "[2200]\tvalid's auc: 0.996204\n",
      "[2300]\tvalid's auc: 0.996218\n",
      "[2400]\tvalid's auc: 0.996226\n",
      "Early stopping, best iteration is:\n",
      "[2428]\tvalid's auc: 0.996231\n",
      "Training until validation scores don't improve for 30 rounds.\n",
      "Did not meet early stopping. Best iteration is:\n",
      "[10]\tvalid's auc: 0.978103\n",
      "Training until validation scores don't improve for 30 rounds.\n",
      "Did not meet early stopping. Best iteration is:\n",
      "[10]\tvalid's auc: 0.978177\n",
      "Training until validation scores don't improve for 30 rounds.\n",
      "Did not meet early stopping. Best iteration is:\n",
      "[10]\tvalid's auc: 0.977489\n",
      "Training until validation scores don't improve for 30 rounds.\n",
      "[100]\tvalid's auc: 0.989064\n",
      "[200]\tvalid's auc: 0.992523\n",
      "[300]\tvalid's auc: 0.99357\n",
      "[400]\tvalid's auc: 0.994109\n",
      "[500]\tvalid's auc: 0.99447\n",
      "[600]\tvalid's auc: 0.994717\n",
      "[700]\tvalid's auc: 0.994924\n",
      "[800]\tvalid's auc: 0.995069\n",
      "[900]\tvalid's auc: 0.99519\n",
      "[1000]\tvalid's auc: 0.995294\n",
      "Did not meet early stopping. Best iteration is:\n",
      "[1000]\tvalid's auc: 0.995294\n",
      "Training until validation scores don't improve for 30 rounds.\n",
      "[100]\tvalid's auc: 0.989134\n",
      "[200]\tvalid's auc: 0.992562\n",
      "[300]\tvalid's auc: 0.993554\n",
      "[400]\tvalid's auc: 0.994059\n",
      "[500]\tvalid's auc: 0.994401\n",
      "[600]\tvalid's auc: 0.994648\n",
      "[700]\tvalid's auc: 0.994848\n",
      "[800]\tvalid's auc: 0.994994\n",
      "[900]\tvalid's auc: 0.995133\n",
      "[1000]\tvalid's auc: 0.995259\n",
      "Did not meet early stopping. Best iteration is:\n",
      "[1000]\tvalid's auc: 0.995259\n",
      "Training until validation scores don't improve for 30 rounds.\n",
      "[100]\tvalid's auc: 0.989175\n",
      "[200]\tvalid's auc: 0.992519\n",
      "[300]\tvalid's auc: 0.993545\n",
      "[400]\tvalid's auc: 0.994042\n",
      "[500]\tvalid's auc: 0.994394\n",
      "[600]\tvalid's auc: 0.994649\n",
      "[700]\tvalid's auc: 0.994859\n",
      "[800]\tvalid's auc: 0.995032\n",
      "[900]\tvalid's auc: 0.995165\n",
      "[1000]\tvalid's auc: 0.995266\n",
      "Did not meet early stopping. Best iteration is:\n",
      "[1000]\tvalid's auc: 0.995266\n",
      "Training until validation scores don't improve for 30 rounds.\n",
      "[100]\tvalid's auc: 0.991452\n",
      "[200]\tvalid's auc: 0.994026\n",
      "[300]\tvalid's auc: 0.994771\n",
      "[400]\tvalid's auc: 0.995153\n",
      "[500]\tvalid's auc: 0.995408\n",
      "[600]\tvalid's auc: 0.9956\n",
      "[700]\tvalid's auc: 0.995747\n",
      "[800]\tvalid's auc: 0.995851\n",
      "[900]\tvalid's auc: 0.995957\n",
      "[1000]\tvalid's auc: 0.996052\n",
      "Did not meet early stopping. Best iteration is:\n",
      "[1000]\tvalid's auc: 0.996052\n",
      "Training until validation scores don't improve for 30 rounds.\n",
      "[100]\tvalid's auc: 0.991536\n",
      "[200]\tvalid's auc: 0.993922\n",
      "[300]\tvalid's auc: 0.994687\n",
      "[400]\tvalid's auc: 0.995084\n",
      "[500]\tvalid's auc: 0.995336\n",
      "[600]\tvalid's auc: 0.995539\n",
      "[700]\tvalid's auc: 0.995692\n",
      "[800]\tvalid's auc: 0.995834\n",
      "[900]\tvalid's auc: 0.99595\n",
      "[1000]\tvalid's auc: 0.996053\n",
      "Did not meet early stopping. Best iteration is:\n",
      "[1000]\tvalid's auc: 0.996053\n",
      "Training until validation scores don't improve for 30 rounds.\n",
      "[100]\tvalid's auc: 0.991375\n",
      "[200]\tvalid's auc: 0.993911\n",
      "[300]\tvalid's auc: 0.99467\n",
      "[400]\tvalid's auc: 0.995072\n",
      "[500]\tvalid's auc: 0.995329\n",
      "[600]\tvalid's auc: 0.995537\n",
      "[700]\tvalid's auc: 0.995707\n",
      "[800]\tvalid's auc: 0.995834\n",
      "[900]\tvalid's auc: 0.995954\n",
      "[1000]\tvalid's auc: 0.996048\n",
      "Did not meet early stopping. Best iteration is:\n",
      "[1000]\tvalid's auc: 0.996048\n",
      "Training until validation scores don't improve for 30 rounds.\n",
      "[100]\tvalid's auc: 0.986954\n",
      "[200]\tvalid's auc: 0.989831\n",
      "[300]\tvalid's auc: 0.990775\n",
      "[400]\tvalid's auc: 0.991243\n",
      "[500]\tvalid's auc: 0.991536\n",
      "Did not meet early stopping. Best iteration is:\n",
      "[500]\tvalid's auc: 0.991536\n",
      "Training until validation scores don't improve for 30 rounds.\n",
      "[100]\tvalid's auc: 0.987049\n",
      "[200]\tvalid's auc: 0.989745\n",
      "[300]\tvalid's auc: 0.990688\n",
      "[400]\tvalid's auc: 0.991189\n",
      "[500]\tvalid's auc: 0.991544\n",
      "Did not meet early stopping. Best iteration is:\n",
      "[499]\tvalid's auc: 0.991546\n",
      "Training until validation scores don't improve for 30 rounds.\n",
      "[100]\tvalid's auc: 0.987136\n",
      "[200]\tvalid's auc: 0.98978\n",
      "[300]\tvalid's auc: 0.990725\n",
      "[400]\tvalid's auc: 0.991169\n",
      "[500]\tvalid's auc: 0.991488\n",
      "Did not meet early stopping. Best iteration is:\n",
      "[499]\tvalid's auc: 0.991489\n",
      "Training until validation scores don't improve for 30 rounds.\n",
      "[100]\tvalid's auc: 0.993598\n",
      "[200]\tvalid's auc: 0.995711\n",
      "[300]\tvalid's auc: 0.99622\n",
      "[400]\tvalid's auc: 0.996468\n",
      "[500]\tvalid's auc: 0.996613\n",
      "[600]\tvalid's auc: 0.996731\n",
      "[700]\tvalid's auc: 0.996806\n",
      "[800]\tvalid's auc: 0.996844\n",
      "Early stopping, best iteration is:\n",
      "[789]\tvalid's auc: 0.996845\n",
      "Training until validation scores don't improve for 30 rounds.\n",
      "[100]\tvalid's auc: 0.99373\n",
      "[200]\tvalid's auc: 0.995666\n",
      "[300]\tvalid's auc: 0.996166\n",
      "[400]\tvalid's auc: 0.996407\n",
      "[500]\tvalid's auc: 0.996543\n",
      "[600]\tvalid's auc: 0.996662\n",
      "[700]\tvalid's auc: 0.996718\n",
      "[800]\tvalid's auc: 0.99678\n",
      "[900]\tvalid's auc: 0.996824\n",
      "[1000]\tvalid's auc: 0.996866\n",
      "Did not meet early stopping. Best iteration is:\n",
      "[1000]\tvalid's auc: 0.996866\n",
      "Training until validation scores don't improve for 30 rounds.\n",
      "[100]\tvalid's auc: 0.993586\n",
      "[200]\tvalid's auc: 0.995675\n",
      "[300]\tvalid's auc: 0.99616\n",
      "[400]\tvalid's auc: 0.996407\n",
      "[500]\tvalid's auc: 0.996587\n",
      "[600]\tvalid's auc: 0.996714\n",
      "[700]\tvalid's auc: 0.996802\n",
      "[800]\tvalid's auc: 0.996847\n",
      "[900]\tvalid's auc: 0.996892\n",
      "[1000]\tvalid's auc: 0.996919\n",
      "Did not meet early stopping. Best iteration is:\n",
      "[999]\tvalid's auc: 0.99692\n",
      "Training until validation scores don't improve for 30 rounds.\n",
      "[100]\tvalid's auc: 0.991427\n",
      "[200]\tvalid's auc: 0.993512\n",
      "[300]\tvalid's auc: 0.994117\n",
      "[400]\tvalid's auc: 0.994369\n",
      "Early stopping, best iteration is:\n",
      "[398]\tvalid's auc: 0.994369\n",
      "Training until validation scores don't improve for 30 rounds.\n",
      "[100]\tvalid's auc: 0.991415\n",
      "[200]\tvalid's auc: 0.993421\n",
      "[300]\tvalid's auc: 0.99405\n",
      "[400]\tvalid's auc: 0.994307\n",
      "Early stopping, best iteration is:\n",
      "[422]\tvalid's auc: 0.994326\n",
      "Training until validation scores don't improve for 30 rounds.\n",
      "[100]\tvalid's auc: 0.991373\n",
      "[200]\tvalid's auc: 0.993431\n",
      "[300]\tvalid's auc: 0.994026\n",
      "[400]\tvalid's auc: 0.994283\n",
      "Early stopping, best iteration is:\n",
      "[392]\tvalid's auc: 0.994283\n",
      "Training until validation scores don't improve for 30 rounds.\n",
      "Did not meet early stopping. Best iteration is:\n",
      "[7]\tvalid's auc: 0.975833\n",
      "Training until validation scores don't improve for 30 rounds.\n",
      "Did not meet early stopping. Best iteration is:\n",
      "[7]\tvalid's auc: 0.976797\n",
      "Training until validation scores don't improve for 30 rounds.\n",
      "Did not meet early stopping. Best iteration is:\n",
      "[7]\tvalid's auc: 0.977254\n",
      "Training until validation scores don't improve for 30 rounds.\n",
      "[100]\tvalid's auc: 0.993183\n",
      "[200]\tvalid's auc: 0.995228\n",
      "[300]\tvalid's auc: 0.995804\n",
      "[400]\tvalid's auc: 0.996089\n",
      "[500]\tvalid's auc: 0.99626\n",
      "[600]\tvalid's auc: 0.996371\n",
      "[700]\tvalid's auc: 0.996457\n",
      "[800]\tvalid's auc: 0.996529\n",
      "[900]\tvalid's auc: 0.996591\n",
      "[1000]\tvalid's auc: 0.996642\n",
      "Did not meet early stopping. Best iteration is:\n",
      "[993]\tvalid's auc: 0.996642\n",
      "Training until validation scores don't improve for 30 rounds.\n",
      "[100]\tvalid's auc: 0.993061\n",
      "[200]\tvalid's auc: 0.995146\n",
      "[300]\tvalid's auc: 0.995738\n",
      "[400]\tvalid's auc: 0.996051\n",
      "[500]\tvalid's auc: 0.996239\n",
      "[600]\tvalid's auc: 0.996359\n",
      "[700]\tvalid's auc: 0.996456\n",
      "[800]\tvalid's auc: 0.99653\n",
      "[900]\tvalid's auc: 0.996587\n",
      "[1000]\tvalid's auc: 0.996613\n",
      "Did not meet early stopping. Best iteration is:\n",
      "[992]\tvalid's auc: 0.996616\n",
      "Training until validation scores don't improve for 30 rounds.\n",
      "[100]\tvalid's auc: 0.99312\n",
      "[200]\tvalid's auc: 0.995138\n",
      "[300]\tvalid's auc: 0.995745\n",
      "[400]\tvalid's auc: 0.996053\n",
      "[500]\tvalid's auc: 0.99624\n",
      "[600]\tvalid's auc: 0.996372\n",
      "[700]\tvalid's auc: 0.996452\n",
      "[800]\tvalid's auc: 0.996513\n",
      "[900]\tvalid's auc: 0.996576\n",
      "[1000]\tvalid's auc: 0.996616\n",
      "Did not meet early stopping. Best iteration is:\n",
      "[1000]\tvalid's auc: 0.996616\n",
      "Training until validation scores don't improve for 30 rounds.\n",
      "[100]\tvalid's auc: 0.990425\n",
      "[200]\tvalid's auc: 0.99298\n",
      "[300]\tvalid's auc: 0.993795\n",
      "[400]\tvalid's auc: 0.99414\n",
      "Early stopping, best iteration is:\n",
      "[469]\tvalid's auc: 0.994271\n",
      "Training until validation scores don't improve for 30 rounds.\n",
      "[100]\tvalid's auc: 0.990194\n",
      "[200]\tvalid's auc: 0.992856\n",
      "[300]\tvalid's auc: 0.993682\n",
      "[400]\tvalid's auc: 0.994046\n",
      "Early stopping, best iteration is:\n",
      "[456]\tvalid's auc: 0.994171\n",
      "Training until validation scores don't improve for 30 rounds.\n",
      "[100]\tvalid's auc: 0.990299\n",
      "[200]\tvalid's auc: 0.992989\n",
      "[300]\tvalid's auc: 0.993739\n",
      "[400]\tvalid's auc: 0.994098\n",
      "Early stopping, best iteration is:\n",
      "[465]\tvalid's auc: 0.994227\n",
      "Training until validation scores don't improve for 30 rounds.\n",
      "Did not meet early stopping. Best iteration is:\n",
      "[10]\tvalid's auc: 0.971073\n",
      "Training until validation scores don't improve for 30 rounds.\n",
      "Did not meet early stopping. Best iteration is:\n",
      "[10]\tvalid's auc: 0.971383\n",
      "Training until validation scores don't improve for 30 rounds.\n",
      "Did not meet early stopping. Best iteration is:\n",
      "[10]\tvalid's auc: 0.973034\n",
      "Training until validation scores don't improve for 30 rounds.\n",
      "[100]\tvalid's auc: 0.987129\n",
      "[200]\tvalid's auc: 0.989752\n",
      "[300]\tvalid's auc: 0.990593\n",
      "[400]\tvalid's auc: 0.991066\n",
      "[500]\tvalid's auc: 0.991407\n",
      "[600]\tvalid's auc: 0.991661\n",
      "[700]\tvalid's auc: 0.991849\n",
      "[800]\tvalid's auc: 0.992003\n",
      "[900]\tvalid's auc: 0.992116\n",
      "[1000]\tvalid's auc: 0.992208\n",
      "Did not meet early stopping. Best iteration is:\n",
      "[999]\tvalid's auc: 0.992209\n",
      "Training until validation scores don't improve for 30 rounds.\n",
      "[100]\tvalid's auc: 0.987236\n",
      "[200]\tvalid's auc: 0.989779\n",
      "[300]\tvalid's auc: 0.990598\n",
      "[400]\tvalid's auc: 0.991079\n",
      "[500]\tvalid's auc: 0.991395\n",
      "[600]\tvalid's auc: 0.991645\n",
      "[700]\tvalid's auc: 0.991841\n",
      "[800]\tvalid's auc: 0.991984\n",
      "[900]\tvalid's auc: 0.992101\n",
      "[1000]\tvalid's auc: 0.992192\n",
      "Did not meet early stopping. Best iteration is:\n",
      "[999]\tvalid's auc: 0.992193\n",
      "Training until validation scores don't improve for 30 rounds.\n",
      "[100]\tvalid's auc: 0.987191\n",
      "[200]\tvalid's auc: 0.989749\n",
      "[300]\tvalid's auc: 0.990585\n",
      "[400]\tvalid's auc: 0.991024\n",
      "[500]\tvalid's auc: 0.99135\n",
      "[600]\tvalid's auc: 0.991586\n",
      "[700]\tvalid's auc: 0.991804\n",
      "[800]\tvalid's auc: 0.99195\n",
      "[900]\tvalid's auc: 0.992058\n",
      "[1000]\tvalid's auc: 0.992151\n",
      "Did not meet early stopping. Best iteration is:\n",
      "[999]\tvalid's auc: 0.992151\n",
      "Training until validation scores don't improve for 30 rounds.\n",
      "[100]\tvalid's auc: 0.991448\n",
      "[200]\tvalid's auc: 0.993854\n",
      "[300]\tvalid's auc: 0.99459\n",
      "[400]\tvalid's auc: 0.994954\n",
      "[500]\tvalid's auc: 0.995165\n",
      "[600]\tvalid's auc: 0.995304\n",
      "[700]\tvalid's auc: 0.995413\n",
      "[800]\tvalid's auc: 0.995515\n",
      "[900]\tvalid's auc: 0.995588\n",
      "[1000]\tvalid's auc: 0.995643\n",
      "[1100]\tvalid's auc: 0.995696\n",
      "[1200]\tvalid's auc: 0.995744\n",
      "[1300]\tvalid's auc: 0.995787\n",
      "[1400]\tvalid's auc: 0.995823\n",
      "[1500]\tvalid's auc: 0.995858\n",
      "[1600]\tvalid's auc: 0.995884\n",
      "[1700]\tvalid's auc: 0.995904\n",
      "[1800]\tvalid's auc: 0.995928\n",
      "[1900]\tvalid's auc: 0.995943\n",
      "[2000]\tvalid's auc: 0.995962\n",
      "[2100]\tvalid's auc: 0.995978\n",
      "[2200]\tvalid's auc: 0.995991\n",
      "[2300]\tvalid's auc: 0.996011\n",
      "Early stopping, best iteration is:\n",
      "[2361]\tvalid's auc: 0.996026\n",
      "Training until validation scores don't improve for 30 rounds.\n",
      "[100]\tvalid's auc: 0.991273\n",
      "[200]\tvalid's auc: 0.993727\n",
      "[300]\tvalid's auc: 0.994516\n",
      "[400]\tvalid's auc: 0.994883\n",
      "[500]\tvalid's auc: 0.995112\n",
      "[600]\tvalid's auc: 0.995265\n",
      "[700]\tvalid's auc: 0.995378\n",
      "[800]\tvalid's auc: 0.995465\n",
      "[900]\tvalid's auc: 0.99555\n",
      "[1000]\tvalid's auc: 0.995617\n",
      "[1100]\tvalid's auc: 0.995682\n",
      "[1200]\tvalid's auc: 0.995739\n",
      "[1300]\tvalid's auc: 0.995782\n",
      "[1400]\tvalid's auc: 0.995822\n",
      "[1500]\tvalid's auc: 0.995853\n",
      "[1600]\tvalid's auc: 0.995884\n",
      "[1700]\tvalid's auc: 0.995917\n",
      "[1800]\tvalid's auc: 0.995944\n",
      "[1900]\tvalid's auc: 0.995968\n",
      "[2000]\tvalid's auc: 0.995993\n",
      "[2100]\tvalid's auc: 0.996011\n",
      "[2200]\tvalid's auc: 0.996025\n",
      "[2300]\tvalid's auc: 0.996044\n",
      "[2400]\tvalid's auc: 0.996052\n",
      "[2500]\tvalid's auc: 0.996066\n",
      "[2600]\tvalid's auc: 0.996077\n",
      "[2700]\tvalid's auc: 0.996089\n",
      "Early stopping, best iteration is:\n",
      "[2732]\tvalid's auc: 0.996092\n",
      "Training until validation scores don't improve for 30 rounds.\n",
      "[100]\tvalid's auc: 0.991446\n",
      "[200]\tvalid's auc: 0.993828\n",
      "[300]\tvalid's auc: 0.994517\n",
      "[400]\tvalid's auc: 0.994881\n",
      "[500]\tvalid's auc: 0.99511\n",
      "[600]\tvalid's auc: 0.995274\n",
      "[700]\tvalid's auc: 0.99541\n",
      "[800]\tvalid's auc: 0.995513\n",
      "[900]\tvalid's auc: 0.995603\n",
      "[1000]\tvalid's auc: 0.995668\n",
      "[1100]\tvalid's auc: 0.995728\n",
      "[1200]\tvalid's auc: 0.995773\n",
      "[1300]\tvalid's auc: 0.995818\n",
      "[1400]\tvalid's auc: 0.995853\n",
      "[1500]\tvalid's auc: 0.995869\n",
      "[1600]\tvalid's auc: 0.995903\n",
      "[1700]\tvalid's auc: 0.995927\n",
      "[1800]\tvalid's auc: 0.995946\n",
      "[1900]\tvalid's auc: 0.99596\n",
      "[2000]\tvalid's auc: 0.995979\n",
      "Early stopping, best iteration is:\n",
      "[2023]\tvalid's auc: 0.995983\n",
      "Training until validation scores don't improve for 30 rounds.\n",
      "[100]\tvalid's auc: 0.991679\n",
      "[200]\tvalid's auc: 0.993785\n",
      "[300]\tvalid's auc: 0.994423\n",
      "[400]\tvalid's auc: 0.994675\n",
      "Early stopping, best iteration is:\n",
      "[427]\tvalid's auc: 0.994715\n",
      "Training until validation scores don't improve for 30 rounds.\n",
      "[100]\tvalid's auc: 0.991453\n",
      "[200]\tvalid's auc: 0.993677\n",
      "[300]\tvalid's auc: 0.994321\n",
      "[400]\tvalid's auc: 0.994581\n",
      "Early stopping, best iteration is:\n",
      "[448]\tvalid's auc: 0.994646\n",
      "Training until validation scores don't improve for 30 rounds.\n",
      "[100]\tvalid's auc: 0.991595\n",
      "[200]\tvalid's auc: 0.993714\n",
      "[300]\tvalid's auc: 0.994317\n",
      "[400]\tvalid's auc: 0.994596\n",
      "Early stopping, best iteration is:\n",
      "[418]\tvalid's auc: 0.994607\n",
      "Training until validation scores don't improve for 30 rounds.\n",
      "[100]\tvalid's auc: 0.99179\n",
      "[200]\tvalid's auc: 0.993894\n",
      "[300]\tvalid's auc: 0.994582\n",
      "[400]\tvalid's auc: 0.994889\n",
      "[500]\tvalid's auc: 0.995102\n",
      "[600]\tvalid's auc: 0.995233\n",
      "[700]\tvalid's auc: 0.995326\n",
      "[800]\tvalid's auc: 0.995408\n",
      "[900]\tvalid's auc: 0.995478\n",
      "[1000]\tvalid's auc: 0.995535\n",
      "Did not meet early stopping. Best iteration is:\n",
      "[1000]\tvalid's auc: 0.995535\n",
      "Training until validation scores don't improve for 30 rounds.\n",
      "[100]\tvalid's auc: 0.991701\n",
      "[200]\tvalid's auc: 0.993826\n",
      "[300]\tvalid's auc: 0.994492\n",
      "[400]\tvalid's auc: 0.994812\n",
      "[500]\tvalid's auc: 0.995012\n",
      "[600]\tvalid's auc: 0.995139\n",
      "[700]\tvalid's auc: 0.99524\n",
      "[800]\tvalid's auc: 0.995319\n",
      "[900]\tvalid's auc: 0.995384\n",
      "[1000]\tvalid's auc: 0.995436\n",
      "Did not meet early stopping. Best iteration is:\n",
      "[1000]\tvalid's auc: 0.995436\n",
      "Training until validation scores don't improve for 30 rounds.\n",
      "[100]\tvalid's auc: 0.991751\n",
      "[200]\tvalid's auc: 0.993876\n",
      "[300]\tvalid's auc: 0.994515\n",
      "[400]\tvalid's auc: 0.994838\n",
      "[500]\tvalid's auc: 0.995039\n",
      "[600]\tvalid's auc: 0.995159\n",
      "[700]\tvalid's auc: 0.995258\n",
      "[800]\tvalid's auc: 0.995339\n",
      "[900]\tvalid's auc: 0.995408\n",
      "[1000]\tvalid's auc: 0.995466\n",
      "Did not meet early stopping. Best iteration is:\n",
      "[998]\tvalid's auc: 0.995466\n",
      "Training until validation scores don't improve for 30 rounds.\n",
      "[100]\tvalid's auc: 0.987349\n",
      "[200]\tvalid's auc: 0.989883\n",
      "[300]\tvalid's auc: 0.990717\n",
      "[400]\tvalid's auc: 0.991168\n",
      "[500]\tvalid's auc: 0.991499\n",
      "Did not meet early stopping. Best iteration is:\n",
      "[500]\tvalid's auc: 0.991499\n",
      "Training until validation scores don't improve for 30 rounds.\n",
      "[100]\tvalid's auc: 0.987421\n",
      "[200]\tvalid's auc: 0.989915\n",
      "[300]\tvalid's auc: 0.990738\n",
      "[400]\tvalid's auc: 0.991198\n",
      "[500]\tvalid's auc: 0.991513\n",
      "Did not meet early stopping. Best iteration is:\n",
      "[499]\tvalid's auc: 0.991514\n",
      "Training until validation scores don't improve for 30 rounds.\n",
      "[100]\tvalid's auc: 0.987417\n",
      "[200]\tvalid's auc: 0.989868\n",
      "[300]\tvalid's auc: 0.990687\n",
      "[400]\tvalid's auc: 0.991098\n",
      "[500]\tvalid's auc: 0.991426\n",
      "Did not meet early stopping. Best iteration is:\n",
      "[500]\tvalid's auc: 0.991426\n",
      "Training until validation scores don't improve for 30 rounds.\n",
      "[100]\tvalid's auc: 0.993404\n",
      "[200]\tvalid's auc: 0.995261\n",
      "[300]\tvalid's auc: 0.995735\n",
      "[400]\tvalid's auc: 0.996017\n",
      "[500]\tvalid's auc: 0.996171\n",
      "[600]\tvalid's auc: 0.996255\n",
      "Early stopping, best iteration is:\n",
      "[603]\tvalid's auc: 0.996255\n",
      "Training until validation scores don't improve for 30 rounds.\n",
      "[100]\tvalid's auc: 0.993302\n",
      "[200]\tvalid's auc: 0.995158\n",
      "[300]\tvalid's auc: 0.995717\n",
      "[400]\tvalid's auc: 0.995972\n",
      "[500]\tvalid's auc: 0.996133\n",
      "[600]\tvalid's auc: 0.996218\n",
      "Early stopping, best iteration is:\n",
      "[610]\tvalid's auc: 0.996219\n",
      "Training until validation scores don't improve for 30 rounds.\n",
      "[100]\tvalid's auc: 0.993308\n",
      "[200]\tvalid's auc: 0.995132\n",
      "[300]\tvalid's auc: 0.995663\n",
      "[400]\tvalid's auc: 0.995946\n",
      "[500]\tvalid's auc: 0.996123\n",
      "[600]\tvalid's auc: 0.996197\n",
      "Early stopping, best iteration is:\n",
      "[582]\tvalid's auc: 0.996197\n",
      "Training until validation scores don't improve for 30 rounds.\n",
      "[100]\tvalid's auc: 0.992265\n",
      "[200]\tvalid's auc: 0.994392\n",
      "[300]\tvalid's auc: 0.994998\n",
      "[400]\tvalid's auc: 0.99528\n",
      "[500]\tvalid's auc: 0.995462\n",
      "[600]\tvalid's auc: 0.995584\n",
      "[700]\tvalid's auc: 0.995673\n",
      "[800]\tvalid's auc: 0.995753\n",
      "[900]\tvalid's auc: 0.995825\n",
      "[1000]\tvalid's auc: 0.995876\n",
      "[1100]\tvalid's auc: 0.995921\n",
      "[1200]\tvalid's auc: 0.99596\n",
      "[1300]\tvalid's auc: 0.995978\n",
      "[1400]\tvalid's auc: 0.995998\n",
      "[1500]\tvalid's auc: 0.996017\n",
      "[1600]\tvalid's auc: 0.996041\n",
      "[1700]\tvalid's auc: 0.996066\n",
      "Early stopping, best iteration is:\n",
      "[1706]\tvalid's auc: 0.99607\n",
      "Training until validation scores don't improve for 30 rounds.\n",
      "[100]\tvalid's auc: 0.99209\n",
      "[200]\tvalid's auc: 0.994318\n",
      "[300]\tvalid's auc: 0.994946\n",
      "[400]\tvalid's auc: 0.995222\n",
      "[500]\tvalid's auc: 0.995392\n",
      "[600]\tvalid's auc: 0.99552\n",
      "[700]\tvalid's auc: 0.995615\n",
      "[800]\tvalid's auc: 0.995692\n",
      "[900]\tvalid's auc: 0.995751\n",
      "[1000]\tvalid's auc: 0.995796\n",
      "[1100]\tvalid's auc: 0.995842\n",
      "[1200]\tvalid's auc: 0.995885\n",
      "[1300]\tvalid's auc: 0.995927\n",
      "[1400]\tvalid's auc: 0.995966\n",
      "[1500]\tvalid's auc: 0.995991\n",
      "[1600]\tvalid's auc: 0.996016\n",
      "[1700]\tvalid's auc: 0.996044\n",
      "[1800]\tvalid's auc: 0.99607\n",
      "[1900]\tvalid's auc: 0.996087\n",
      "[2000]\tvalid's auc: 0.996108\n",
      "Early stopping, best iteration is:\n",
      "[2019]\tvalid's auc: 0.996112\n",
      "Training until validation scores don't improve for 30 rounds.\n",
      "[100]\tvalid's auc: 0.992185\n",
      "[200]\tvalid's auc: 0.994377\n",
      "[300]\tvalid's auc: 0.994958\n",
      "[400]\tvalid's auc: 0.99524\n",
      "[500]\tvalid's auc: 0.995403\n",
      "[600]\tvalid's auc: 0.995546\n",
      "[700]\tvalid's auc: 0.995638\n",
      "[800]\tvalid's auc: 0.995716\n",
      "[900]\tvalid's auc: 0.995785\n",
      "[1000]\tvalid's auc: 0.995831\n",
      "[1100]\tvalid's auc: 0.995882\n",
      "[1200]\tvalid's auc: 0.995926\n",
      "[1300]\tvalid's auc: 0.995957\n",
      "[1400]\tvalid's auc: 0.995987\n",
      "[1500]\tvalid's auc: 0.996012\n",
      "[1600]\tvalid's auc: 0.996034\n",
      "[1700]\tvalid's auc: 0.99605\n",
      "[1800]\tvalid's auc: 0.996077\n",
      "[1900]\tvalid's auc: 0.996099\n",
      "[2000]\tvalid's auc: 0.996114\n",
      "[2100]\tvalid's auc: 0.996135\n",
      "[2200]\tvalid's auc: 0.996146\n",
      "Early stopping, best iteration is:\n",
      "[2220]\tvalid's auc: 0.996148\n",
      "Training until validation scores don't improve for 30 rounds.\n",
      "Did not meet early stopping. Best iteration is:\n",
      "[10]\tvalid's auc: 0.985972\n",
      "Training until validation scores don't improve for 30 rounds.\n",
      "Did not meet early stopping. Best iteration is:\n",
      "[10]\tvalid's auc: 0.986144\n",
      "Training until validation scores don't improve for 30 rounds.\n",
      "Did not meet early stopping. Best iteration is:\n",
      "[10]\tvalid's auc: 0.986038\n",
      "Training until validation scores don't improve for 30 rounds.\n",
      "[100]\tvalid's auc: 0.987609\n",
      "[200]\tvalid's auc: 0.99\n",
      "[300]\tvalid's auc: 0.990845\n",
      "[400]\tvalid's auc: 0.991284\n",
      "[500]\tvalid's auc: 0.991569\n",
      "[600]\tvalid's auc: 0.991808\n",
      "[700]\tvalid's auc: 0.991983\n",
      "[800]\tvalid's auc: 0.99212\n",
      "[900]\tvalid's auc: 0.992241\n",
      "[1000]\tvalid's auc: 0.992335\n",
      "Did not meet early stopping. Best iteration is:\n",
      "[1000]\tvalid's auc: 0.992335\n",
      "Training until validation scores don't improve for 30 rounds.\n",
      "[100]\tvalid's auc: 0.987469\n",
      "[200]\tvalid's auc: 0.989865\n",
      "[300]\tvalid's auc: 0.990805\n",
      "[400]\tvalid's auc: 0.991265\n",
      "[500]\tvalid's auc: 0.991586\n",
      "[600]\tvalid's auc: 0.991799\n",
      "[700]\tvalid's auc: 0.99199\n",
      "[800]\tvalid's auc: 0.992136\n",
      "[900]\tvalid's auc: 0.992248\n",
      "[1000]\tvalid's auc: 0.992335\n",
      "Did not meet early stopping. Best iteration is:\n",
      "[997]\tvalid's auc: 0.992336\n",
      "Training until validation scores don't improve for 30 rounds.\n",
      "[100]\tvalid's auc: 0.987562\n",
      "[200]\tvalid's auc: 0.989934\n",
      "[300]\tvalid's auc: 0.990794\n",
      "[400]\tvalid's auc: 0.991228\n",
      "[500]\tvalid's auc: 0.991544\n",
      "[600]\tvalid's auc: 0.991785\n",
      "[700]\tvalid's auc: 0.991958\n",
      "[800]\tvalid's auc: 0.992109\n",
      "[900]\tvalid's auc: 0.992209\n",
      "[1000]\tvalid's auc: 0.9923\n",
      "Did not meet early stopping. Best iteration is:\n",
      "[1000]\tvalid's auc: 0.9923\n",
      "Training until validation scores don't improve for 30 rounds.\n",
      "[100]\tvalid's auc: 0.993236\n",
      "[200]\tvalid's auc: 0.995381\n",
      "[300]\tvalid's auc: 0.995901\n",
      "[400]\tvalid's auc: 0.996154\n",
      "[500]\tvalid's auc: 0.996296\n",
      "[600]\tvalid's auc: 0.996402\n",
      "[700]\tvalid's auc: 0.99651\n",
      "[800]\tvalid's auc: 0.996587\n",
      "[900]\tvalid's auc: 0.996635\n",
      "[1000]\tvalid's auc: 0.996693\n",
      "Did not meet early stopping. Best iteration is:\n",
      "[999]\tvalid's auc: 0.996694\n",
      "Training until validation scores don't improve for 30 rounds.\n",
      "[100]\tvalid's auc: 0.993191\n",
      "[200]\tvalid's auc: 0.995311\n",
      "[300]\tvalid's auc: 0.995866\n",
      "[400]\tvalid's auc: 0.996128\n",
      "[500]\tvalid's auc: 0.996308\n",
      "[600]\tvalid's auc: 0.996446\n",
      "[700]\tvalid's auc: 0.996543\n",
      "[800]\tvalid's auc: 0.99662\n",
      "[900]\tvalid's auc: 0.996667\n",
      "[1000]\tvalid's auc: 0.996714\n",
      "Did not meet early stopping. Best iteration is:\n",
      "[1000]\tvalid's auc: 0.996714\n",
      "Training until validation scores don't improve for 30 rounds.\n",
      "[100]\tvalid's auc: 0.993182\n",
      "[200]\tvalid's auc: 0.99529\n",
      "[300]\tvalid's auc: 0.995834\n",
      "[400]\tvalid's auc: 0.996132\n",
      "[500]\tvalid's auc: 0.996306\n",
      "[600]\tvalid's auc: 0.996422\n",
      "[700]\tvalid's auc: 0.996532\n",
      "[800]\tvalid's auc: 0.99661\n",
      "[900]\tvalid's auc: 0.996678\n",
      "[1000]\tvalid's auc: 0.996745\n",
      "Did not meet early stopping. Best iteration is:\n",
      "[998]\tvalid's auc: 0.996747\n",
      "Training until validation scores don't improve for 30 rounds.\n",
      "[100]\tvalid's auc: 0.990471\n",
      "[200]\tvalid's auc: 0.993303\n",
      "[300]\tvalid's auc: 0.994205\n",
      "[400]\tvalid's auc: 0.994672\n",
      "[500]\tvalid's auc: 0.994961\n",
      "[600]\tvalid's auc: 0.995163\n",
      "[700]\tvalid's auc: 0.995327\n",
      "[800]\tvalid's auc: 0.995484\n",
      "[900]\tvalid's auc: 0.995605\n",
      "[1000]\tvalid's auc: 0.995708\n",
      "[1100]\tvalid's auc: 0.995791\n",
      "[1200]\tvalid's auc: 0.995868\n",
      "[1300]\tvalid's auc: 0.995947\n",
      "[1400]\tvalid's auc: 0.996003\n",
      "[1500]\tvalid's auc: 0.996051\n",
      "[1600]\tvalid's auc: 0.996105\n",
      "[1700]\tvalid's auc: 0.996149\n",
      "[1800]\tvalid's auc: 0.996184\n",
      "[1900]\tvalid's auc: 0.996221\n",
      "[2000]\tvalid's auc: 0.99626\n",
      "[2100]\tvalid's auc: 0.996291\n",
      "[2200]\tvalid's auc: 0.996325\n",
      "[2300]\tvalid's auc: 0.99635\n",
      "[2400]\tvalid's auc: 0.996375\n",
      "[2500]\tvalid's auc: 0.996402\n",
      "[2600]\tvalid's auc: 0.996429\n",
      "[2700]\tvalid's auc: 0.996447\n",
      "[2800]\tvalid's auc: 0.996471\n",
      "[2900]\tvalid's auc: 0.996491\n",
      "[3000]\tvalid's auc: 0.99651\n",
      "Early stopping, best iteration is:\n",
      "[3069]\tvalid's auc: 0.996518\n",
      "Training until validation scores don't improve for 30 rounds.\n",
      "[100]\tvalid's auc: 0.990339\n",
      "[200]\tvalid's auc: 0.9932\n",
      "[300]\tvalid's auc: 0.994078\n",
      "[400]\tvalid's auc: 0.994572\n",
      "[500]\tvalid's auc: 0.994871\n",
      "[600]\tvalid's auc: 0.995074\n",
      "[700]\tvalid's auc: 0.995242\n",
      "[800]\tvalid's auc: 0.995404\n",
      "[900]\tvalid's auc: 0.995528\n",
      "[1000]\tvalid's auc: 0.995634\n",
      "[1100]\tvalid's auc: 0.995743\n",
      "[1200]\tvalid's auc: 0.995827\n",
      "[1300]\tvalid's auc: 0.995911\n",
      "[1400]\tvalid's auc: 0.995969\n",
      "[1500]\tvalid's auc: 0.996019\n",
      "[1600]\tvalid's auc: 0.99608\n",
      "[1700]\tvalid's auc: 0.99612\n",
      "[1800]\tvalid's auc: 0.996162\n",
      "[1900]\tvalid's auc: 0.996192\n",
      "[2000]\tvalid's auc: 0.996244\n",
      "[2100]\tvalid's auc: 0.996282\n",
      "[2200]\tvalid's auc: 0.996305\n",
      "[2300]\tvalid's auc: 0.996333\n",
      "[2400]\tvalid's auc: 0.996369\n",
      "[2500]\tvalid's auc: 0.996394\n",
      "[2600]\tvalid's auc: 0.996413\n",
      "[2700]\tvalid's auc: 0.996441\n",
      "[2800]\tvalid's auc: 0.996463\n",
      "[2900]\tvalid's auc: 0.996481\n",
      "[3000]\tvalid's auc: 0.996505\n",
      "[3100]\tvalid's auc: 0.996522\n",
      "[3200]\tvalid's auc: 0.996539\n",
      "[3300]\tvalid's auc: 0.996555\n",
      "[3400]\tvalid's auc: 0.996572\n",
      "[3500]\tvalid's auc: 0.996585\n",
      "Early stopping, best iteration is:\n",
      "[3497]\tvalid's auc: 0.996585\n",
      "Training until validation scores don't improve for 30 rounds.\n",
      "[100]\tvalid's auc: 0.990193\n",
      "[200]\tvalid's auc: 0.993159\n",
      "[300]\tvalid's auc: 0.994024\n",
      "[400]\tvalid's auc: 0.994515\n",
      "[500]\tvalid's auc: 0.994809\n",
      "[600]\tvalid's auc: 0.99503\n",
      "[700]\tvalid's auc: 0.995219\n",
      "[800]\tvalid's auc: 0.995371\n",
      "[900]\tvalid's auc: 0.995483\n",
      "[1000]\tvalid's auc: 0.995579\n",
      "[1100]\tvalid's auc: 0.995699\n",
      "[1200]\tvalid's auc: 0.995783\n",
      "[1300]\tvalid's auc: 0.995845\n",
      "[1400]\tvalid's auc: 0.995936\n",
      "[1500]\tvalid's auc: 0.995994\n",
      "[1600]\tvalid's auc: 0.996059\n",
      "[1700]\tvalid's auc: 0.996115\n",
      "[1800]\tvalid's auc: 0.996153\n",
      "[1900]\tvalid's auc: 0.996188\n",
      "[2000]\tvalid's auc: 0.996233\n",
      "[2100]\tvalid's auc: 0.996279\n",
      "[2200]\tvalid's auc: 0.996308\n",
      "[2300]\tvalid's auc: 0.996338\n",
      "[2400]\tvalid's auc: 0.996378\n",
      "[2500]\tvalid's auc: 0.9964\n",
      "[2600]\tvalid's auc: 0.996419\n",
      "[2700]\tvalid's auc: 0.996444\n",
      "[2800]\tvalid's auc: 0.996465\n",
      "[2900]\tvalid's auc: 0.996479\n",
      "Early stopping, best iteration is:\n",
      "[2922]\tvalid's auc: 0.996484\n",
      "Training until validation scores don't improve for 30 rounds.\n",
      "[100]\tvalid's auc: 0.991639\n",
      "[200]\tvalid's auc: 0.993446\n",
      "[300]\tvalid's auc: 0.993923\n",
      "Early stopping, best iteration is:\n",
      "[330]\tvalid's auc: 0.993953\n",
      "Training until validation scores don't improve for 30 rounds.\n",
      "[100]\tvalid's auc: 0.991463\n",
      "[200]\tvalid's auc: 0.993309\n",
      "[300]\tvalid's auc: 0.9938\n",
      "Early stopping, best iteration is:\n",
      "[305]\tvalid's auc: 0.993808\n",
      "Training until validation scores don't improve for 30 rounds.\n",
      "[100]\tvalid's auc: 0.991583\n",
      "[200]\tvalid's auc: 0.993345\n",
      "[300]\tvalid's auc: 0.993819\n",
      "Early stopping, best iteration is:\n",
      "[308]\tvalid's auc: 0.993826\n"
     ]
    },
    {
     "name": "stderr",
     "output_type": "stream",
     "text": [
      "[Parallel(n_jobs=1)]: Done  90 out of  90 | elapsed: 37.3min finished\n"
     ]
    },
    {
     "name": "stdout",
     "output_type": "stream",
     "text": [
      "Training until validation scores don't improve for 30 rounds.\n",
      "[100]\tvalid's auc: 0.993134\n",
      "[200]\tvalid's auc: 0.995285\n",
      "[300]\tvalid's auc: 0.995913\n",
      "[400]\tvalid's auc: 0.996219\n",
      "[500]\tvalid's auc: 0.996445\n",
      "[600]\tvalid's auc: 0.996589\n",
      "[700]\tvalid's auc: 0.9967\n",
      "[800]\tvalid's auc: 0.996794\n",
      "[900]\tvalid's auc: 0.996885\n",
      "[1000]\tvalid's auc: 0.996954\n",
      "[1100]\tvalid's auc: 0.997002\n",
      "[1200]\tvalid's auc: 0.997052\n",
      "[1300]\tvalid's auc: 0.997107\n",
      "[1400]\tvalid's auc: 0.997145\n",
      "[1500]\tvalid's auc: 0.997174\n",
      "[1600]\tvalid's auc: 0.997208\n",
      "[1700]\tvalid's auc: 0.997236\n",
      "[1800]\tvalid's auc: 0.997263\n",
      "[1900]\tvalid's auc: 0.997276\n",
      "[2000]\tvalid's auc: 0.997293\n",
      "Early stopping, best iteration is:\n",
      "[2035]\tvalid's auc: 0.997297\n",
      "Best score reached: 0.9968319658005136 with params: {'colsample_bytree': 0.8196039247657971, 'min_child_weight': 0.01, 'n_estimators': 5000, 'num_leaves': 28, 'reg_alpha': 2, 'reg_lambda': 5} \n"
     ]
    }
   ],
   "source": [
    "over_method = SMOTE(sampling_strategy='all')\n",
    "X_resampled, y_resampled = over_method.fit_sample(X_important_features, y)\n",
    "\n",
    "X_train, X_test, y_train, y_test = train_test_split(X_resampled, y_resampled, test_size=0.30, random_state=59)\n",
    "\n",
    "fit_params={\"early_stopping_rounds\":30, \n",
    "            \"eval_metric\" : 'auc', \n",
    "            \"eval_set\" : [(X_test,y_test)],\n",
    "            'eval_names': ['valid'],\n",
    "            'verbose': 100,\n",
    "            'categorical_feature': 'auto'}\n",
    "\n",
    "gs.fit(X_train, y_train, **fit_params)\n",
    "\n",
    "print('Best score reached: {} with params: {} '.format(gs.best_score_, gs.best_params_))\n",
    "\n"
   ]
  },
  {
   "cell_type": "code",
   "execution_count": null,
   "metadata": {},
   "outputs": [],
   "source": [
    "def plot_learning_curve(estimator1,X, y, ylim=None, cv=None, n_jobs=1, train_sizes=np.linspace(.1, 1.0, 5)):\n",
    "    f, ax1 = plt.subplots(1,1, figsize=(10,7), sharey=True)\n",
    "    if ylim is not None:\n",
    "        plt.ylim(*ylim)\n",
    "    train_sizes, train_scores, test_scores = learning_curve(\n",
    "        estimator1, X, y, cv=cv, n_jobs=n_jobs, train_sizes=train_sizes)\n",
    "    train_scores_mean = np.mean(train_scores, axis=1)\n",
    "    train_scores_std = np.std(train_scores, axis=1)\n",
    "    test_scores_mean = np.mean(test_scores, axis=1)\n",
    "    test_scores_std = np.std(test_scores, axis=1)\n",
    "    ax1.fill_between(train_sizes, train_scores_mean - train_scores_std,\n",
    "                     train_scores_mean + train_scores_std, alpha=0.1,\n",
    "                     color=\"#ff9124\")\n",
    "    ax1.fill_between(train_sizes, test_scores_mean - test_scores_std,\n",
    "                     test_scores_mean + test_scores_std, alpha=0.1, color=\"#2492ff\")\n",
    "    ax1.plot(train_sizes, train_scores_mean, 'o-', color=\"#ff9124\",\n",
    "             label=\"Training score\")\n",
    "    ax1.plot(train_sizes, test_scores_mean, 'o-', color=\"#2492ff\",\n",
    "             label=\"Cross-validation score\")\n",
    "    ax1.set_title(\"LightGM Classifier Learning Curve\", fontsize=14)\n",
    "    ax1.set_xlabel('Training size (m)')\n",
    "    ax1.set_ylabel('Score')\n",
    "    ax1.grid(True)\n",
    "    ax1.legend(loc=\"best\")\n",
    "    plt.show()"
   ]
  },
  {
   "cell_type": "code",
   "execution_count": 158,
   "metadata": {},
   "outputs": [
    {
     "name": "stdout",
     "output_type": "stream",
     "text": [
      "ADASYN\n"
     ]
    },
    {
     "data": {
      "image/png": "[encoded data removed]",
      "text/plain": [
       "<Figure size 720x504 with 1 Axes>"
      ]
     },
     "metadata": {
      "needs_background": "light"
     },
     "output_type": "display_data"
    },
    {
     "name": "stdout",
     "output_type": "stream",
     "text": [
      "SMOTE\n"
     ]
    },
    {
     "data": {
      "image/png": "[encoded data removed]",
      "text/plain": [
       "<Figure size 720x504 with 1 Axes>"
      ]
     },
     "metadata": {
      "needs_background": "light"
     },
     "output_type": "display_data"
    }
   ],
   "source": [
    "for method_name, method in oversampling_lgm.items():\n",
    "    print(method_name)\n",
    "    \n",
    "over_method = method\n",
    "X_resampled, y_resampled = over_method.fit_sample(X_important_features, y)\n",
    "\n",
    "X_train, X_test, y_train, y_test = train_test_split(X_resampled, y_resampled, test_size=0.30, random_state=59)\n",
    "\n",
    "lgbc=LGBMClassifier(n_estimators=500, learning_rate=0.05, num_leaves=32, colsample_bytree=0.2,\n",
    "                    reg_alpha=3, reg_lambda=1, min_split_gain=0.01, min_child_weight=40)\n",
    "\n",
    "cv = ShuffleSplit(n_splits=10, test_size=0.3, random_state=42)\n",
    "plot_learning_curve(lgbc, X_train, y_train, (0.96, 1), cv=cv, n_jobs=4)\n",
    "    "
   ]
  },
  {
   "cell_type": "code",
   "execution_count": 539,
   "metadata": {},
   "outputs": [],
   "source": [
    "# specify your configurations as a dict\n",
    "params = {\n",
    "    'task': 'train',\n",
    "    'boosting_type': 'gbdt',\n",
    "    'objective': 'binary',\n",
    "    'metric': {'binary_logloss', 'auc'},\n",
    "    'metric_freq': 1,\n",
    "    'is_training_metric': True,\n",
    "    'max_bin': 255,\n",
    "    'learning_rate': 0.1,\n",
    "    'num_leaves': 63,\n",
    "    'tree_learner': 'serial',\n",
    "    'feature_fraction': 0.8,\n",
    "    'bagging_fraction': 0.8,\n",
    "    'bagging_freq': 5,\n",
    "    'min_data_in_leaf': 50,\n",
    "    'min_sum_hessian_in_leaf': 5,\n",
    "    'is_enable_sparse': True,\n",
    "    'use_two_round_loading': False,\n",
    "    'is_save_binary_file': False,\n",
    "    'num_machines': 1,\n",
    "    'local_listen_port': 12400,\n",
    "    'verbose': 0,\n",
    "    'subsample_for_bin': 200000,\n",
    "    'min_child_samples': 20,\n",
    "    'min_child_weight': 0.001,\n",
    "    'min_split_gain': 0.0,\n",
    "    'colsample_bytree': 1.0,\n",
    "    'reg_alpha': 0.0,\n",
    "    'reg_lambda': 0.0\n",
    "}"
   ]
  },
  {
   "cell_type": "code",
   "execution_count": 547,
   "metadata": {},
   "outputs": [
    {
     "name": "stdout",
     "output_type": "stream",
     "text": [
      "[1]\tvalid_0's auc: 0.978379\tvalid_0's binary_logloss: 0.613338\n",
      "[2]\tvalid_0's auc: 0.985048\tvalid_0's binary_logloss: 0.547542\n",
      "[3]\tvalid_0's auc: 0.985389\tvalid_0's binary_logloss: 0.492257\n",
      "[4]\tvalid_0's auc: 0.986054\tvalid_0's binary_logloss: 0.445211\n",
      "[5]\tvalid_0's auc: 0.987171\tvalid_0's binary_logloss: 0.404284\n",
      "[6]\tvalid_0's auc: 0.987255\tvalid_0's binary_logloss: 0.370183\n",
      "[7]\tvalid_0's auc: 0.987457\tvalid_0's binary_logloss: 0.34033\n",
      "[8]\tvalid_0's auc: 0.988043\tvalid_0's binary_logloss: 0.313175\n",
      "[9]\tvalid_0's auc: 0.988784\tvalid_0's binary_logloss: 0.290443\n",
      "[10]\tvalid_0's auc: 0.989072\tvalid_0's binary_logloss: 0.269166\n",
      "[11]\tvalid_0's auc: 0.989245\tvalid_0's binary_logloss: 0.250969\n",
      "[12]\tvalid_0's auc: 0.989597\tvalid_0's binary_logloss: 0.23475\n",
      "[13]\tvalid_0's auc: 0.989705\tvalid_0's binary_logloss: 0.220455\n",
      "[14]\tvalid_0's auc: 0.99039\tvalid_0's binary_logloss: 0.207752\n",
      "[15]\tvalid_0's auc: 0.990477\tvalid_0's binary_logloss: 0.195939\n",
      "[16]\tvalid_0's auc: 0.99072\tvalid_0's binary_logloss: 0.185331\n",
      "[17]\tvalid_0's auc: 0.990881\tvalid_0's binary_logloss: 0.175778\n",
      "[18]\tvalid_0's auc: 0.991347\tvalid_0's binary_logloss: 0.167446\n",
      "[19]\tvalid_0's auc: 0.991446\tvalid_0's binary_logloss: 0.159547\n",
      "[20]\tvalid_0's auc: 0.991567\tvalid_0's binary_logloss: 0.152417\n",
      "[21]\tvalid_0's auc: 0.991742\tvalid_0's binary_logloss: 0.14608\n",
      "[22]\tvalid_0's auc: 0.991818\tvalid_0's binary_logloss: 0.140018\n",
      "[23]\tvalid_0's auc: 0.991939\tvalid_0's binary_logloss: 0.134968\n",
      "[24]\tvalid_0's auc: 0.992058\tvalid_0's binary_logloss: 0.130319\n",
      "[25]\tvalid_0's auc: 0.992157\tvalid_0's binary_logloss: 0.126039\n",
      "[26]\tvalid_0's auc: 0.992248\tvalid_0's binary_logloss: 0.121893\n",
      "[27]\tvalid_0's auc: 0.992408\tvalid_0's binary_logloss: 0.118247\n",
      "[28]\tvalid_0's auc: 0.992767\tvalid_0's binary_logloss: 0.114685\n",
      "[29]\tvalid_0's auc: 0.992831\tvalid_0's binary_logloss: 0.111868\n",
      "[30]\tvalid_0's auc: 0.99293\tvalid_0's binary_logloss: 0.108943\n",
      "[31]\tvalid_0's auc: 0.993086\tvalid_0's binary_logloss: 0.10609\n",
      "[32]\tvalid_0's auc: 0.993203\tvalid_0's binary_logloss: 0.103673\n",
      "[33]\tvalid_0's auc: 0.993291\tvalid_0's binary_logloss: 0.101388\n",
      "[34]\tvalid_0's auc: 0.993383\tvalid_0's binary_logloss: 0.0995328\n",
      "[35]\tvalid_0's auc: 0.993433\tvalid_0's binary_logloss: 0.0976336\n",
      "[36]\tvalid_0's auc: 0.993527\tvalid_0's binary_logloss: 0.0956978\n",
      "[37]\tvalid_0's auc: 0.993599\tvalid_0's binary_logloss: 0.0939344\n",
      "[38]\tvalid_0's auc: 0.993768\tvalid_0's binary_logloss: 0.0922104\n",
      "[39]\tvalid_0's auc: 0.993904\tvalid_0's binary_logloss: 0.0905916\n",
      "[40]\tvalid_0's auc: 0.99403\tvalid_0's binary_logloss: 0.0891201\n",
      "[41]\tvalid_0's auc: 0.99415\tvalid_0's binary_logloss: 0.0876139\n",
      "[42]\tvalid_0's auc: 0.994208\tvalid_0's binary_logloss: 0.0863407\n",
      "[43]\tvalid_0's auc: 0.994333\tvalid_0's binary_logloss: 0.0850797\n",
      "[44]\tvalid_0's auc: 0.994441\tvalid_0's binary_logloss: 0.0836641\n",
      "[45]\tvalid_0's auc: 0.994533\tvalid_0's binary_logloss: 0.0825661\n",
      "[46]\tvalid_0's auc: 0.994594\tvalid_0's binary_logloss: 0.0815447\n",
      "[47]\tvalid_0's auc: 0.994657\tvalid_0's binary_logloss: 0.0805943\n",
      "[48]\tvalid_0's auc: 0.994738\tvalid_0's binary_logloss: 0.0796544\n",
      "[49]\tvalid_0's auc: 0.994791\tvalid_0's binary_logloss: 0.0787822\n",
      "[50]\tvalid_0's auc: 0.994832\tvalid_0's binary_logloss: 0.0780858\n",
      "[51]\tvalid_0's auc: 0.99491\tvalid_0's binary_logloss: 0.0772039\n",
      "[52]\tvalid_0's auc: 0.994982\tvalid_0's binary_logloss: 0.0764892\n",
      "[53]\tvalid_0's auc: 0.995053\tvalid_0's binary_logloss: 0.0758733\n",
      "[54]\tvalid_0's auc: 0.99511\tvalid_0's binary_logloss: 0.0753233\n",
      "[55]\tvalid_0's auc: 0.995142\tvalid_0's binary_logloss: 0.0748203\n",
      "[56]\tvalid_0's auc: 0.995212\tvalid_0's binary_logloss: 0.0741497\n",
      "[57]\tvalid_0's auc: 0.995259\tvalid_0's binary_logloss: 0.0735542\n",
      "[58]\tvalid_0's auc: 0.99533\tvalid_0's binary_logloss: 0.0729042\n",
      "[59]\tvalid_0's auc: 0.995382\tvalid_0's binary_logloss: 0.0723067\n",
      "[60]\tvalid_0's auc: 0.995415\tvalid_0's binary_logloss: 0.0718079\n",
      "[61]\tvalid_0's auc: 0.995473\tvalid_0's binary_logloss: 0.0712529\n",
      "[62]\tvalid_0's auc: 0.995532\tvalid_0's binary_logloss: 0.0707154\n",
      "[63]\tvalid_0's auc: 0.995592\tvalid_0's binary_logloss: 0.0701534\n",
      "[64]\tvalid_0's auc: 0.995636\tvalid_0's binary_logloss: 0.069671\n",
      "[65]\tvalid_0's auc: 0.995667\tvalid_0's binary_logloss: 0.0692814\n",
      "[66]\tvalid_0's auc: 0.99571\tvalid_0's binary_logloss: 0.0688424\n",
      "[67]\tvalid_0's auc: 0.995742\tvalid_0's binary_logloss: 0.0684208\n",
      "[68]\tvalid_0's auc: 0.995763\tvalid_0's binary_logloss: 0.0680812\n",
      "[69]\tvalid_0's auc: 0.9958\tvalid_0's binary_logloss: 0.0676587\n",
      "[70]\tvalid_0's auc: 0.995836\tvalid_0's binary_logloss: 0.0672609\n",
      "[71]\tvalid_0's auc: 0.995868\tvalid_0's binary_logloss: 0.0669437\n",
      "[72]\tvalid_0's auc: 0.995905\tvalid_0's binary_logloss: 0.0666083\n",
      "[73]\tvalid_0's auc: 0.995923\tvalid_0's binary_logloss: 0.066265\n",
      "[74]\tvalid_0's auc: 0.995946\tvalid_0's binary_logloss: 0.0659645\n",
      "[75]\tvalid_0's auc: 0.995973\tvalid_0's binary_logloss: 0.0657154\n",
      "[76]\tvalid_0's auc: 0.996005\tvalid_0's binary_logloss: 0.0653556\n",
      "[77]\tvalid_0's auc: 0.996023\tvalid_0's binary_logloss: 0.0651215\n",
      "[78]\tvalid_0's auc: 0.996033\tvalid_0's binary_logloss: 0.0649153\n",
      "[79]\tvalid_0's auc: 0.996056\tvalid_0's binary_logloss: 0.0646723\n",
      "[80]\tvalid_0's auc: 0.996085\tvalid_0's binary_logloss: 0.0644037\n",
      "[81]\tvalid_0's auc: 0.996106\tvalid_0's binary_logloss: 0.0641903\n",
      "[82]\tvalid_0's auc: 0.996131\tvalid_0's binary_logloss: 0.063909\n",
      "[83]\tvalid_0's auc: 0.996142\tvalid_0's binary_logloss: 0.0637278\n",
      "[84]\tvalid_0's auc: 0.996163\tvalid_0's binary_logloss: 0.0635397\n",
      "[85]\tvalid_0's auc: 0.996185\tvalid_0's binary_logloss: 0.0633386\n",
      "[86]\tvalid_0's auc: 0.99621\tvalid_0's binary_logloss: 0.0631028\n",
      "[87]\tvalid_0's auc: 0.99622\tvalid_0's binary_logloss: 0.062901\n",
      "[88]\tvalid_0's auc: 0.996241\tvalid_0's binary_logloss: 0.0626419\n",
      "[89]\tvalid_0's auc: 0.996263\tvalid_0's binary_logloss: 0.0624248\n",
      "[90]\tvalid_0's auc: 0.996282\tvalid_0's binary_logloss: 0.0622217\n",
      "[91]\tvalid_0's auc: 0.996312\tvalid_0's binary_logloss: 0.0619601\n",
      "[92]\tvalid_0's auc: 0.99634\tvalid_0's binary_logloss: 0.0617554\n",
      "[93]\tvalid_0's auc: 0.99635\tvalid_0's binary_logloss: 0.0615643\n",
      "[94]\tvalid_0's auc: 0.996379\tvalid_0's binary_logloss: 0.0613262\n",
      "[95]\tvalid_0's auc: 0.996405\tvalid_0's binary_logloss: 0.0611784\n",
      "[96]\tvalid_0's auc: 0.996416\tvalid_0's binary_logloss: 0.0610292\n",
      "[97]\tvalid_0's auc: 0.996435\tvalid_0's binary_logloss: 0.0608555\n",
      "[98]\tvalid_0's auc: 0.99645\tvalid_0's binary_logloss: 0.0607111\n",
      "[99]\tvalid_0's auc: 0.996456\tvalid_0's binary_logloss: 0.0605673\n",
      "[100]\tvalid_0's auc: 0.996467\tvalid_0's binary_logloss: 0.060433\n",
      "Fitting 5 folds for each of 1 candidates, totalling 5 fits\n"
     ]
    },
    {
     "name": "stderr",
     "output_type": "stream",
     "text": [
      "[Parallel(n_jobs=-1)]: Using backend LokyBackend with 4 concurrent workers.\n"
     ]
    },
    {
     "ename": "TypeError",
     "evalue": "unsupported operand type(s) for +: 'set' and 'list'",
     "output_type": "error",
     "traceback": [
      "\u001b[1;31m---------------------------------------------------------------------------\u001b[0m",
      "\u001b[1;31m_RemoteTraceback\u001b[0m                          Traceback (most recent call last)",
      "\u001b[1;31m_RemoteTraceback\u001b[0m: \n\"\"\"\nTraceback (most recent call last):\n  File \"C:\\Users\\eleni.tziaferi\\AppData\\Local\\Continuum\\anaconda3\\lib\\site-packages\\joblib\\externals\\loky\\process_executor.py\", line 418, in _process_worker\n    r = call_item()\n  File \"C:\\Users\\eleni.tziaferi\\AppData\\Local\\Continuum\\anaconda3\\lib\\site-packages\\joblib\\externals\\loky\\process_executor.py\", line 272, in __call__\n    return self.fn(*self.args, **self.kwargs)\n  File \"C:\\Users\\eleni.tziaferi\\AppData\\Local\\Continuum\\anaconda3\\lib\\site-packages\\joblib\\_parallel_backends.py\", line 567, in __call__\n    return self.func(*args, **kwargs)\n  File \"C:\\Users\\eleni.tziaferi\\AppData\\Local\\Continuum\\anaconda3\\lib\\site-packages\\joblib\\parallel.py\", line 225, in __call__\n    for func, args, kwargs in self.items]\n  File \"C:\\Users\\eleni.tziaferi\\AppData\\Local\\Continuum\\anaconda3\\lib\\site-packages\\joblib\\parallel.py\", line 225, in <listcomp>\n    for func, args, kwargs in self.items]\n  File \"C:\\Users\\eleni.tziaferi\\AppData\\Local\\Continuum\\anaconda3\\lib\\site-packages\\sklearn\\model_selection\\_validation.py\", line 514, in _fit_and_score\n    estimator.fit(X_train, y_train, **fit_params)\n  File \"C:\\Users\\eleni.tziaferi\\AppData\\Local\\Continuum\\anaconda3\\lib\\site-packages\\lightgbm\\sklearn.py\", line 742, in fit\n    callbacks=callbacks)\n  File \"C:\\Users\\eleni.tziaferi\\AppData\\Local\\Continuum\\anaconda3\\lib\\site-packages\\lightgbm\\sklearn.py\", line 480, in fit\n    params['metric'] = set(original_metric + eval_metric)\nTypeError: unsupported operand type(s) for +: 'set' and 'list'\n\"\"\"",
      "\nThe above exception was the direct cause of the following exception:\n",
      "\u001b[1;31mTypeError\u001b[0m                                 Traceback (most recent call last)",
      "\u001b[1;32m<ipython-input-547-2b7a5bc22995>\u001b[0m in \u001b[0;36m<module>\u001b[1;34m\u001b[0m\n\u001b[0;32m     42\u001b[0m \u001b[0mgrid\u001b[0m \u001b[1;33m=\u001b[0m \u001b[0mGridSearchCV\u001b[0m\u001b[1;33m(\u001b[0m\u001b[0mmdl\u001b[0m\u001b[1;33m,\u001b[0m \u001b[0mgridParams\u001b[0m\u001b[1;33m,\u001b[0m \u001b[0mverbose\u001b[0m\u001b[1;33m=\u001b[0m\u001b[1;36m2\u001b[0m\u001b[1;33m,\u001b[0m \u001b[0mcv\u001b[0m\u001b[1;33m=\u001b[0m\u001b[1;36m5\u001b[0m\u001b[1;33m,\u001b[0m \u001b[0mscoring\u001b[0m\u001b[1;33m=\u001b[0m\u001b[0mscoring\u001b[0m\u001b[1;33m,\u001b[0m \u001b[0mn_jobs\u001b[0m\u001b[1;33m=\u001b[0m\u001b[1;33m-\u001b[0m\u001b[1;36m1\u001b[0m\u001b[1;33m,\u001b[0m \u001b[0mrefit\u001b[0m\u001b[1;33m=\u001b[0m\u001b[1;34m'AUC'\u001b[0m\u001b[1;33m)\u001b[0m\u001b[1;33m\u001b[0m\u001b[0m\n\u001b[0;32m     43\u001b[0m \u001b[1;31m# Run the grid\u001b[0m\u001b[1;33m\u001b[0m\u001b[1;33m\u001b[0m\u001b[0m\n\u001b[1;32m---> 44\u001b[1;33m \u001b[0mgrid\u001b[0m\u001b[1;33m.\u001b[0m\u001b[0mfit\u001b[0m\u001b[1;33m(\u001b[0m\u001b[0mX\u001b[0m\u001b[1;33m,\u001b[0m \u001b[0my\u001b[0m\u001b[1;33m)\u001b[0m\u001b[1;33m\u001b[0m\u001b[0m\n\u001b[0m\u001b[0;32m     45\u001b[0m \u001b[1;33m\u001b[0m\u001b[0m\n\u001b[0;32m     46\u001b[0m \u001b[0mprint\u001b[0m\u001b[1;33m(\u001b[0m\u001b[1;34m'Best parameters found by grid search are:'\u001b[0m\u001b[1;33m,\u001b[0m \u001b[0mgrid\u001b[0m\u001b[1;33m.\u001b[0m\u001b[0mbest_params_\u001b[0m\u001b[1;33m)\u001b[0m\u001b[1;33m\u001b[0m\u001b[0m\n",
      "\u001b[1;32m~\\AppData\\Local\\Continuum\\anaconda3\\lib\\site-packages\\sklearn\\model_selection\\_search.py\u001b[0m in \u001b[0;36mfit\u001b[1;34m(self, X, y, groups, **fit_params)\u001b[0m\n\u001b[0;32m    685\u001b[0m                 \u001b[1;32mreturn\u001b[0m \u001b[0mresults\u001b[0m\u001b[1;33m\u001b[0m\u001b[0m\n\u001b[0;32m    686\u001b[0m \u001b[1;33m\u001b[0m\u001b[0m\n\u001b[1;32m--> 687\u001b[1;33m             \u001b[0mself\u001b[0m\u001b[1;33m.\u001b[0m\u001b[0m_run_search\u001b[0m\u001b[1;33m(\u001b[0m\u001b[0mevaluate_candidates\u001b[0m\u001b[1;33m)\u001b[0m\u001b[1;33m\u001b[0m\u001b[0m\n\u001b[0m\u001b[0;32m    688\u001b[0m \u001b[1;33m\u001b[0m\u001b[0m\n\u001b[0;32m    689\u001b[0m         \u001b[1;31m# For multi-metric evaluation, store the best_index_, best_params_ and\u001b[0m\u001b[1;33m\u001b[0m\u001b[1;33m\u001b[0m\u001b[0m\n",
      "\u001b[1;32m~\\AppData\\Local\\Continuum\\anaconda3\\lib\\site-packages\\sklearn\\model_selection\\_search.py\u001b[0m in \u001b[0;36m_run_search\u001b[1;34m(self, evaluate_candidates)\u001b[0m\n\u001b[0;32m   1146\u001b[0m     \u001b[1;32mdef\u001b[0m \u001b[0m_run_search\u001b[0m\u001b[1;33m(\u001b[0m\u001b[0mself\u001b[0m\u001b[1;33m,\u001b[0m \u001b[0mevaluate_candidates\u001b[0m\u001b[1;33m)\u001b[0m\u001b[1;33m:\u001b[0m\u001b[1;33m\u001b[0m\u001b[0m\n\u001b[0;32m   1147\u001b[0m         \u001b[1;34m\"\"\"Search all candidates in param_grid\"\"\"\u001b[0m\u001b[1;33m\u001b[0m\u001b[0m\n\u001b[1;32m-> 1148\u001b[1;33m         \u001b[0mevaluate_candidates\u001b[0m\u001b[1;33m(\u001b[0m\u001b[0mParameterGrid\u001b[0m\u001b[1;33m(\u001b[0m\u001b[0mself\u001b[0m\u001b[1;33m.\u001b[0m\u001b[0mparam_grid\u001b[0m\u001b[1;33m)\u001b[0m\u001b[1;33m)\u001b[0m\u001b[1;33m\u001b[0m\u001b[0m\n\u001b[0m\u001b[0;32m   1149\u001b[0m \u001b[1;33m\u001b[0m\u001b[0m\n\u001b[0;32m   1150\u001b[0m \u001b[1;33m\u001b[0m\u001b[0m\n",
      "\u001b[1;32m~\\AppData\\Local\\Continuum\\anaconda3\\lib\\site-packages\\sklearn\\model_selection\\_search.py\u001b[0m in \u001b[0;36mevaluate_candidates\u001b[1;34m(candidate_params)\u001b[0m\n\u001b[0;32m    664\u001b[0m                                \u001b[1;32mfor\u001b[0m \u001b[0mparameters\u001b[0m\u001b[1;33m,\u001b[0m \u001b[1;33m(\u001b[0m\u001b[0mtrain\u001b[0m\u001b[1;33m,\u001b[0m \u001b[0mtest\u001b[0m\u001b[1;33m)\u001b[0m\u001b[1;33m\u001b[0m\u001b[0m\n\u001b[0;32m    665\u001b[0m                                in product(candidate_params,\n\u001b[1;32m--> 666\u001b[1;33m                                           cv.split(X, y, groups)))\n\u001b[0m\u001b[0;32m    667\u001b[0m \u001b[1;33m\u001b[0m\u001b[0m\n\u001b[0;32m    668\u001b[0m                 \u001b[1;32mif\u001b[0m \u001b[0mlen\u001b[0m\u001b[1;33m(\u001b[0m\u001b[0mout\u001b[0m\u001b[1;33m)\u001b[0m \u001b[1;33m<\u001b[0m \u001b[1;36m1\u001b[0m\u001b[1;33m:\u001b[0m\u001b[1;33m\u001b[0m\u001b[0m\n",
      "\u001b[1;32m~\\AppData\\Local\\Continuum\\anaconda3\\lib\\site-packages\\joblib\\parallel.py\u001b[0m in \u001b[0;36m__call__\u001b[1;34m(self, iterable)\u001b[0m\n\u001b[0;32m    932\u001b[0m \u001b[1;33m\u001b[0m\u001b[0m\n\u001b[0;32m    933\u001b[0m             \u001b[1;32mwith\u001b[0m \u001b[0mself\u001b[0m\u001b[1;33m.\u001b[0m\u001b[0m_backend\u001b[0m\u001b[1;33m.\u001b[0m\u001b[0mretrieval_context\u001b[0m\u001b[1;33m(\u001b[0m\u001b[1;33m)\u001b[0m\u001b[1;33m:\u001b[0m\u001b[1;33m\u001b[0m\u001b[0m\n\u001b[1;32m--> 934\u001b[1;33m                 \u001b[0mself\u001b[0m\u001b[1;33m.\u001b[0m\u001b[0mretrieve\u001b[0m\u001b[1;33m(\u001b[0m\u001b[1;33m)\u001b[0m\u001b[1;33m\u001b[0m\u001b[0m\n\u001b[0m\u001b[0;32m    935\u001b[0m             \u001b[1;31m# Make sure that we get a last message telling us we are done\u001b[0m\u001b[1;33m\u001b[0m\u001b[1;33m\u001b[0m\u001b[0m\n\u001b[0;32m    936\u001b[0m             \u001b[0melapsed_time\u001b[0m \u001b[1;33m=\u001b[0m \u001b[0mtime\u001b[0m\u001b[1;33m.\u001b[0m\u001b[0mtime\u001b[0m\u001b[1;33m(\u001b[0m\u001b[1;33m)\u001b[0m \u001b[1;33m-\u001b[0m \u001b[0mself\u001b[0m\u001b[1;33m.\u001b[0m\u001b[0m_start_time\u001b[0m\u001b[1;33m\u001b[0m\u001b[0m\n",
      "\u001b[1;32m~\\AppData\\Local\\Continuum\\anaconda3\\lib\\site-packages\\joblib\\parallel.py\u001b[0m in \u001b[0;36mretrieve\u001b[1;34m(self)\u001b[0m\n\u001b[0;32m    831\u001b[0m             \u001b[1;32mtry\u001b[0m\u001b[1;33m:\u001b[0m\u001b[1;33m\u001b[0m\u001b[0m\n\u001b[0;32m    832\u001b[0m                 \u001b[1;32mif\u001b[0m \u001b[0mgetattr\u001b[0m\u001b[1;33m(\u001b[0m\u001b[0mself\u001b[0m\u001b[1;33m.\u001b[0m\u001b[0m_backend\u001b[0m\u001b[1;33m,\u001b[0m \u001b[1;34m'supports_timeout'\u001b[0m\u001b[1;33m,\u001b[0m \u001b[1;32mFalse\u001b[0m\u001b[1;33m)\u001b[0m\u001b[1;33m:\u001b[0m\u001b[1;33m\u001b[0m\u001b[0m\n\u001b[1;32m--> 833\u001b[1;33m                     \u001b[0mself\u001b[0m\u001b[1;33m.\u001b[0m\u001b[0m_output\u001b[0m\u001b[1;33m.\u001b[0m\u001b[0mextend\u001b[0m\u001b[1;33m(\u001b[0m\u001b[0mjob\u001b[0m\u001b[1;33m.\u001b[0m\u001b[0mget\u001b[0m\u001b[1;33m(\u001b[0m\u001b[0mtimeout\u001b[0m\u001b[1;33m=\u001b[0m\u001b[0mself\u001b[0m\u001b[1;33m.\u001b[0m\u001b[0mtimeout\u001b[0m\u001b[1;33m)\u001b[0m\u001b[1;33m)\u001b[0m\u001b[1;33m\u001b[0m\u001b[0m\n\u001b[0m\u001b[0;32m    834\u001b[0m                 \u001b[1;32melse\u001b[0m\u001b[1;33m:\u001b[0m\u001b[1;33m\u001b[0m\u001b[0m\n\u001b[0;32m    835\u001b[0m                     \u001b[0mself\u001b[0m\u001b[1;33m.\u001b[0m\u001b[0m_output\u001b[0m\u001b[1;33m.\u001b[0m\u001b[0mextend\u001b[0m\u001b[1;33m(\u001b[0m\u001b[0mjob\u001b[0m\u001b[1;33m.\u001b[0m\u001b[0mget\u001b[0m\u001b[1;33m(\u001b[0m\u001b[1;33m)\u001b[0m\u001b[1;33m)\u001b[0m\u001b[1;33m\u001b[0m\u001b[0m\n",
      "\u001b[1;32m~\\AppData\\Local\\Continuum\\anaconda3\\lib\\site-packages\\joblib\\_parallel_backends.py\u001b[0m in \u001b[0;36mwrap_future_result\u001b[1;34m(future, timeout)\u001b[0m\n\u001b[0;32m    519\u001b[0m         AsyncResults.get from multiprocessing.\"\"\"\n\u001b[0;32m    520\u001b[0m         \u001b[1;32mtry\u001b[0m\u001b[1;33m:\u001b[0m\u001b[1;33m\u001b[0m\u001b[0m\n\u001b[1;32m--> 521\u001b[1;33m             \u001b[1;32mreturn\u001b[0m \u001b[0mfuture\u001b[0m\u001b[1;33m.\u001b[0m\u001b[0mresult\u001b[0m\u001b[1;33m(\u001b[0m\u001b[0mtimeout\u001b[0m\u001b[1;33m=\u001b[0m\u001b[0mtimeout\u001b[0m\u001b[1;33m)\u001b[0m\u001b[1;33m\u001b[0m\u001b[0m\n\u001b[0m\u001b[0;32m    522\u001b[0m         \u001b[1;32mexcept\u001b[0m \u001b[0mLokyTimeoutError\u001b[0m\u001b[1;33m:\u001b[0m\u001b[1;33m\u001b[0m\u001b[0m\n\u001b[0;32m    523\u001b[0m             \u001b[1;32mraise\u001b[0m \u001b[0mTimeoutError\u001b[0m\u001b[1;33m(\u001b[0m\u001b[1;33m)\u001b[0m\u001b[1;33m\u001b[0m\u001b[0m\n",
      "\u001b[1;32m~\\AppData\\Local\\Continuum\\anaconda3\\lib\\concurrent\\futures\\_base.py\u001b[0m in \u001b[0;36mresult\u001b[1;34m(self, timeout)\u001b[0m\n\u001b[0;32m    430\u001b[0m                 \u001b[1;32mraise\u001b[0m \u001b[0mCancelledError\u001b[0m\u001b[1;33m(\u001b[0m\u001b[1;33m)\u001b[0m\u001b[1;33m\u001b[0m\u001b[0m\n\u001b[0;32m    431\u001b[0m             \u001b[1;32melif\u001b[0m \u001b[0mself\u001b[0m\u001b[1;33m.\u001b[0m\u001b[0m_state\u001b[0m \u001b[1;33m==\u001b[0m \u001b[0mFINISHED\u001b[0m\u001b[1;33m:\u001b[0m\u001b[1;33m\u001b[0m\u001b[0m\n\u001b[1;32m--> 432\u001b[1;33m                 \u001b[1;32mreturn\u001b[0m \u001b[0mself\u001b[0m\u001b[1;33m.\u001b[0m\u001b[0m__get_result\u001b[0m\u001b[1;33m(\u001b[0m\u001b[1;33m)\u001b[0m\u001b[1;33m\u001b[0m\u001b[0m\n\u001b[0m\u001b[0;32m    433\u001b[0m             \u001b[1;32melse\u001b[0m\u001b[1;33m:\u001b[0m\u001b[1;33m\u001b[0m\u001b[0m\n\u001b[0;32m    434\u001b[0m                 \u001b[1;32mraise\u001b[0m \u001b[0mTimeoutError\u001b[0m\u001b[1;33m(\u001b[0m\u001b[1;33m)\u001b[0m\u001b[1;33m\u001b[0m\u001b[0m\n",
      "\u001b[1;32m~\\AppData\\Local\\Continuum\\anaconda3\\lib\\concurrent\\futures\\_base.py\u001b[0m in \u001b[0;36m__get_result\u001b[1;34m(self)\u001b[0m\n\u001b[0;32m    382\u001b[0m     \u001b[1;32mdef\u001b[0m \u001b[0m__get_result\u001b[0m\u001b[1;33m(\u001b[0m\u001b[0mself\u001b[0m\u001b[1;33m)\u001b[0m\u001b[1;33m:\u001b[0m\u001b[1;33m\u001b[0m\u001b[0m\n\u001b[0;32m    383\u001b[0m         \u001b[1;32mif\u001b[0m \u001b[0mself\u001b[0m\u001b[1;33m.\u001b[0m\u001b[0m_exception\u001b[0m\u001b[1;33m:\u001b[0m\u001b[1;33m\u001b[0m\u001b[0m\n\u001b[1;32m--> 384\u001b[1;33m             \u001b[1;32mraise\u001b[0m \u001b[0mself\u001b[0m\u001b[1;33m.\u001b[0m\u001b[0m_exception\u001b[0m\u001b[1;33m\u001b[0m\u001b[0m\n\u001b[0m\u001b[0;32m    385\u001b[0m         \u001b[1;32melse\u001b[0m\u001b[1;33m:\u001b[0m\u001b[1;33m\u001b[0m\u001b[0m\n\u001b[0;32m    386\u001b[0m             \u001b[1;32mreturn\u001b[0m \u001b[0mself\u001b[0m\u001b[1;33m.\u001b[0m\u001b[0m_result\u001b[0m\u001b[1;33m\u001b[0m\u001b[0m\n",
      "\u001b[1;31mTypeError\u001b[0m: unsupported operand type(s) for +: 'set' and 'list'"
     ]
    }
   ],
   "source": [
    "import lightgbm as lgb\n",
    "over_method = ADASYN(sampling_strategy=1)\n",
    "X_resampled, y_resampled = over_method.fit_sample(X_important_features, y)\n",
    "X_train, X_test, y_train, y_test = train_test_split(X_resampled, y_resampled, test_size=0.30, random_state=59)\n",
    "\n",
    "lgb_train = lgb.Dataset(X_train, y_train)\n",
    "lgb_eval = lgb.Dataset(X_test, y_test, reference=lgb_train)\n",
    "\n",
    "# train\n",
    "gbm = lgb.train(params,\n",
    "                lgb_train,\n",
    "                valid_sets=lgb_eval)\n",
    "\n",
    "gridParams = {\n",
    "    'learning_rate': [ 0.1],\n",
    "    'num_leaves': [63],\n",
    "    'boosting_type' : ['gbdt'],\n",
    "    'objective' : ['binary']\n",
    "}\n",
    "\n",
    "mdl = lgb.LGBMClassifier(\n",
    "    task = params['task'],\n",
    "    metric = params['metric'],\n",
    "    metric_freq = params['metric_freq'],\n",
    "    is_training_metric = params['is_training_metric'],\n",
    "    max_bin = params['max_bin'],\n",
    "    tree_learner = params['tree_learner'],\n",
    "    feature_fraction = params['feature_fraction'],\n",
    "    bagging_fraction = params['bagging_fraction'],\n",
    "    bagging_freq = params['bagging_freq'],\n",
    "    min_data_in_leaf = params['min_data_in_leaf'],\n",
    "    min_sum_hessian_in_leaf = params['min_sum_hessian_in_leaf'],\n",
    "    is_enable_sparse = params['is_enable_sparse'],\n",
    "    use_two_round_loading = params['use_two_round_loading'],\n",
    "    is_save_binary_file = params['is_save_binary_file'],\n",
    "    n_jobs = -1\n",
    ")\n",
    "\n",
    "scoring = {'AUC': 'roc_auc'}\n",
    "\n",
    "# Create the grid\n",
    "grid = GridSearchCV(mdl, gridParams, verbose=2, cv=5, scoring=scoring, n_jobs=-1, refit='AUC')\n",
    "# Run the grid\n",
    "grid.fit(X, y)\n",
    "\n",
    "print('Best parameters found by grid search are:', grid.best_params_)\n",
    "print('Best score found by grid search is:', grid.best_score_)"
   ]
  },
  {
   "cell_type": "code",
   "execution_count": null,
   "metadata": {},
   "outputs": [],
   "source": []
  }
 ],
 "metadata": {
  "kernelspec": {
   "display_name": "Python 3",
   "language": "python",
   "name": "python3"
  },
  "language_info": {
   "codemirror_mode": {
    "name": "ipython",
    "version": 3
   },
   "file_extension": ".py",
   "mimetype": "text/x-python",
   "name": "python",
   "nbconvert_exporter": "python",
   "pygments_lexer": "ipython3",
   "version": "3.7.6"
  }
 },
 "nbformat": 4,
 "nbformat_minor": 2
}
